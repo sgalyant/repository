{
 "cells": [
  {
   "cell_type": "markdown",
   "metadata": {},
   "source": [
    "# Анализ оттока клиентов банка"
   ]
  },
  {
   "attachments": {},
   "cell_type": "markdown",
   "metadata": {},
   "source": [
    "Исследование состоит из следющих частей:\n",
    "* [загрузка и изучение данных](#section1):\n",
    "    * [предобработка данных](#section2);\n",
    "    * [изучение данных](#section3);\n",
    "    * [вывод по разделу](#section4);\n",
    "* [предобработка данных](#section5):\n",
    "    * [корректировка названий полей](#section6);\n",
    "    * [изменение типов данных](#section7);\n",
    "    * [кодирование данных поля `gender`](#section8);\n",
    "    * [изучение пропущенных значений](#section9);\n",
    "    * [выявление дубликатов](#section10);  \n",
    "    * [выявление аномалий](#section11);\n",
    "    * [вывод по разделу](#section12);\n",
    "* [исследовательский анализ данных](#section13):\n",
    "    * [анализ средних значений и изучение признаков](#section14);\n",
    "    * [анализ средних значений и изучение признаков по группам в зависимости от оттока](#section15);\n",
    "    * [анализ распределения количественных признаков](#section16);\n",
    "    * [анализ матрицы корреляций](#section17);\n",
    "    * [составление портрета пользователя в зависимости от признака оттока](#section18);\n",
    "    * [вывод по разделу](#section19);\n",
    "* [проверка гипотез](#section20):\n",
    "    * [формулировка гипотез](#section21);\n",
    "    * [различие средних значений баллов кредитного скоринга у оставшихся клиентов, и клиентов, ушедших в отток](#section22);\n",
    "    * [различие средних значений баланса у оставшихся клиентов, и клиентов, ушедших в отток](#section23);\n",
    "    * [различие средней оценочной зарплаты оставшихся клиентов, и клиентов, ушедших в отток](#section24);\n",
    "    * [вывод по разделу](#section25); \n",
    "* [сегментация сегментов](#section26);\n",
    "* [рекомендации](#section27)."
   ]
  },
  {
   "cell_type": "markdown",
   "metadata": {},
   "source": [
    "<a id='section1'></a>\n",
    "## Загрузка и изучение данных<a id='section1'></a>"
   ]
  },
  {
   "attachments": {},
   "cell_type": "markdown",
   "metadata": {},
   "source": [
    "<a id='section2'></a>\n",
    "### Загрузка данных"
   ]
  },
  {
   "cell_type": "markdown",
   "metadata": {},
   "source": [
    "Загрузим необходимые библиотеки:"
   ]
  },
  {
   "cell_type": "code",
   "execution_count": 1,
   "metadata": {},
   "outputs": [],
   "source": [
    "import pandas as pd\n",
    "import numpy as np\n",
    "import seaborn as sns\n",
    "import matplotlib.pyplot as plt\n",
    "import math\n",
    "from datetime import datetime, timedelta\n",
    "from scipy import stats as st"
   ]
  },
  {
   "cell_type": "markdown",
   "metadata": {},
   "source": [
    "Для корректного отображения чисел скорретируем формат:"
   ]
  },
  {
   "cell_type": "code",
   "execution_count": 2,
   "metadata": {},
   "outputs": [],
   "source": [
    "pd.options.display.float_format ='{:,.2f}'.format"
   ]
  },
  {
   "cell_type": "markdown",
   "metadata": {},
   "source": [
    "Загрузим данные и сохраним их в переменную `bank_scrooge`:"
   ]
  },
  {
   "cell_type": "code",
   "execution_count": 3,
   "metadata": {},
   "outputs": [],
   "source": [
    "bank_scrooge = pd.read_csv(path)"
   ]
  },
  {
   "attachments": {},
   "cell_type": "markdown",
   "metadata": {},
   "source": [
    "<a id='section3'></a>\n",
    "### Изучение данных"
   ]
  },
  {
   "cell_type": "markdown",
   "metadata": {},
   "source": [
    "Выведем первые 10 строк датафрейма `bank_scrooge` и получим информацию о датафрейме:"
   ]
  },
  {
   "cell_type": "code",
   "execution_count": 4,
   "metadata": {},
   "outputs": [
    {
     "data": {
      "text/html": [
       "<div>\n",
       "<style scoped>\n",
       "    .dataframe tbody tr th:only-of-type {\n",
       "        vertical-align: middle;\n",
       "    }\n",
       "\n",
       "    .dataframe tbody tr th {\n",
       "        vertical-align: top;\n",
       "    }\n",
       "\n",
       "    .dataframe thead th {\n",
       "        text-align: right;\n",
       "    }\n",
       "</style>\n",
       "<table border=\"1\" class=\"dataframe\">\n",
       "  <thead>\n",
       "    <tr style=\"text-align: right;\">\n",
       "      <th></th>\n",
       "      <th>USERID</th>\n",
       "      <th>score</th>\n",
       "      <th>city</th>\n",
       "      <th>gender</th>\n",
       "      <th>age</th>\n",
       "      <th>equity</th>\n",
       "      <th>balance</th>\n",
       "      <th>products</th>\n",
       "      <th>credit_card</th>\n",
       "      <th>last_activity</th>\n",
       "      <th>EST_SALARY</th>\n",
       "      <th>churn</th>\n",
       "    </tr>\n",
       "  </thead>\n",
       "  <tbody>\n",
       "    <tr>\n",
       "      <th>0</th>\n",
       "      <td>183012</td>\n",
       "      <td>850.00</td>\n",
       "      <td>Рыбинск</td>\n",
       "      <td>Ж</td>\n",
       "      <td>25</td>\n",
       "      <td>1</td>\n",
       "      <td>59,214.82</td>\n",
       "      <td>2</td>\n",
       "      <td>0</td>\n",
       "      <td>1</td>\n",
       "      <td>75,719.14</td>\n",
       "      <td>1</td>\n",
       "    </tr>\n",
       "    <tr>\n",
       "      <th>1</th>\n",
       "      <td>146556</td>\n",
       "      <td>861.00</td>\n",
       "      <td>Рыбинск</td>\n",
       "      <td>Ж</td>\n",
       "      <td>37</td>\n",
       "      <td>5</td>\n",
       "      <td>850,594.33</td>\n",
       "      <td>3</td>\n",
       "      <td>1</td>\n",
       "      <td>0</td>\n",
       "      <td>86,621.77</td>\n",
       "      <td>0</td>\n",
       "    </tr>\n",
       "    <tr>\n",
       "      <th>2</th>\n",
       "      <td>120722</td>\n",
       "      <td>892.00</td>\n",
       "      <td>Рыбинск</td>\n",
       "      <td>Ж</td>\n",
       "      <td>30</td>\n",
       "      <td>0</td>\n",
       "      <td>NaN</td>\n",
       "      <td>1</td>\n",
       "      <td>1</td>\n",
       "      <td>1</td>\n",
       "      <td>107,683.34</td>\n",
       "      <td>0</td>\n",
       "    </tr>\n",
       "    <tr>\n",
       "      <th>3</th>\n",
       "      <td>225363</td>\n",
       "      <td>866.00</td>\n",
       "      <td>Ярославль</td>\n",
       "      <td>Ж</td>\n",
       "      <td>51</td>\n",
       "      <td>5</td>\n",
       "      <td>1,524,746.26</td>\n",
       "      <td>2</td>\n",
       "      <td>0</td>\n",
       "      <td>1</td>\n",
       "      <td>174,423.53</td>\n",
       "      <td>1</td>\n",
       "    </tr>\n",
       "    <tr>\n",
       "      <th>4</th>\n",
       "      <td>157978</td>\n",
       "      <td>730.00</td>\n",
       "      <td>Ярославль</td>\n",
       "      <td>М</td>\n",
       "      <td>34</td>\n",
       "      <td>5</td>\n",
       "      <td>174.00</td>\n",
       "      <td>1</td>\n",
       "      <td>1</td>\n",
       "      <td>0</td>\n",
       "      <td>67,353.16</td>\n",
       "      <td>1</td>\n",
       "    </tr>\n",
       "    <tr>\n",
       "      <th>5</th>\n",
       "      <td>202305</td>\n",
       "      <td>856.00</td>\n",
       "      <td>Рыбинск</td>\n",
       "      <td>М</td>\n",
       "      <td>56</td>\n",
       "      <td>4</td>\n",
       "      <td>863,687.24</td>\n",
       "      <td>3</td>\n",
       "      <td>1</td>\n",
       "      <td>0</td>\n",
       "      <td>156,619.80</td>\n",
       "      <td>0</td>\n",
       "    </tr>\n",
       "    <tr>\n",
       "      <th>6</th>\n",
       "      <td>177259</td>\n",
       "      <td>807.00</td>\n",
       "      <td>Ярославль</td>\n",
       "      <td>Ж</td>\n",
       "      <td>39</td>\n",
       "      <td>3</td>\n",
       "      <td>405,042.44</td>\n",
       "      <td>3</td>\n",
       "      <td>0</td>\n",
       "      <td>1</td>\n",
       "      <td>103,838.32</td>\n",
       "      <td>0</td>\n",
       "    </tr>\n",
       "    <tr>\n",
       "      <th>7</th>\n",
       "      <td>218868</td>\n",
       "      <td>825.00</td>\n",
       "      <td>Ярославль</td>\n",
       "      <td>Ж</td>\n",
       "      <td>38</td>\n",
       "      <td>4</td>\n",
       "      <td>458,145.40</td>\n",
       "      <td>2</td>\n",
       "      <td>1</td>\n",
       "      <td>1</td>\n",
       "      <td>68,085.48</td>\n",
       "      <td>0</td>\n",
       "    </tr>\n",
       "    <tr>\n",
       "      <th>8</th>\n",
       "      <td>211686</td>\n",
       "      <td>923.00</td>\n",
       "      <td>Ярославль</td>\n",
       "      <td>М</td>\n",
       "      <td>54</td>\n",
       "      <td>5</td>\n",
       "      <td>1,206,337.87</td>\n",
       "      <td>2</td>\n",
       "      <td>1</td>\n",
       "      <td>0</td>\n",
       "      <td>155,371.79</td>\n",
       "      <td>0</td>\n",
       "    </tr>\n",
       "    <tr>\n",
       "      <th>9</th>\n",
       "      <td>133130</td>\n",
       "      <td>906.00</td>\n",
       "      <td>Ярославль</td>\n",
       "      <td>Ж</td>\n",
       "      <td>67</td>\n",
       "      <td>0</td>\n",
       "      <td>NaN</td>\n",
       "      <td>1</td>\n",
       "      <td>0</td>\n",
       "      <td>1</td>\n",
       "      <td>238,055.53</td>\n",
       "      <td>0</td>\n",
       "    </tr>\n",
       "  </tbody>\n",
       "</table>\n",
       "</div>"
      ],
      "text/plain": [
       "   USERID  score       city gender  age  equity      balance  products  \\\n",
       "0  183012 850.00    Рыбинск      Ж   25       1    59,214.82         2   \n",
       "1  146556 861.00    Рыбинск      Ж   37       5   850,594.33         3   \n",
       "2  120722 892.00    Рыбинск      Ж   30       0          NaN         1   \n",
       "3  225363 866.00  Ярославль      Ж   51       5 1,524,746.26         2   \n",
       "4  157978 730.00  Ярославль      М   34       5       174.00         1   \n",
       "5  202305 856.00    Рыбинск      М   56       4   863,687.24         3   \n",
       "6  177259 807.00  Ярославль      Ж   39       3   405,042.44         3   \n",
       "7  218868 825.00  Ярославль      Ж   38       4   458,145.40         2   \n",
       "8  211686 923.00  Ярославль      М   54       5 1,206,337.87         2   \n",
       "9  133130 906.00  Ярославль      Ж   67       0          NaN         1   \n",
       "\n",
       "   credit_card  last_activity  EST_SALARY  churn  \n",
       "0            0              1   75,719.14      1  \n",
       "1            1              0   86,621.77      0  \n",
       "2            1              1  107,683.34      0  \n",
       "3            0              1  174,423.53      1  \n",
       "4            1              0   67,353.16      1  \n",
       "5            1              0  156,619.80      0  \n",
       "6            0              1  103,838.32      0  \n",
       "7            1              1   68,085.48      0  \n",
       "8            1              0  155,371.79      0  \n",
       "9            0              1  238,055.53      0  "
      ]
     },
     "execution_count": 4,
     "metadata": {},
     "output_type": "execute_result"
    }
   ],
   "source": [
    "bank_scrooge.head(10)"
   ]
  },
  {
   "cell_type": "code",
   "execution_count": 5,
   "metadata": {},
   "outputs": [
    {
     "name": "stdout",
     "output_type": "stream",
     "text": [
      "<class 'pandas.core.frame.DataFrame'>\n",
      "RangeIndex: 10000 entries, 0 to 9999\n",
      "Data columns (total 12 columns):\n",
      " #   Column         Non-Null Count  Dtype  \n",
      "---  ------         --------------  -----  \n",
      " 0   USERID         10000 non-null  int64  \n",
      " 1   score          10000 non-null  float64\n",
      " 2   city           10000 non-null  object \n",
      " 3   gender         10000 non-null  object \n",
      " 4   age            10000 non-null  int64  \n",
      " 5   equity         10000 non-null  int64  \n",
      " 6   balance        7705 non-null   float64\n",
      " 7   products       10000 non-null  int64  \n",
      " 8   credit_card    10000 non-null  int64  \n",
      " 9   last_activity  10000 non-null  int64  \n",
      " 10  EST_SALARY     10000 non-null  float64\n",
      " 11  churn          10000 non-null  int64  \n",
      "dtypes: float64(3), int64(7), object(2)\n",
      "memory usage: 937.6+ KB\n"
     ]
    }
   ],
   "source": [
    "bank_scrooge.info()"
   ]
  },
  {
   "cell_type": "markdown",
   "metadata": {},
   "source": [
    "В датафрейме `bank_scrooge` 10000 записей и 12 полей, из которых 7 с типом `int64`, 3 с типом `float64` и 2 поля с типом `object`. \n",
    "\n",
    "Датафрейм содержит следующие поля:\n",
    "* `USERID` - идентификатор клиента;\n",
    "* `score` - баллы кредитного скоринга;\n",
    "* `city` - город клиента;\n",
    "* `gender` - пол клиента;\n",
    "* `age` - возраст клиента;\n",
    "* `equity` - оценка собственности клиента;\n",
    "* `balance` - баланс на счете клиента;\n",
    "* `products` - количество продуктов, которыми пользуется клиент;\n",
    "* `credit_card` - признак по наличию кредитной карты;\n",
    "* `last_activity` - признак по активности клиента в за последний календарный месяц;\n",
    "* `EST_SALARY` - оценочная заработная плата клиента;\n",
    "* `churn` - признак оттока.\n",
    "\n",
    "Каждая запись датафрейма `bank_scrooge` содержит данные об одном клиенте банка. Названия полей `USERID` и `EST_SALARY` следует привести к нижнему регистру. Разница в количестве непустых значений свидетельствует о пропусках в поле `balance`. Данные поля `score` целесообразно привести к целочисленному формату. Кроме того, целесообразно закодировать значения поля `gender` - добавить в датафрейм поле с числовыми значениями в зависимости от пола клиента."
   ]
  },
  {
   "attachments": {},
   "cell_type": "markdown",
   "metadata": {},
   "source": [
    "<a id='section4'></a>\n",
    "### Вывод"
   ]
  },
  {
   "cell_type": "markdown",
   "metadata": {},
   "source": [
    "Данные для исследования представлены в одном датафрейме. Для исследовательского анализа данные необходимо подготовить - скорректировать наименования полей, изменить тип данных поля `score`, изучить отсутствующие значения в поле `balance`, добавить поле с числовыми значениями в зависимости от поля `gender`. Также необходимо убедиться, что в данных отсутствуют явные и неявные дубликаты и аномалии."
   ]
  },
  {
   "attachments": {},
   "cell_type": "markdown",
   "metadata": {},
   "source": [
    "<a id='section5'></a>\n",
    "## Предобработка данных"
   ]
  },
  {
   "attachments": {},
   "cell_type": "markdown",
   "metadata": {},
   "source": [
    "<a id='section6'></a>\n",
    "### Корректировка названий полей"
   ]
  },
  {
   "cell_type": "markdown",
   "metadata": {},
   "source": [
    "Скорректируем названия полей датафрейма `bank_scrooge` - приведем их к нижнему регистру:"
   ]
  },
  {
   "cell_type": "code",
   "execution_count": 6,
   "metadata": {},
   "outputs": [],
   "source": [
    "bank_scrooge.columns = bank_scrooge.columns.str.lower()"
   ]
  },
  {
   "attachments": {},
   "cell_type": "markdown",
   "metadata": {},
   "source": [
    "<a id='section7'></a>\n",
    "### Изменение типов данных"
   ]
  },
  {
   "cell_type": "markdown",
   "metadata": {},
   "source": [
    "Изменим тип данных поля `score` - с вещественного на целочисленный:"
   ]
  },
  {
   "cell_type": "code",
   "execution_count": 7,
   "metadata": {},
   "outputs": [],
   "source": [
    "bank_scrooge['score'] = bank_scrooge['score'].astype('int')"
   ]
  },
  {
   "attachments": {},
   "cell_type": "markdown",
   "metadata": {},
   "source": [
    "<a id='section8'></a>\n",
    "### Кодирование данных поля `gender`"
   ]
  },
  {
   "cell_type": "markdown",
   "metadata": {},
   "source": [
    "Добавим в датафрейм `bank_scrooge` поле `gender_new` с числовыми значениями данных поля `gender`:"
   ]
  },
  {
   "cell_type": "code",
   "execution_count": 8,
   "metadata": {},
   "outputs": [],
   "source": [
    "bank_scrooge['gender_male'] = bank_scrooge['gender']\n",
    "bank_scrooge['gender_male'] = bank_scrooge['gender_male'].replace({'М' : 1, 'Ж' : 0})"
   ]
  },
  {
   "cell_type": "code",
   "execution_count": 9,
   "metadata": {},
   "outputs": [
    {
     "data": {
      "text/html": [
       "<div>\n",
       "<style scoped>\n",
       "    .dataframe tbody tr th:only-of-type {\n",
       "        vertical-align: middle;\n",
       "    }\n",
       "\n",
       "    .dataframe tbody tr th {\n",
       "        vertical-align: top;\n",
       "    }\n",
       "\n",
       "    .dataframe thead th {\n",
       "        text-align: right;\n",
       "    }\n",
       "</style>\n",
       "<table border=\"1\" class=\"dataframe\">\n",
       "  <thead>\n",
       "    <tr style=\"text-align: right;\">\n",
       "      <th></th>\n",
       "      <th>userid</th>\n",
       "      <th>score</th>\n",
       "      <th>city</th>\n",
       "      <th>gender</th>\n",
       "      <th>age</th>\n",
       "      <th>equity</th>\n",
       "      <th>balance</th>\n",
       "      <th>products</th>\n",
       "      <th>credit_card</th>\n",
       "      <th>last_activity</th>\n",
       "      <th>est_salary</th>\n",
       "      <th>churn</th>\n",
       "      <th>gender_male</th>\n",
       "    </tr>\n",
       "  </thead>\n",
       "  <tbody>\n",
       "    <tr>\n",
       "      <th>0</th>\n",
       "      <td>183012</td>\n",
       "      <td>850</td>\n",
       "      <td>Рыбинск</td>\n",
       "      <td>Ж</td>\n",
       "      <td>25</td>\n",
       "      <td>1</td>\n",
       "      <td>59,214.82</td>\n",
       "      <td>2</td>\n",
       "      <td>0</td>\n",
       "      <td>1</td>\n",
       "      <td>75,719.14</td>\n",
       "      <td>1</td>\n",
       "      <td>0</td>\n",
       "    </tr>\n",
       "    <tr>\n",
       "      <th>1</th>\n",
       "      <td>146556</td>\n",
       "      <td>861</td>\n",
       "      <td>Рыбинск</td>\n",
       "      <td>Ж</td>\n",
       "      <td>37</td>\n",
       "      <td>5</td>\n",
       "      <td>850,594.33</td>\n",
       "      <td>3</td>\n",
       "      <td>1</td>\n",
       "      <td>0</td>\n",
       "      <td>86,621.77</td>\n",
       "      <td>0</td>\n",
       "      <td>0</td>\n",
       "    </tr>\n",
       "    <tr>\n",
       "      <th>2</th>\n",
       "      <td>120722</td>\n",
       "      <td>892</td>\n",
       "      <td>Рыбинск</td>\n",
       "      <td>Ж</td>\n",
       "      <td>30</td>\n",
       "      <td>0</td>\n",
       "      <td>NaN</td>\n",
       "      <td>1</td>\n",
       "      <td>1</td>\n",
       "      <td>1</td>\n",
       "      <td>107,683.34</td>\n",
       "      <td>0</td>\n",
       "      <td>0</td>\n",
       "    </tr>\n",
       "    <tr>\n",
       "      <th>3</th>\n",
       "      <td>225363</td>\n",
       "      <td>866</td>\n",
       "      <td>Ярославль</td>\n",
       "      <td>Ж</td>\n",
       "      <td>51</td>\n",
       "      <td>5</td>\n",
       "      <td>1,524,746.26</td>\n",
       "      <td>2</td>\n",
       "      <td>0</td>\n",
       "      <td>1</td>\n",
       "      <td>174,423.53</td>\n",
       "      <td>1</td>\n",
       "      <td>0</td>\n",
       "    </tr>\n",
       "    <tr>\n",
       "      <th>4</th>\n",
       "      <td>157978</td>\n",
       "      <td>730</td>\n",
       "      <td>Ярославль</td>\n",
       "      <td>М</td>\n",
       "      <td>34</td>\n",
       "      <td>5</td>\n",
       "      <td>174.00</td>\n",
       "      <td>1</td>\n",
       "      <td>1</td>\n",
       "      <td>0</td>\n",
       "      <td>67,353.16</td>\n",
       "      <td>1</td>\n",
       "      <td>1</td>\n",
       "    </tr>\n",
       "    <tr>\n",
       "      <th>5</th>\n",
       "      <td>202305</td>\n",
       "      <td>856</td>\n",
       "      <td>Рыбинск</td>\n",
       "      <td>М</td>\n",
       "      <td>56</td>\n",
       "      <td>4</td>\n",
       "      <td>863,687.24</td>\n",
       "      <td>3</td>\n",
       "      <td>1</td>\n",
       "      <td>0</td>\n",
       "      <td>156,619.80</td>\n",
       "      <td>0</td>\n",
       "      <td>1</td>\n",
       "    </tr>\n",
       "    <tr>\n",
       "      <th>6</th>\n",
       "      <td>177259</td>\n",
       "      <td>807</td>\n",
       "      <td>Ярославль</td>\n",
       "      <td>Ж</td>\n",
       "      <td>39</td>\n",
       "      <td>3</td>\n",
       "      <td>405,042.44</td>\n",
       "      <td>3</td>\n",
       "      <td>0</td>\n",
       "      <td>1</td>\n",
       "      <td>103,838.32</td>\n",
       "      <td>0</td>\n",
       "      <td>0</td>\n",
       "    </tr>\n",
       "    <tr>\n",
       "      <th>7</th>\n",
       "      <td>218868</td>\n",
       "      <td>825</td>\n",
       "      <td>Ярославль</td>\n",
       "      <td>Ж</td>\n",
       "      <td>38</td>\n",
       "      <td>4</td>\n",
       "      <td>458,145.40</td>\n",
       "      <td>2</td>\n",
       "      <td>1</td>\n",
       "      <td>1</td>\n",
       "      <td>68,085.48</td>\n",
       "      <td>0</td>\n",
       "      <td>0</td>\n",
       "    </tr>\n",
       "    <tr>\n",
       "      <th>8</th>\n",
       "      <td>211686</td>\n",
       "      <td>923</td>\n",
       "      <td>Ярославль</td>\n",
       "      <td>М</td>\n",
       "      <td>54</td>\n",
       "      <td>5</td>\n",
       "      <td>1,206,337.87</td>\n",
       "      <td>2</td>\n",
       "      <td>1</td>\n",
       "      <td>0</td>\n",
       "      <td>155,371.79</td>\n",
       "      <td>0</td>\n",
       "      <td>1</td>\n",
       "    </tr>\n",
       "    <tr>\n",
       "      <th>9</th>\n",
       "      <td>133130</td>\n",
       "      <td>906</td>\n",
       "      <td>Ярославль</td>\n",
       "      <td>Ж</td>\n",
       "      <td>67</td>\n",
       "      <td>0</td>\n",
       "      <td>NaN</td>\n",
       "      <td>1</td>\n",
       "      <td>0</td>\n",
       "      <td>1</td>\n",
       "      <td>238,055.53</td>\n",
       "      <td>0</td>\n",
       "      <td>0</td>\n",
       "    </tr>\n",
       "  </tbody>\n",
       "</table>\n",
       "</div>"
      ],
      "text/plain": [
       "   userid  score       city gender  age  equity      balance  products  \\\n",
       "0  183012    850    Рыбинск      Ж   25       1    59,214.82         2   \n",
       "1  146556    861    Рыбинск      Ж   37       5   850,594.33         3   \n",
       "2  120722    892    Рыбинск      Ж   30       0          NaN         1   \n",
       "3  225363    866  Ярославль      Ж   51       5 1,524,746.26         2   \n",
       "4  157978    730  Ярославль      М   34       5       174.00         1   \n",
       "5  202305    856    Рыбинск      М   56       4   863,687.24         3   \n",
       "6  177259    807  Ярославль      Ж   39       3   405,042.44         3   \n",
       "7  218868    825  Ярославль      Ж   38       4   458,145.40         2   \n",
       "8  211686    923  Ярославль      М   54       5 1,206,337.87         2   \n",
       "9  133130    906  Ярославль      Ж   67       0          NaN         1   \n",
       "\n",
       "   credit_card  last_activity  est_salary  churn  gender_male  \n",
       "0            0              1   75,719.14      1            0  \n",
       "1            1              0   86,621.77      0            0  \n",
       "2            1              1  107,683.34      0            0  \n",
       "3            0              1  174,423.53      1            0  \n",
       "4            1              0   67,353.16      1            1  \n",
       "5            1              0  156,619.80      0            1  \n",
       "6            0              1  103,838.32      0            0  \n",
       "7            1              1   68,085.48      0            0  \n",
       "8            1              0  155,371.79      0            1  \n",
       "9            0              1  238,055.53      0            0  "
      ]
     },
     "execution_count": 9,
     "metadata": {},
     "output_type": "execute_result"
    }
   ],
   "source": [
    "bank_scrooge.head(10)"
   ]
  },
  {
   "cell_type": "markdown",
   "metadata": {},
   "source": [
    "Других полей с упорядоченными категориальными переменными, которые можно кодировать, в датафрейме `bank_scrooge` нет. "
   ]
  },
  {
   "attachments": {},
   "cell_type": "markdown",
   "metadata": {},
   "source": [
    "<a id='section9'></a>\n",
    "### Изучение пропущенных значений"
   ]
  },
  {
   "cell_type": "markdown",
   "metadata": {},
   "source": [
    "Определим количество пропущенных значений в датафрейме `bank_scrooge`:"
   ]
  },
  {
   "cell_type": "code",
   "execution_count": 10,
   "metadata": {},
   "outputs": [
    {
     "data": {
      "text/plain": [
       "userid              0\n",
       "score               0\n",
       "city                0\n",
       "gender              0\n",
       "age                 0\n",
       "equity              0\n",
       "balance          2295\n",
       "products            0\n",
       "credit_card         0\n",
       "last_activity       0\n",
       "est_salary          0\n",
       "churn               0\n",
       "gender_male         0\n",
       "dtype: int64"
      ]
     },
     "execution_count": 10,
     "metadata": {},
     "output_type": "execute_result"
    }
   ],
   "source": [
    "bank_scrooge.isna().sum()"
   ]
  },
  {
   "cell_type": "markdown",
   "metadata": {},
   "source": [
    "Как было отмечено выше, в датафрейме `bank_scrooge` пропуски присутствуют только в поле `balance`. В этом поле отсутствует почти 23% значений. Проанализируем взаимосвязь пропусков и переменных. Выведем средние значения переменных и распределение по городам в зависимости от наличия пропусков в поле `balance`:"
   ]
  },
  {
   "cell_type": "code",
   "execution_count": 11,
   "metadata": {},
   "outputs": [
    {
     "data": {
      "text/plain": [
       "userid          172,069.45\n",
       "score               865.35\n",
       "age                  41.85\n",
       "equity                0.05\n",
       "balance                NaN\n",
       "products              1.16\n",
       "credit_card           0.82\n",
       "last_activity         0.55\n",
       "est_salary      226,310.21\n",
       "churn                 0.01\n",
       "gender_male           0.56\n",
       "dtype: float64"
      ]
     },
     "execution_count": 11,
     "metadata": {},
     "output_type": "execute_result"
    }
   ],
   "source": [
    "#выведем средние значения величин для записей с пропущенными значениями\n",
    "bank_scrooge[bank_scrooge['balance'].isna()].mean()"
   ]
  },
  {
   "cell_type": "code",
   "execution_count": 12,
   "metadata": {
    "scrolled": true
   },
   "outputs": [
    {
     "data": {
      "text/plain": [
       "userid          171,738.84\n",
       "score               843.74\n",
       "age                  43.13\n",
       "equity                3.40\n",
       "balance         827,794.31\n",
       "products              2.09\n",
       "credit_card           0.64\n",
       "last_activity         0.52\n",
       "est_salary      124,501.87\n",
       "churn                 0.23\n",
       "gender_male           0.48\n",
       "dtype: float64"
      ]
     },
     "execution_count": 12,
     "metadata": {},
     "output_type": "execute_result"
    }
   ],
   "source": [
    "#выведем средние значения величин для записей без пропущенных значений\n",
    "bank_scrooge[bank_scrooge['balance'].notna()].mean()"
   ]
  },
  {
   "cell_type": "code",
   "execution_count": 13,
   "metadata": {},
   "outputs": [
    {
     "data": {
      "text/html": [
       "<div>\n",
       "<style scoped>\n",
       "    .dataframe tbody tr th:only-of-type {\n",
       "        vertical-align: middle;\n",
       "    }\n",
       "\n",
       "    .dataframe tbody tr th {\n",
       "        vertical-align: top;\n",
       "    }\n",
       "\n",
       "    .dataframe thead th {\n",
       "        text-align: right;\n",
       "    }\n",
       "</style>\n",
       "<table border=\"1\" class=\"dataframe\">\n",
       "  <thead>\n",
       "    <tr style=\"text-align: right;\">\n",
       "      <th></th>\n",
       "      <th>balance_na</th>\n",
       "    </tr>\n",
       "    <tr>\n",
       "      <th>city</th>\n",
       "      <th></th>\n",
       "    </tr>\n",
       "  </thead>\n",
       "  <tbody>\n",
       "    <tr>\n",
       "      <th>Ростов</th>\n",
       "      <td>0.17</td>\n",
       "    </tr>\n",
       "    <tr>\n",
       "      <th>Рыбинск</th>\n",
       "      <td>0.22</td>\n",
       "    </tr>\n",
       "    <tr>\n",
       "      <th>Ярославль</th>\n",
       "      <td>0.25</td>\n",
       "    </tr>\n",
       "  </tbody>\n",
       "</table>\n",
       "</div>"
      ],
      "text/plain": [
       "           balance_na\n",
       "city                 \n",
       "Ростов           0.17\n",
       "Рыбинск          0.22\n",
       "Ярославль        0.25"
      ]
     },
     "execution_count": 13,
     "metadata": {},
     "output_type": "execute_result"
    }
   ],
   "source": [
    "bank_scrooge['balance_na'] = np.where(bank_scrooge['balance'].isna(), 1, 0)\n",
    "bank_scrooge.groupby('city').agg({'balance_na' : 'mean'})"
   ]
  },
  {
   "cell_type": "markdown",
   "metadata": {},
   "source": [
    "По доле пропущенных значений в зависимости от города очевидно, что чем больше клиентов в городе, тем больше пропусков. Это похоже на взаимосвязь. Кроме того, значительное расхождение по средним значениям заметно по полям `equity`, `products` и `est_salary`. Исследуем их более подробно. Начнем с данных поля `equity`:"
   ]
  },
  {
   "cell_type": "code",
   "execution_count": 15,
   "metadata": {},
   "outputs": [
    {
     "data": {
      "text/plain": [
       "0    2180\n",
       "1     114\n",
       "3       1\n",
       "Name: equity, dtype: int64"
      ]
     },
     "execution_count": 15,
     "metadata": {},
     "output_type": "execute_result"
    }
   ],
   "source": [
    "bank_scrooge = bank_scrooge.drop(columns = 'balance_na') #удалим поле за неданобностью\n",
    "bank_scrooge[bank_scrooge['balance'].isna()]['equity'].value_counts(ascending=False)"
   ]
  },
  {
   "cell_type": "markdown",
   "metadata": {},
   "source": [
    "Почти 95% записей с пропущенными значениями соответствуют чуть более 84% клиентов с оценкой стоимости, равной `0`. При этом клиенты с оценкой стоимости, равной `0`, составляют около 26% от совокупного количества клиентов в датафрейме. Кроме того, очевидно, что чем выше значение оценки собственности, тем меньше пропущенных значений. Можно предположить, что между данными поля `equity` и пропусками в поле `balance` есть взаимосвязь. Изучим данные поля `products`:"
   ]
  },
  {
   "cell_type": "code",
   "execution_count": 16,
   "metadata": {},
   "outputs": [
    {
     "data": {
      "text/plain": [
       "1    1950\n",
       "2     315\n",
       "3      29\n",
       "0       1\n",
       "Name: products, dtype: int64"
      ]
     },
     "execution_count": 16,
     "metadata": {},
     "output_type": "execute_result"
    }
   ],
   "source": [
    "bank_scrooge[bank_scrooge['balance'].isna()]['products'].value_counts(ascending=False)"
   ]
  },
  {
   "cell_type": "markdown",
   "metadata": {},
   "source": [
    "85% записей с пропущенными значениями приходятся на 58% клиентов с одним банковским продуктом. При этом чем больше продуктов, тем меньше пропусков. Можно предположить, что между данными поля `products` и пропусками в поле `balance` также присутствует взаимосвязь.  Изучим данные поля `est_salary` - выведем описание данных и построим гистограмму:"
   ]
  },
  {
   "cell_type": "code",
   "execution_count": 17,
   "metadata": {},
   "outputs": [
    {
     "data": {
      "text/plain": [
       "count       2,295.00\n",
       "mean      226,310.21\n",
       "std       199,771.79\n",
       "min        20,274.03\n",
       "25%       120,347.70\n",
       "50%       174,160.68\n",
       "75%       240,014.99\n",
       "max     1,333,687.36\n",
       "Name: est_salary, dtype: float64"
      ]
     },
     "execution_count": 17,
     "metadata": {},
     "output_type": "execute_result"
    }
   ],
   "source": [
    "#выведем описание поля для записей с пропущенными значениями\n",
    "bank_scrooge[bank_scrooge['balance'].isna()]['est_salary'].describe()"
   ]
  },
  {
   "cell_type": "code",
   "execution_count": 18,
   "metadata": {},
   "outputs": [
    {
     "data": {
      "text/plain": [
       "count       7,705.00\n",
       "mean      124,501.87\n",
       "std       104,663.54\n",
       "min         2,546.30\n",
       "25%        67,551.81\n",
       "50%       106,222.20\n",
       "75%       155,045.67\n",
       "max     1,395,064.45\n",
       "Name: est_salary, dtype: float64"
      ]
     },
     "execution_count": 18,
     "metadata": {},
     "output_type": "execute_result"
    }
   ],
   "source": [
    "#выведем описание поля для записей без пропущенных значений\n",
    "bank_scrooge[bank_scrooge['balance'] >= 0]['est_salary'].describe()"
   ]
  },
  {
   "cell_type": "code",
   "execution_count": 19,
   "metadata": {},
   "outputs": [
    {
     "data": {
      "image/png": "[encoded data removed]",
      "text/plain": [
       "<Figure size 1080x720 with 1 Axes>"
      ]
     },
     "metadata": {
      "needs_background": "light"
     },
     "output_type": "display_data"
    }
   ],
   "source": [
    "plt.subplots(figsize=[15,10])\n",
    "plt.ticklabel_format(style='plain')\n",
    "bank_scrooge[bank_scrooge['balance'] >= 0]['est_salary'].plot(kind='hist', alpha=0.5, bins=100, density=True)\n",
    "bank_scrooge[bank_scrooge['balance'].isna()]['est_salary'].plot(kind='hist', alpha=0.5, bins=100, density=True)\n",
    "plt.legend(['Без пропусков', 'С пропусками'])\n",
    "plt.ylabel('Частота')\n",
    "plt.xlabel('Оценочная заработная плата')\n",
    "plt.title('Гистограмма распределения оценочной зароботной платы в зависимости от пропусков')\n",
    "plt.show()"
   ]
  },
  {
   "cell_type": "markdown",
   "metadata": {},
   "source": [
    "Большее среднее значение поля `est_salary` у записей с пропусками обусловлено большим количеством выбросов, о чем свидетельствует разница между медианой и средним, а также значение стандартного отклонения. Очевидно, что чем больше сумма на счете, тем больше пропусков. Можно предположить, что между данными поля `est_salary` и пропусками в поле `balanсe` присутствует взаимосвязь. На основании наших предположений примем, что пропуски зависят от данных и заполнить их какими-либо достоверными значениями из-за отсуствия соотвествующей информации невозможно - оставим пропуски незаполненными. Предполагаемая причина пропусков - ошибка в инфомационных системах банка, которая могла произойти в процессе загрузки данных, хранения или выгрузки."
   ]
  },
  {
   "attachments": {},
   "cell_type": "markdown",
   "metadata": {},
   "source": [
    "<a id='section10'></a>\n",
    "### Выявление дубликатов"
   ]
  },
  {
   "cell_type": "markdown",
   "metadata": {},
   "source": [
    "Проверим датафрейм `bank_scrooge` на наличие явных дубликатов:"
   ]
  },
  {
   "cell_type": "code",
   "execution_count": 21,
   "metadata": {},
   "outputs": [
    {
     "data": {
      "text/plain": [
       "1"
      ]
     },
     "execution_count": 21,
     "metadata": {},
     "output_type": "execute_result"
    }
   ],
   "source": [
    "bank_scrooge.duplicated().sum()"
   ]
  },
  {
   "cell_type": "markdown",
   "metadata": {},
   "source": [
    "В датафрейме присутсвует один явный дубликат. Удалим его:"
   ]
  },
  {
   "cell_type": "code",
   "execution_count": 22,
   "metadata": {},
   "outputs": [],
   "source": [
    "bank_scrooge = bank_scrooge.drop_duplicates().reset_index(drop=True)"
   ]
  },
  {
   "cell_type": "markdown",
   "metadata": {},
   "source": [
    "В датафрейме могут присутствовать неявные дубликаты - одинаковые пользователи с разными идентификаторами. Проверим датафрейм на их наличие:"
   ]
  },
  {
   "cell_type": "code",
   "execution_count": 23,
   "metadata": {},
   "outputs": [
    {
     "data": {
      "text/plain": [
       "0"
      ]
     },
     "execution_count": 23,
     "metadata": {},
     "output_type": "execute_result"
    }
   ],
   "source": [
    "bank_scrooge[\n",
    "    [\n",
    "        'score', \n",
    "        'city',\n",
    "        'gender',\n",
    "        'age',\n",
    "        'equity',\n",
    "        'balance',\n",
    "        'products',\n",
    "        'credit_card',\n",
    "        'last_activity',\n",
    "        'est_salary',\n",
    "        'churn'\n",
    "    ]\n",
    "].duplicated().sum()"
   ]
  },
  {
   "cell_type": "markdown",
   "metadata": {},
   "source": [
    "Неявные дубликаты в датафрейме отсутствуют."
   ]
  },
  {
   "attachments": {},
   "cell_type": "markdown",
   "metadata": {},
   "source": [
    "<a id='section11'></a>\n",
    "### Выявление аномалий"
   ]
  },
  {
   "cell_type": "markdown",
   "metadata": {},
   "source": [
    "Проверим поля с переменными на наличие аномалий. Начнем с поля `city`:"
   ]
  },
  {
   "cell_type": "code",
   "execution_count": 24,
   "metadata": {},
   "outputs": [
    {
     "data": {
      "text/plain": [
       "Ярославль    5905\n",
       "Рыбинск      2663\n",
       "Ростов       1431\n",
       "Name: city, dtype: int64"
      ]
     },
     "execution_count": 24,
     "metadata": {},
     "output_type": "execute_result"
    }
   ],
   "source": [
    "bank_scrooge['city'].value_counts()"
   ]
  },
  {
   "cell_type": "markdown",
   "metadata": {},
   "source": [
    "В поле `city` аномалий нет. Проверим поле `gender`:"
   ]
  },
  {
   "cell_type": "code",
   "execution_count": 25,
   "metadata": {},
   "outputs": [
    {
     "data": {
      "text/plain": [
       "М    5007\n",
       "Ж    4992\n",
       "Name: gender, dtype: int64"
      ]
     },
     "execution_count": 25,
     "metadata": {},
     "output_type": "execute_result"
    }
   ],
   "source": [
    "bank_scrooge['gender'].value_counts()"
   ]
  },
  {
   "cell_type": "markdown",
   "metadata": {},
   "source": [
    "В поле `gender` аномалии отсутствуют. Проверим поле `equity`:"
   ]
  },
  {
   "cell_type": "code",
   "execution_count": 26,
   "metadata": {},
   "outputs": [
    {
     "data": {
      "text/plain": [
       "0    2591\n",
       "5    1918\n",
       "4    1850\n",
       "3    1543\n",
       "2    1052\n",
       "1     774\n",
       "6     161\n",
       "7      80\n",
       "8      17\n",
       "9      13\n",
       "Name: equity, dtype: int64"
      ]
     },
     "execution_count": 26,
     "metadata": {},
     "output_type": "execute_result"
    }
   ],
   "source": [
    "bank_scrooge['equity'].value_counts()"
   ]
  },
  {
   "cell_type": "markdown",
   "metadata": {},
   "source": [
    "В поле `equity` аномалий нет. Проверим поле `products`:"
   ]
  },
  {
   "cell_type": "code",
   "execution_count": 27,
   "metadata": {},
   "outputs": [
    {
     "data": {
      "text/plain": [
       "2    5108\n",
       "1    3340\n",
       "3    1046\n",
       "4     474\n",
       "5      30\n",
       "0       1\n",
       "Name: products, dtype: int64"
      ]
     },
     "execution_count": 27,
     "metadata": {},
     "output_type": "execute_result"
    }
   ],
   "source": [
    "bank_scrooge['products'].value_counts()"
   ]
  },
  {
   "cell_type": "markdown",
   "metadata": {},
   "source": [
    "В датафрейме присутствует 1 клиент, у которого нет продуктов банка, что не может соответствовать действительности. Выведем запись с этим клиентом:"
   ]
  },
  {
   "cell_type": "code",
   "execution_count": 28,
   "metadata": {},
   "outputs": [
    {
     "data": {
      "text/html": [
       "<div>\n",
       "<style scoped>\n",
       "    .dataframe tbody tr th:only-of-type {\n",
       "        vertical-align: middle;\n",
       "    }\n",
       "\n",
       "    .dataframe tbody tr th {\n",
       "        vertical-align: top;\n",
       "    }\n",
       "\n",
       "    .dataframe thead th {\n",
       "        text-align: right;\n",
       "    }\n",
       "</style>\n",
       "<table border=\"1\" class=\"dataframe\">\n",
       "  <thead>\n",
       "    <tr style=\"text-align: right;\">\n",
       "      <th></th>\n",
       "      <th>userid</th>\n",
       "      <th>score</th>\n",
       "      <th>city</th>\n",
       "      <th>gender</th>\n",
       "      <th>age</th>\n",
       "      <th>equity</th>\n",
       "      <th>balance</th>\n",
       "      <th>products</th>\n",
       "      <th>credit_card</th>\n",
       "      <th>last_activity</th>\n",
       "      <th>est_salary</th>\n",
       "      <th>churn</th>\n",
       "      <th>gender_male</th>\n",
       "    </tr>\n",
       "  </thead>\n",
       "  <tbody>\n",
       "    <tr>\n",
       "      <th>8957</th>\n",
       "      <td>147837</td>\n",
       "      <td>962</td>\n",
       "      <td>Рыбинск</td>\n",
       "      <td>Ж</td>\n",
       "      <td>79</td>\n",
       "      <td>3</td>\n",
       "      <td>NaN</td>\n",
       "      <td>0</td>\n",
       "      <td>0</td>\n",
       "      <td>0</td>\n",
       "      <td>25,063.96</td>\n",
       "      <td>1</td>\n",
       "      <td>0</td>\n",
       "    </tr>\n",
       "  </tbody>\n",
       "</table>\n",
       "</div>"
      ],
      "text/plain": [
       "      userid  score     city gender  age  equity  balance  products  \\\n",
       "8957  147837    962  Рыбинск      Ж   79       3      NaN         0   \n",
       "\n",
       "      credit_card  last_activity  est_salary  churn  gender_male  \n",
       "8957            0              0   25,063.96      1            0  "
      ]
     },
     "execution_count": 28,
     "metadata": {},
     "output_type": "execute_result"
    }
   ],
   "source": [
    "bank_scrooge[bank_scrooge['products'] == 0]"
   ]
  },
  {
   "cell_type": "markdown",
   "metadata": {},
   "source": [
    "По каким либо иным признакам определить количесто продуктов у этого клиента невозможно. Удалим запись с этим клиентом из датафрейма:"
   ]
  },
  {
   "cell_type": "code",
   "execution_count": 29,
   "metadata": {},
   "outputs": [],
   "source": [
    "bank_scrooge = bank_scrooge[bank_scrooge['products'] > 0]"
   ]
  },
  {
   "cell_type": "markdown",
   "metadata": {},
   "source": [
    "В поле `equity` аномалий нет. Проверим поле `credit_card`:"
   ]
  },
  {
   "cell_type": "code",
   "execution_count": 30,
   "metadata": {},
   "outputs": [
    {
     "data": {
      "text/plain": [
       "1    6803\n",
       "0    3195\n",
       "Name: credit_card, dtype: int64"
      ]
     },
     "execution_count": 30,
     "metadata": {},
     "output_type": "execute_result"
    }
   ],
   "source": [
    "bank_scrooge['credit_card'].value_counts()"
   ]
  },
  {
   "cell_type": "markdown",
   "metadata": {},
   "source": [
    "В поле `credit_card` аномалии отсутствуют. Проверим поле `last_activity`:"
   ]
  },
  {
   "cell_type": "code",
   "execution_count": 31,
   "metadata": {},
   "outputs": [
    {
     "data": {
      "text/plain": [
       "1    5235\n",
       "0    4763\n",
       "Name: last_activity, dtype: int64"
      ]
     },
     "execution_count": 31,
     "metadata": {},
     "output_type": "execute_result"
    }
   ],
   "source": [
    "bank_scrooge['last_activity'].value_counts()"
   ]
  },
  {
   "cell_type": "markdown",
   "metadata": {},
   "source": [
    "В поле `last_activity` аномалий нет. Проверим поле `churn`:"
   ]
  },
  {
   "cell_type": "code",
   "execution_count": 32,
   "metadata": {},
   "outputs": [
    {
     "data": {
      "text/plain": [
       "0    8177\n",
       "1    1821\n",
       "Name: churn, dtype: int64"
      ]
     },
     "execution_count": 32,
     "metadata": {},
     "output_type": "execute_result"
    }
   ],
   "source": [
    "bank_scrooge['churn'].value_counts()"
   ]
  },
  {
   "cell_type": "markdown",
   "metadata": {},
   "source": [
    "Аномалий в поле `churn` нет."
   ]
  },
  {
   "attachments": {},
   "cell_type": "markdown",
   "metadata": {},
   "source": [
    "<a id='section12'></a>\n",
    "### Вывод"
   ]
  },
  {
   "cell_type": "markdown",
   "metadata": {},
   "source": [
    "В процессе предобработки удалили из датафрейма дубликаты и записи с аномалиями, скорректировали наименования полей датафрейма, изучили пропуски и заполнили их, добавили поле с кодированными значениями поля `gender`. Можем переходить к анализу данных."
   ]
  },
  {
   "attachments": {},
   "cell_type": "markdown",
   "metadata": {},
   "source": [
    "<a id='section13'></a>\n",
    "## Исследовательский анализ данных"
   ]
  },
  {
   "attachments": {},
   "cell_type": "markdown",
   "metadata": {},
   "source": [
    "<a id='section14'></a>\n",
    "### Анализ средних значений и изучение признаков"
   ]
  },
  {
   "cell_type": "markdown",
   "metadata": {},
   "source": [
    "Проанализируем средние значения и изучим признаки по всем клиентам банка:"
   ]
  },
  {
   "cell_type": "code",
   "execution_count": 33,
   "metadata": {},
   "outputs": [
    {
     "data": {
      "text/html": [
       "<div>\n",
       "<style scoped>\n",
       "    .dataframe tbody tr th:only-of-type {\n",
       "        vertical-align: middle;\n",
       "    }\n",
       "\n",
       "    .dataframe tbody tr th {\n",
       "        vertical-align: top;\n",
       "    }\n",
       "\n",
       "    .dataframe thead th {\n",
       "        text-align: right;\n",
       "    }\n",
       "</style>\n",
       "<table border=\"1\" class=\"dataframe\">\n",
       "  <thead>\n",
       "    <tr style=\"text-align: right;\">\n",
       "      <th></th>\n",
       "      <th>score</th>\n",
       "      <th>age</th>\n",
       "      <th>equity</th>\n",
       "      <th>products</th>\n",
       "      <th>credit_card</th>\n",
       "      <th>last_activity</th>\n",
       "      <th>est_salary</th>\n",
       "      <th>balance</th>\n",
       "      <th>churn</th>\n",
       "      <th>gender_male</th>\n",
       "    </tr>\n",
       "  </thead>\n",
       "  <tbody>\n",
       "    <tr>\n",
       "      <th>count</th>\n",
       "      <td>9,998.00</td>\n",
       "      <td>9,998.00</td>\n",
       "      <td>9,998.00</td>\n",
       "      <td>9,998.00</td>\n",
       "      <td>9,998.00</td>\n",
       "      <td>9,998.00</td>\n",
       "      <td>9,998.00</td>\n",
       "      <td>7,705.00</td>\n",
       "      <td>9,998.00</td>\n",
       "      <td>9,998.00</td>\n",
       "    </tr>\n",
       "    <tr>\n",
       "      <th>mean</th>\n",
       "      <td>848.68</td>\n",
       "      <td>42.83</td>\n",
       "      <td>2.63</td>\n",
       "      <td>1.87</td>\n",
       "      <td>0.68</td>\n",
       "      <td>0.52</td>\n",
       "      <td>147,855.76</td>\n",
       "      <td>827,794.31</td>\n",
       "      <td>0.18</td>\n",
       "      <td>0.50</td>\n",
       "    </tr>\n",
       "    <tr>\n",
       "      <th>std</th>\n",
       "      <td>65.44</td>\n",
       "      <td>12.12</td>\n",
       "      <td>1.98</td>\n",
       "      <td>0.80</td>\n",
       "      <td>0.47</td>\n",
       "      <td>0.50</td>\n",
       "      <td>139,377.39</td>\n",
       "      <td>1,980,614.15</td>\n",
       "      <td>0.39</td>\n",
       "      <td>0.50</td>\n",
       "    </tr>\n",
       "    <tr>\n",
       "      <th>min</th>\n",
       "      <td>642.00</td>\n",
       "      <td>18.00</td>\n",
       "      <td>0.00</td>\n",
       "      <td>1.00</td>\n",
       "      <td>0.00</td>\n",
       "      <td>0.00</td>\n",
       "      <td>2,546.30</td>\n",
       "      <td>0.00</td>\n",
       "      <td>0.00</td>\n",
       "      <td>0.00</td>\n",
       "    </tr>\n",
       "    <tr>\n",
       "      <th>25%</th>\n",
       "      <td>802.00</td>\n",
       "      <td>34.00</td>\n",
       "      <td>0.00</td>\n",
       "      <td>1.00</td>\n",
       "      <td>0.00</td>\n",
       "      <td>0.00</td>\n",
       "      <td>75,252.07</td>\n",
       "      <td>295,554.16</td>\n",
       "      <td>0.00</td>\n",
       "      <td>0.00</td>\n",
       "    </tr>\n",
       "    <tr>\n",
       "      <th>50%</th>\n",
       "      <td>853.00</td>\n",
       "      <td>40.00</td>\n",
       "      <td>3.00</td>\n",
       "      <td>2.00</td>\n",
       "      <td>1.00</td>\n",
       "      <td>1.00</td>\n",
       "      <td>119,658.10</td>\n",
       "      <td>524,272.20</td>\n",
       "      <td>0.00</td>\n",
       "      <td>1.00</td>\n",
       "    </tr>\n",
       "    <tr>\n",
       "      <th>75%</th>\n",
       "      <td>900.00</td>\n",
       "      <td>51.00</td>\n",
       "      <td>4.00</td>\n",
       "      <td>2.00</td>\n",
       "      <td>1.00</td>\n",
       "      <td>1.00</td>\n",
       "      <td>174,499.81</td>\n",
       "      <td>980,705.85</td>\n",
       "      <td>0.00</td>\n",
       "      <td>1.00</td>\n",
       "    </tr>\n",
       "    <tr>\n",
       "      <th>max</th>\n",
       "      <td>1,000.00</td>\n",
       "      <td>86.00</td>\n",
       "      <td>9.00</td>\n",
       "      <td>5.00</td>\n",
       "      <td>1.00</td>\n",
       "      <td>1.00</td>\n",
       "      <td>1,395,064.45</td>\n",
       "      <td>119,113,552.01</td>\n",
       "      <td>1.00</td>\n",
       "      <td>1.00</td>\n",
       "    </tr>\n",
       "  </tbody>\n",
       "</table>\n",
       "</div>"
      ],
      "text/plain": [
       "         score      age   equity  products  credit_card  last_activity  \\\n",
       "count 9,998.00 9,998.00 9,998.00  9,998.00     9,998.00       9,998.00   \n",
       "mean    848.68    42.83     2.63      1.87         0.68           0.52   \n",
       "std      65.44    12.12     1.98      0.80         0.47           0.50   \n",
       "min     642.00    18.00     0.00      1.00         0.00           0.00   \n",
       "25%     802.00    34.00     0.00      1.00         0.00           0.00   \n",
       "50%     853.00    40.00     3.00      2.00         1.00           1.00   \n",
       "75%     900.00    51.00     4.00      2.00         1.00           1.00   \n",
       "max   1,000.00    86.00     9.00      5.00         1.00           1.00   \n",
       "\n",
       "        est_salary        balance    churn  gender_male  \n",
       "count     9,998.00       7,705.00 9,998.00     9,998.00  \n",
       "mean    147,855.76     827,794.31     0.18         0.50  \n",
       "std     139,377.39   1,980,614.15     0.39         0.50  \n",
       "min       2,546.30           0.00     0.00         0.00  \n",
       "25%      75,252.07     295,554.16     0.00         0.00  \n",
       "50%     119,658.10     524,272.20     0.00         1.00  \n",
       "75%     174,499.81     980,705.85     0.00         1.00  \n",
       "max   1,395,064.45 119,113,552.01     1.00         1.00  "
      ]
     },
     "execution_count": 33,
     "metadata": {},
     "output_type": "execute_result"
    }
   ],
   "source": [
    "bank_scrooge[\n",
    "    [\n",
    "        'score',\n",
    "        'age',\n",
    "        'equity',\n",
    "        'products',\n",
    "        'credit_card',\n",
    "        'last_activity',\n",
    "        'est_salary',\n",
    "        'balance',\n",
    "        'churn',\n",
    "        'gender_male',\n",
    "    ]\n",
    "].describe()"
   ]
  },
  {
   "cell_type": "markdown",
   "metadata": {},
   "source": [
    "По средним значениям признаков можно сделать слеующие выводы:\n",
    "* средний кредитный рейтинг составляет почти 850;\n",
    "* средний возраст клиента - 43 года, при этом среди клиентов пристутсвуют как молодежь, так и пенсионеры;\n",
    "* средняя оценка собственности клиента - 2.6;\n",
    "* в среднем у клиентов около двух продуктов банка;\n",
    "* у 68% клиентов есть кредитная карта банка;\n",
    "* среднее значение баланса на счетах - 828 тысяч рублей, при этом разница между средним и медианой, а также значение стандартного отклонения говорят о том, что в поле `balance` присутствует много выбросов\n",
    "* чуть более половины клиентов пользовались услугами банка за последний календарный месяц;\n",
    "* средняя оценочная зарплата клиента банка составляет около 150 тысяч рублей, при этом значение стандартного отклонения свидетельствует о том, что в поле `est_salary` присутствуют выдающиеся значения;\n",
    "* в отток ушло 18% клиентов.\n",
    "\n",
    "Проанализируем распределение клиентов банка по городам:"
   ]
  },
  {
   "cell_type": "code",
   "execution_count": 34,
   "metadata": {},
   "outputs": [
    {
     "data": {
      "text/plain": [
       "Ярославль    5905\n",
       "Рыбинск      2662\n",
       "Ростов       1431\n",
       "Name: city, dtype: int64"
      ]
     },
     "execution_count": 34,
     "metadata": {},
     "output_type": "execute_result"
    }
   ],
   "source": [
    "bank_scrooge['city'].value_counts()"
   ]
  },
  {
   "cell_type": "markdown",
   "metadata": {},
   "source": [
    "59% клиентов банка проживают в Ярославле, 26,6% - в Рыбинске, 14,3% - в Ростове."
   ]
  },
  {
   "attachments": {},
   "cell_type": "markdown",
   "metadata": {},
   "source": [
    "<a id='section15'></a>\n",
    "### Анализ средних значений и изучение признаков по группам в зависимости от оттока"
   ]
  },
  {
   "cell_type": "markdown",
   "metadata": {},
   "source": [
    "Проанализируем средние значения и изучим признаки по группам клиентов в зависимости от оттока:"
   ]
  },
  {
   "cell_type": "code",
   "execution_count": 35,
   "metadata": {},
   "outputs": [
    {
     "data": {
      "text/html": [
       "<div>\n",
       "<style scoped>\n",
       "    .dataframe tbody tr th:only-of-type {\n",
       "        vertical-align: middle;\n",
       "    }\n",
       "\n",
       "    .dataframe tbody tr th {\n",
       "        vertical-align: top;\n",
       "    }\n",
       "\n",
       "    .dataframe thead th {\n",
       "        text-align: right;\n",
       "    }\n",
       "</style>\n",
       "<table border=\"1\" class=\"dataframe\">\n",
       "  <thead>\n",
       "    <tr style=\"text-align: right;\">\n",
       "      <th>churn</th>\n",
       "      <th>0</th>\n",
       "      <th>1</th>\n",
       "    </tr>\n",
       "  </thead>\n",
       "  <tbody>\n",
       "    <tr>\n",
       "      <th>score</th>\n",
       "      <td>845.41</td>\n",
       "      <td>863.36</td>\n",
       "    </tr>\n",
       "    <tr>\n",
       "      <th>age</th>\n",
       "      <td>43.16</td>\n",
       "      <td>41.38</td>\n",
       "    </tr>\n",
       "    <tr>\n",
       "      <th>equity</th>\n",
       "      <td>2.37</td>\n",
       "      <td>3.76</td>\n",
       "    </tr>\n",
       "    <tr>\n",
       "      <th>products</th>\n",
       "      <td>1.76</td>\n",
       "      <td>2.38</td>\n",
       "    </tr>\n",
       "    <tr>\n",
       "      <th>credit_card</th>\n",
       "      <td>0.71</td>\n",
       "      <td>0.55</td>\n",
       "    </tr>\n",
       "    <tr>\n",
       "      <th>last_activity</th>\n",
       "      <td>0.48</td>\n",
       "      <td>0.70</td>\n",
       "    </tr>\n",
       "    <tr>\n",
       "      <th>est_salary</th>\n",
       "      <td>147,764.05</td>\n",
       "      <td>148,267.60</td>\n",
       "    </tr>\n",
       "    <tr>\n",
       "      <th>gender_male</th>\n",
       "      <td>0.47</td>\n",
       "      <td>0.65</td>\n",
       "    </tr>\n",
       "  </tbody>\n",
       "</table>\n",
       "</div>"
      ],
      "text/plain": [
       "churn                  0          1\n",
       "score             845.41     863.36\n",
       "age                43.16      41.38\n",
       "equity              2.37       3.76\n",
       "products            1.76       2.38\n",
       "credit_card         0.71       0.55\n",
       "last_activity       0.48       0.70\n",
       "est_salary    147,764.05 148,267.60\n",
       "gender_male         0.47       0.65"
      ]
     },
     "execution_count": 35,
     "metadata": {},
     "output_type": "execute_result"
    }
   ],
   "source": [
    "bank_scrooge[\n",
    "    [\n",
    "        'score',\n",
    "        'age',\n",
    "        'equity',\n",
    "        'products',\n",
    "        'credit_card',\n",
    "        'last_activity',\n",
    "        'est_salary',\n",
    "        'gender_male',\n",
    "        'churn'\n",
    "    ]\n",
    "].groupby('churn').agg('mean').T"
   ]
  },
  {
   "cell_type": "markdown",
   "metadata": {},
   "source": [
    "Остановимся на тех признаках, средние значения которых значительно отличаются. По средним значениям таких признаков можно сделать слеующие выводы:\n",
    "* у клиентов, ушедших в отток, среднее значение оценки собственности выше - 3,76 против 2,37;\n",
    "* у клиентов, ушедших в отток, среднее количество банковских продуктов больше - 2,38 против 1,76;\n",
    "* клиенты, ушедшие в отток, реже пользуются кредитными картами - 55% против 71%;\n",
    "* cредний баланс у клиентов, ушедших в отток, в 1,5 раза превышает средний баланс оставшихся клиентов\n",
    "* клиенты, ушедшие в отток, более активно пользовались услугами банка за последний календарный месяц - 70% против 48%;\n",
    "* среди клиентов, ушедших в отток, мужчин больше - 65% против 47%."
   ]
  },
  {
   "cell_type": "markdown",
   "metadata": {},
   "source": [
    "Проанализируем долю оттока по городам:"
   ]
  },
  {
   "cell_type": "code",
   "execution_count": 36,
   "metadata": {},
   "outputs": [
    {
     "data": {
      "text/html": [
       "<div>\n",
       "<style scoped>\n",
       "    .dataframe tbody tr th:only-of-type {\n",
       "        vertical-align: middle;\n",
       "    }\n",
       "\n",
       "    .dataframe tbody tr th {\n",
       "        vertical-align: top;\n",
       "    }\n",
       "\n",
       "    .dataframe thead th {\n",
       "        text-align: right;\n",
       "    }\n",
       "</style>\n",
       "<table border=\"1\" class=\"dataframe\">\n",
       "  <thead>\n",
       "    <tr style=\"text-align: right;\">\n",
       "      <th></th>\n",
       "      <th>churn</th>\n",
       "    </tr>\n",
       "    <tr>\n",
       "      <th>city</th>\n",
       "      <th></th>\n",
       "    </tr>\n",
       "  </thead>\n",
       "  <tbody>\n",
       "    <tr>\n",
       "      <th>Ростов</th>\n",
       "      <td>0.19</td>\n",
       "    </tr>\n",
       "    <tr>\n",
       "      <th>Рыбинск</th>\n",
       "      <td>0.16</td>\n",
       "    </tr>\n",
       "    <tr>\n",
       "      <th>Ярославль</th>\n",
       "      <td>0.19</td>\n",
       "    </tr>\n",
       "  </tbody>\n",
       "</table>\n",
       "</div>"
      ],
      "text/plain": [
       "           churn\n",
       "city            \n",
       "Ростов      0.19\n",
       "Рыбинск     0.16\n",
       "Ярославль   0.19"
      ]
     },
     "execution_count": 36,
     "metadata": {},
     "output_type": "execute_result"
    }
   ],
   "source": [
    "bank_scrooge.groupby('city').agg({'churn' : 'mean'})"
   ]
  },
  {
   "cell_type": "markdown",
   "metadata": {},
   "source": [
    "Доля клиентов, ушедших в отток, в зависимости от города отличается незначительно и близка к среднему значению оттока по банку."
   ]
  },
  {
   "attachments": {},
   "cell_type": "markdown",
   "metadata": {},
   "source": [
    "<a id='section16'></a>\n",
    "### Анализ распределения количественных признаков"
   ]
  },
  {
   "cell_type": "markdown",
   "metadata": {},
   "source": [
    "Изучим распределения признаков по оставшимся клиентам и клиентам, ушедшим в отток. Построим гистограмму распределения оценок собственности по клиентам, ушедшим в отток, и оставшимся клиентам:"
   ]
  },
  {
   "cell_type": "code",
   "execution_count": 37,
   "metadata": {},
   "outputs": [
    {
     "data": {
      "image/png": "[encoded data removed]",
      "text/plain": [
       "<Figure size 1080x720 with 1 Axes>"
      ]
     },
     "metadata": {
      "needs_background": "light"
     },
     "output_type": "display_data"
    }
   ],
   "source": [
    "plt.figure(figsize=(15,10))\n",
    "bank_scrooge['equity'][bank_scrooge['churn'] == 0].plot(kind='hist', alpha=0.5, bins=10, density=True)\n",
    "bank_scrooge['equity'][bank_scrooge['churn'] == 1].plot(kind='hist', alpha=0.5, bins=10, density=True)\n",
    "plt.title('Распределение оценок собственности клиентов по группам')\n",
    "plt.xlabel('Оценка собственности')\n",
    "plt.ylabel('Частота')\n",
    "plt.legend(['Оставшиеся', 'Отток'])\n",
    "plt.show()"
   ]
  },
  {
   "cell_type": "markdown",
   "metadata": {},
   "source": [
    "У оставшихся клиентов пик гистограммы приходится на оценку `0`, у ушедших в отток - на оценку `5`. У оставшихся клиентов редко встречаются оценки больше `5`, у ушедших в отток - больше `7`. Построим гистограмму распределения количества банковских продуктов по клиентам, ушедшим в отток, и оставшимся клиентам:"
   ]
  },
  {
   "cell_type": "code",
   "execution_count": 38,
   "metadata": {},
   "outputs": [
    {
     "data": {
      "image/png": "[encoded data removed]",
      "text/plain": [
       "<Figure size 1080x720 with 1 Axes>"
      ]
     },
     "metadata": {
      "needs_background": "light"
     },
     "output_type": "display_data"
    }
   ],
   "source": [
    "plt.figure(figsize=(15,10))\n",
    "bank_scrooge['products'][bank_scrooge['churn'] == 0].plot(kind='hist', alpha=0.5, bins=4, density=True)\n",
    "bank_scrooge['products'][bank_scrooge['churn'] == 1].plot(kind='hist', alpha=0.5, bins=4, density=True)\n",
    "plt.title('Распределение продуктов у клиентов по группам')\n",
    "plt.xlabel('Количество продуктов')\n",
    "plt.ylabel('Частота')\n",
    "plt.legend(['Оставшиеся', 'Отток'])\n",
    "plt.show()"
   ]
  },
  {
   "cell_type": "markdown",
   "metadata": {},
   "source": [
    "И у оставшихся клиентов, и у клиентов, ушедших в отток, пики гистограмм приходятся на 2 продукта, однако среди клиентов, ушедших в отток, чаще встречаются те, у кого 3 и более продуктов. Построим гистограмму распределения баланса по клиентам, ушедшим в отток, и оставшимся клиентам:"
   ]
  },
  {
   "cell_type": "code",
   "execution_count": 39,
   "metadata": {},
   "outputs": [
    {
     "data": {
      "image/png": "[encoded data removed]",
      "text/plain": [
       "<Figure size 1080x720 with 1 Axes>"
      ]
     },
     "metadata": {
      "needs_background": "light"
     },
     "output_type": "display_data"
    }
   ],
   "source": [
    "plt.figure(figsize=(15,10))\n",
    "plt.ticklabel_format(style='plain')\n",
    "bank_scrooge[\n",
    "    'balance'\n",
    "][\n",
    "    bank_scrooge['churn'] == 0\n",
    "].plot(\n",
    "    kind='hist', \n",
    "    alpha=0.5, bins=100,\n",
    "    range=(0,25000000),\n",
    "    density=True\n",
    ")\n",
    "bank_scrooge[\n",
    "    'balance'\n",
    "][    \n",
    "    bank_scrooge['churn'] == 1\n",
    "].plot(\n",
    "    kind='hist', \n",
    "    alpha=0.5, \n",
    "    bins=100,\n",
    "    range=(0,25000000),\n",
    "    density=True\n",
    ")\n",
    "plt.title('Распределение баланса по клиентам по группам')\n",
    "plt.xlabel('Баланс')\n",
    "plt.ylabel('Частота')\n",
    "plt.legend(['Оставшиеся', 'Отток'])\n",
    "plt.show()"
   ]
  },
  {
   "cell_type": "markdown",
   "metadata": {},
   "source": [
    "Очевидно, что у клиентов, ушедших в отток, больше крупных сумм на балансе, чем у оставшихся клиентов. Построим гистограмму распределения возраста по клиентам, ушедшим в отток, и оставшимся клиентам:"
   ]
  },
  {
   "cell_type": "code",
   "execution_count": 40,
   "metadata": {},
   "outputs": [
    {
     "data": {
      "image/png": "[encoded data removed]",
      "text/plain": [
       "<Figure size 720x360 with 1 Axes>"
      ]
     },
     "metadata": {
      "needs_background": "light"
     },
     "output_type": "display_data"
    }
   ],
   "source": [
    "plt.figure(figsize=(10,5))\n",
    "bank_scrooge['age'][bank_scrooge['churn'] == 0].plot(kind='hist', alpha=0.5, bins=25, density=True)\n",
    "bank_scrooge['age'][bank_scrooge['churn'] == 1].plot(kind='hist', alpha=0.5, bins=25, density=True)\n",
    "plt.title('Распределение возраста клиентов по группам')\n",
    "plt.xlabel('Возраст')\n",
    "plt.ylabel('Частота')\n",
    "plt.legend(['Оставшиеся', 'Отток'])\n",
    "plt.show()"
   ]
  },
  {
   "cell_type": "markdown",
   "metadata": {},
   "source": [
    "Пики гистограмм приходятся примерно на 35 лет, при этом среди клиентов, ушеших в отток, клиенты в таком возрасте встречаются чаще. На диаграмме заметны два интервала оттока - примерно с 25 по 35 лет и с 50 по 59 лет. Проанализируем их более детально:"
   ]
  },
  {
   "cell_type": "code",
   "execution_count": 41,
   "metadata": {},
   "outputs": [
    {
     "data": {
      "image/png": "[encoded data removed]",
      "text/plain": [
       "<Figure size 1080x720 with 1 Axes>"
      ]
     },
     "metadata": {
      "needs_background": "light"
     },
     "output_type": "display_data"
    }
   ],
   "source": [
    "plt.figure(figsize=(15,10))\n",
    "bank_scrooge['age'][bank_scrooge['churn'] == 0].plot(kind='hist', alpha=0.5, bins=range(22,62,2), density=True)\n",
    "bank_scrooge['age'][bank_scrooge['churn'] == 1].plot(kind='hist', alpha=0.5, bins=range(22,62,2), density=True)\n",
    "plt.title('Распределение возраста клиентов по группам')\n",
    "plt.xlabel('Возраст')\n",
    "plt.ylabel('Частота')\n",
    "plt.legend(['Оставшиеся', 'Отток'])\n",
    "plt.show()"
   ]
  },
  {
   "cell_type": "markdown",
   "metadata": {},
   "source": [
    "На гистграмме ярко выражены два интервала оттока - с 24 лет по 35 лет включительно и с 50 по 59 лет включительно. Построим гистограмму распределения кредитного скоринга по клиентам, ушедшим в отток, и оставшимся клиентам:"
   ]
  },
  {
   "cell_type": "code",
   "execution_count": 42,
   "metadata": {},
   "outputs": [
    {
     "data": {
      "image/png": "[encoded data removed]",
      "text/plain": [
       "<Figure size 1080x720 with 1 Axes>"
      ]
     },
     "metadata": {
      "needs_background": "light"
     },
     "output_type": "display_data"
    }
   ],
   "source": [
    "plt.figure(figsize=(15,10))\n",
    "bank_scrooge['score'][bank_scrooge['churn'] == 0].plot(kind='hist', alpha=0.5, bins=100, density=True)\n",
    "bank_scrooge['score'][bank_scrooge['churn'] == 1].plot(kind='hist', alpha=0.5, bins=100, density=True)\n",
    "plt.title('Распределение баллов кредитного скоринга клиентов по группам')\n",
    "plt.xlabel('Баллы кредитного скоринга')\n",
    "plt.ylabel('Частота')\n",
    "plt.legend(['Оставшиеся', 'Отток'])\n",
    "plt.show()"
   ]
  },
  {
   "cell_type": "markdown",
   "metadata": {},
   "source": [
    "Среди клиентов, ушедших в отток, чаще встречаются клиены с суммой баллов кредитного скоринга в диапазоне от 800 до 900, а среди оставшихся клиентов - клиенты с суммой баллов менее 800 и более 900. Построим гистограмму распределения оценочной заработной платы по клиентам, ушедшим в отток, и оставшимся клиентам:"
   ]
  },
  {
   "cell_type": "code",
   "execution_count": 43,
   "metadata": {},
   "outputs": [
    {
     "data": {
      "image/png": "[encoded data removed]",
      "text/plain": [
       "<Figure size 1080x720 with 1 Axes>"
      ]
     },
     "metadata": {
      "needs_background": "light"
     },
     "output_type": "display_data"
    }
   ],
   "source": [
    "plt.figure(figsize=(15,10))\n",
    "plt.ticklabel_format(style='plain')\n",
    "bank_scrooge['est_salary'][bank_scrooge['churn'] == 0].plot(kind='hist', alpha=0.5, bins=100, density=True)\n",
    "bank_scrooge['est_salary'][bank_scrooge['churn'] == 1].plot(kind='hist', alpha=0.5, bins=100, density=True)\n",
    "plt.title('Распределение оценочной заработной платы клиентов по группам')\n",
    "plt.xlabel('Оценочная заработная плата')\n",
    "plt.ylabel('Частота')\n",
    "plt.legend(['Оставшиеся', 'Отток'])\n",
    "plt.show()"
   ]
  },
  {
   "cell_type": "markdown",
   "metadata": {},
   "source": [
    "Гистограммы почти поторяют друг друга, разница между распределениями неочевидна."
   ]
  },
  {
   "attachments": {},
   "cell_type": "markdown",
   "metadata": {},
   "source": [
    "<a id='section17'></a>\n",
    "### Анализ матрицы корреляций"
   ]
  },
  {
   "cell_type": "markdown",
   "metadata": {},
   "source": [
    "Рассчитаем и визуализируем матрицу корреляций и отдельно отобразим столбец с целевой переменной:"
   ]
  },
  {
   "cell_type": "code",
   "execution_count": 44,
   "metadata": {},
   "outputs": [
    {
     "data": {
      "image/png": "[encoded data removed]",
      "text/plain": [
       "<Figure size 1800x1080 with 2 Axes>"
      ]
     },
     "metadata": {},
     "output_type": "display_data"
    }
   ],
   "source": [
    "cm = bank_scrooge.corr()\n",
    "sns.set(rc = {'figure.figsize':(25,15)})\n",
    "sns.heatmap(\n",
    "    cm, \n",
    "    annot=True,\n",
    "    fmt='.0%',\n",
    "    cmap='vlag',\n",
    "    center=0,\n",
    "    square=True)\n",
    "plt.show()"
   ]
  },
  {
   "cell_type": "code",
   "execution_count": 45,
   "metadata": {},
   "outputs": [
    {
     "data": {
      "image/png": "[encoded data removed]",
      "text/plain": [
       "<Figure size 1800x1080 with 2 Axes>"
      ]
     },
     "metadata": {},
     "output_type": "display_data"
    }
   ],
   "source": [
    "sns.heatmap(\n",
    "    cm.loc[:,['churn']].drop('churn').sort_values('churn'), \n",
    "    annot=True,\n",
    "    fmt='.0%',\n",
    "    cmap='vlag',\n",
    "    center=0,\n",
    "    square=True)\n",
    "plt.show()"
   ]
  },
  {
   "cell_type": "markdown",
   "metadata": {},
   "source": [
    "Примем следующие признаки с максимальными значениями корреляции, как наиболее влияющие на отток:\n",
    "* количество продуктов;\n",
    "* оценка собственности клиента; \n",
    "* признак активности клиента за последний календарный месяц;\n",
    "* пол клиента;\n",
    "* признак по наличию кредитной карты.\n",
    "\n",
    "На основе этих признаков построим портреты пользователей - ушедших в отток и оставшихся. Кроме того, добавим в портреты клиентов характерные значения признаков `age`, `balance` и `age`."
   ]
  },
  {
   "attachments": {},
   "cell_type": "markdown",
   "metadata": {},
   "source": [
    "<a id='section18'></a>\n",
    "### Составление портрета пользователя в зависимости от признака оттока"
   ]
  },
  {
   "cell_type": "markdown",
   "metadata": {},
   "source": [
    "Для составления портрета пользователя в зависимости от признака оттока определим значения признаков, наиболее влияющих на отток, при которых можно утверждать, что пользователи скорее уходят в отток, чем остаются. Начнем с признака `products`:"
   ]
  },
  {
   "cell_type": "code",
   "execution_count": 46,
   "metadata": {},
   "outputs": [
    {
     "data": {
      "text/html": [
       "<div>\n",
       "<style scoped>\n",
       "    .dataframe tbody tr th:only-of-type {\n",
       "        vertical-align: middle;\n",
       "    }\n",
       "\n",
       "    .dataframe tbody tr th {\n",
       "        vertical-align: top;\n",
       "    }\n",
       "\n",
       "    .dataframe thead th {\n",
       "        text-align: right;\n",
       "    }\n",
       "</style>\n",
       "<table border=\"1\" class=\"dataframe\">\n",
       "  <thead>\n",
       "    <tr style=\"text-align: right;\">\n",
       "      <th></th>\n",
       "      <th>products</th>\n",
       "      <th>churn_share</th>\n",
       "    </tr>\n",
       "  </thead>\n",
       "  <tbody>\n",
       "    <tr>\n",
       "      <th>0</th>\n",
       "      <td>1</td>\n",
       "      <td>0.07</td>\n",
       "    </tr>\n",
       "    <tr>\n",
       "      <th>1</th>\n",
       "      <td>2</td>\n",
       "      <td>0.19</td>\n",
       "    </tr>\n",
       "    <tr>\n",
       "      <th>2</th>\n",
       "      <td>3</td>\n",
       "      <td>0.28</td>\n",
       "    </tr>\n",
       "    <tr>\n",
       "      <th>3</th>\n",
       "      <td>4</td>\n",
       "      <td>0.63</td>\n",
       "    </tr>\n",
       "    <tr>\n",
       "      <th>4</th>\n",
       "      <td>5</td>\n",
       "      <td>0.30</td>\n",
       "    </tr>\n",
       "  </tbody>\n",
       "</table>\n",
       "</div>"
      ],
      "text/plain": [
       "   products  churn_share\n",
       "0         1         0.07\n",
       "1         2         0.19\n",
       "2         3         0.28\n",
       "3         4         0.63\n",
       "4         5         0.30"
      ]
     },
     "execution_count": 46,
     "metadata": {},
     "output_type": "execute_result"
    }
   ],
   "source": [
    "productsChurnShare = bank_scrooge.pivot_table(\n",
    "    index='products',\n",
    "    values='userid',\n",
    "    columns='churn',\n",
    "    aggfunc='count'\n",
    ")\n",
    "productsChurnShare = productsChurnShare.reset_index()\n",
    "productsChurnShare['full_count'] = productsChurnShare[[0, 1]].sum(axis='columns') \n",
    "productsChurnShare['churn_share'] = productsChurnShare[1] / productsChurnShare['full_count']\n",
    "productsChurnShare = productsChurnShare[['products', 'churn_share']]\n",
    "productsChurnShare.columns = ['products', 'churn_share']\n",
    "productsChurnShare"
   ]
  },
  {
   "cell_type": "markdown",
   "metadata": {},
   "source": [
    "Очевидно, что пользователи, у которых 3 продукта, скорее уходят в отток, чем остаюся - доля ушедших в отток пользователей в этой категории составляет 28%, что значительно превышает среднее значение оттока по банку. Определим значение признака `equity`, при котором можно утверждать, что клиенты скорее уходят в отток:"
   ]
  },
  {
   "cell_type": "code",
   "execution_count": 47,
   "metadata": {},
   "outputs": [
    {
     "data": {
      "text/html": [
       "<div>\n",
       "<style scoped>\n",
       "    .dataframe tbody tr th:only-of-type {\n",
       "        vertical-align: middle;\n",
       "    }\n",
       "\n",
       "    .dataframe tbody tr th {\n",
       "        vertical-align: top;\n",
       "    }\n",
       "\n",
       "    .dataframe thead th {\n",
       "        text-align: right;\n",
       "    }\n",
       "</style>\n",
       "<table border=\"1\" class=\"dataframe\">\n",
       "  <thead>\n",
       "    <tr style=\"text-align: right;\">\n",
       "      <th></th>\n",
       "      <th>equity</th>\n",
       "      <th>churn_share</th>\n",
       "    </tr>\n",
       "  </thead>\n",
       "  <tbody>\n",
       "    <tr>\n",
       "      <th>0</th>\n",
       "      <td>0</td>\n",
       "      <td>0.03</td>\n",
       "    </tr>\n",
       "    <tr>\n",
       "      <th>1</th>\n",
       "      <td>1</td>\n",
       "      <td>0.12</td>\n",
       "    </tr>\n",
       "    <tr>\n",
       "      <th>2</th>\n",
       "      <td>2</td>\n",
       "      <td>0.16</td>\n",
       "    </tr>\n",
       "    <tr>\n",
       "      <th>3</th>\n",
       "      <td>3</td>\n",
       "      <td>0.21</td>\n",
       "    </tr>\n",
       "    <tr>\n",
       "      <th>4</th>\n",
       "      <td>4</td>\n",
       "      <td>0.25</td>\n",
       "    </tr>\n",
       "    <tr>\n",
       "      <th>5</th>\n",
       "      <td>5</td>\n",
       "      <td>0.30</td>\n",
       "    </tr>\n",
       "    <tr>\n",
       "      <th>6</th>\n",
       "      <td>6</td>\n",
       "      <td>0.36</td>\n",
       "    </tr>\n",
       "    <tr>\n",
       "      <th>7</th>\n",
       "      <td>7</td>\n",
       "      <td>0.46</td>\n",
       "    </tr>\n",
       "    <tr>\n",
       "      <th>8</th>\n",
       "      <td>8</td>\n",
       "      <td>0.35</td>\n",
       "    </tr>\n",
       "    <tr>\n",
       "      <th>9</th>\n",
       "      <td>9</td>\n",
       "      <td>0.54</td>\n",
       "    </tr>\n",
       "  </tbody>\n",
       "</table>\n",
       "</div>"
      ],
      "text/plain": [
       "   equity  churn_share\n",
       "0       0         0.03\n",
       "1       1         0.12\n",
       "2       2         0.16\n",
       "3       3         0.21\n",
       "4       4         0.25\n",
       "5       5         0.30\n",
       "6       6         0.36\n",
       "7       7         0.46\n",
       "8       8         0.35\n",
       "9       9         0.54"
      ]
     },
     "execution_count": 47,
     "metadata": {},
     "output_type": "execute_result"
    }
   ],
   "source": [
    "equityChurnShare = bank_scrooge.pivot_table(\n",
    "    index='equity',\n",
    "    values='userid',\n",
    "    columns='churn',\n",
    "    aggfunc='count'\n",
    ")\n",
    "equityChurnShare = equityChurnShare.reset_index()\n",
    "equityChurnShare['full_count'] = equityChurnShare[[0, 1]].sum(axis='columns') \n",
    "equityChurnShare['churn_share'] = equityChurnShare[1] / equityChurnShare['full_count']\n",
    "equityChurnShare = equityChurnShare[['equity', 'churn_share']]\n",
    "equityChurnShare.columns = ['equity', 'churn_share']\n",
    "equityChurnShare"
   ]
  },
  {
   "cell_type": "markdown",
   "metadata": {},
   "source": [
    "Очевидно, что пользователи, у которых оценка собственности равна 3, скорее уходят в отток, чем остаюся - доля ушедших в отток пользователей в этой категории составляет 21%, что превышает среднее значение оттока по банку. Для определения значения признака `balance`, при котором клиенты уходят в отток  категоризируем значения этого признака:"
   ]
  },
  {
   "cell_type": "code",
   "execution_count": 48,
   "metadata": {},
   "outputs": [],
   "source": [
    "#функция для категоризации\n",
    "def balance_group(balance):\n",
    "    \n",
    "    if balance <= 500000:\n",
    "        return 0.5\n",
    "    if balance > 500000 and balance <= 1000000:\n",
    "        return 1\n",
    "    if balance > 1000000 and balance <= 1500000:\n",
    "        return 1.5\n",
    "    if balance > 1500000 and balance <= 2000000:\n",
    "        return 2\n",
    "    if balance > 2000000 and balance <= 2500000:\n",
    "        return 2.5\n",
    "    if balance > 2500000 and balance <= 3000000:\n",
    "        return 3\n",
    "    if balance > 3000000 and balance <= 3500000:\n",
    "        return 3.5\n",
    "    if balance > 3500000 and balance <= 4000000:\n",
    "        return 4\n",
    "    if balance >= 4000000:\n",
    "        return 5\n",
    "    else:\n",
    "        return 0"
   ]
  },
  {
   "cell_type": "code",
   "execution_count": 49,
   "metadata": {},
   "outputs": [],
   "source": [
    "bank_scrooge['balance_group'] = bank_scrooge['balance'].apply(balance_group)"
   ]
  },
  {
   "cell_type": "markdown",
   "metadata": {},
   "source": [
    "Определим категорию признака `balance`, при которой можно утверждать, что клиенты скорее уходят в отток:"
   ]
  },
  {
   "cell_type": "code",
   "execution_count": 50,
   "metadata": {},
   "outputs": [
    {
     "data": {
      "text/html": [
       "<div>\n",
       "<style scoped>\n",
       "    .dataframe tbody tr th:only-of-type {\n",
       "        vertical-align: middle;\n",
       "    }\n",
       "\n",
       "    .dataframe tbody tr th {\n",
       "        vertical-align: top;\n",
       "    }\n",
       "\n",
       "    .dataframe thead th {\n",
       "        text-align: right;\n",
       "    }\n",
       "</style>\n",
       "<table border=\"1\" class=\"dataframe\">\n",
       "  <thead>\n",
       "    <tr style=\"text-align: right;\">\n",
       "      <th></th>\n",
       "      <th>balance_group</th>\n",
       "      <th>churn_share</th>\n",
       "    </tr>\n",
       "  </thead>\n",
       "  <tbody>\n",
       "    <tr>\n",
       "      <th>0</th>\n",
       "      <td>0.00</td>\n",
       "      <td>0.01</td>\n",
       "    </tr>\n",
       "    <tr>\n",
       "      <th>1</th>\n",
       "      <td>0.50</td>\n",
       "      <td>0.17</td>\n",
       "    </tr>\n",
       "    <tr>\n",
       "      <th>2</th>\n",
       "      <td>1.00</td>\n",
       "      <td>0.22</td>\n",
       "    </tr>\n",
       "    <tr>\n",
       "      <th>3</th>\n",
       "      <td>1.50</td>\n",
       "      <td>0.31</td>\n",
       "    </tr>\n",
       "    <tr>\n",
       "      <th>4</th>\n",
       "      <td>2.00</td>\n",
       "      <td>0.51</td>\n",
       "    </tr>\n",
       "    <tr>\n",
       "      <th>5</th>\n",
       "      <td>2.50</td>\n",
       "      <td>0.56</td>\n",
       "    </tr>\n",
       "    <tr>\n",
       "      <th>6</th>\n",
       "      <td>3.00</td>\n",
       "      <td>0.46</td>\n",
       "    </tr>\n",
       "    <tr>\n",
       "      <th>7</th>\n",
       "      <td>3.50</td>\n",
       "      <td>0.62</td>\n",
       "    </tr>\n",
       "    <tr>\n",
       "      <th>8</th>\n",
       "      <td>4.00</td>\n",
       "      <td>0.57</td>\n",
       "    </tr>\n",
       "    <tr>\n",
       "      <th>9</th>\n",
       "      <td>5.00</td>\n",
       "      <td>0.34</td>\n",
       "    </tr>\n",
       "  </tbody>\n",
       "</table>\n",
       "</div>"
      ],
      "text/plain": [
       "   balance_group  churn_share\n",
       "0           0.00         0.01\n",
       "1           0.50         0.17\n",
       "2           1.00         0.22\n",
       "3           1.50         0.31\n",
       "4           2.00         0.51\n",
       "5           2.50         0.56\n",
       "6           3.00         0.46\n",
       "7           3.50         0.62\n",
       "8           4.00         0.57\n",
       "9           5.00         0.34"
      ]
     },
     "execution_count": 50,
     "metadata": {},
     "output_type": "execute_result"
    }
   ],
   "source": [
    "balanceChurnShare = bank_scrooge.pivot_table(\n",
    "    index='balance_group',\n",
    "    values='userid',\n",
    "    columns='churn',\n",
    "    aggfunc='count'\n",
    ")\n",
    "balanceChurnShare = balanceChurnShare.reset_index()\n",
    "balanceChurnShare['full_count'] = balanceChurnShare[[0, 1]].sum(axis='columns') \n",
    "balanceChurnShare['churn_share'] = balanceChurnShare[1] / balanceChurnShare['full_count']\n",
    "balanceChurnShare = balanceChurnShare[['balance_group', 'churn_share']]\n",
    "balanceChurnShare.columns = ['balance_group', 'churn_share']\n",
    "balanceChurnShare"
   ]
  },
  {
   "cell_type": "markdown",
   "metadata": {},
   "source": [
    "Очевидно, что при увеличении суммы на балансе, увеличивается и доля клиентов, уходящих в отток. При этом доли оттока категорий клиентов, у которых сумма на счете более 500000 рублей, превышают среднюю долю оттока по банку. Для определения значения признака `score`, при котором клиенты уходят в отток, категоризируем значения этого признака:"
   ]
  },
  {
   "cell_type": "code",
   "execution_count": 51,
   "metadata": {},
   "outputs": [],
   "source": [
    "#функция для категоризации\n",
    "def score_group(score):\n",
    "    \n",
    "    if score > 650 and score <= 700:\n",
    "        return 700\n",
    "    if score > 700 and score <= 750:\n",
    "        return 750\n",
    "    if score > 750 and score <= 800:\n",
    "        return 800\n",
    "    if score > 800 and score <= 850:\n",
    "        return 850\n",
    "    if score > 850 and score <= 900:\n",
    "        return 900\n",
    "    if score > 900 and score <= 950:\n",
    "        return 950\n",
    "    if score > 950 and score <= 1000:\n",
    "        return 1000\n",
    "    else:\n",
    "        return 650"
   ]
  },
  {
   "cell_type": "code",
   "execution_count": 52,
   "metadata": {},
   "outputs": [],
   "source": [
    "bank_scrooge['score_group'] = bank_scrooge['score'].apply(score_group)"
   ]
  },
  {
   "cell_type": "markdown",
   "metadata": {},
   "source": [
    "Определим категорию признака `score`, при которой можно утверждать, что клиенты скорее уходят в отток:"
   ]
  },
  {
   "cell_type": "code",
   "execution_count": 53,
   "metadata": {},
   "outputs": [
    {
     "data": {
      "text/html": [
       "<div>\n",
       "<style scoped>\n",
       "    .dataframe tbody tr th:only-of-type {\n",
       "        vertical-align: middle;\n",
       "    }\n",
       "\n",
       "    .dataframe tbody tr th {\n",
       "        vertical-align: top;\n",
       "    }\n",
       "\n",
       "    .dataframe thead th {\n",
       "        text-align: right;\n",
       "    }\n",
       "</style>\n",
       "<table border=\"1\" class=\"dataframe\">\n",
       "  <thead>\n",
       "    <tr style=\"text-align: right;\">\n",
       "      <th></th>\n",
       "      <th>score_group</th>\n",
       "      <th>churn_share</th>\n",
       "    </tr>\n",
       "  </thead>\n",
       "  <tbody>\n",
       "    <tr>\n",
       "      <th>0</th>\n",
       "      <td>650</td>\n",
       "      <td>NaN</td>\n",
       "    </tr>\n",
       "    <tr>\n",
       "      <th>1</th>\n",
       "      <td>700</td>\n",
       "      <td>NaN</td>\n",
       "    </tr>\n",
       "    <tr>\n",
       "      <th>2</th>\n",
       "      <td>750</td>\n",
       "      <td>0.04</td>\n",
       "    </tr>\n",
       "    <tr>\n",
       "      <th>3</th>\n",
       "      <td>800</td>\n",
       "      <td>0.11</td>\n",
       "    </tr>\n",
       "    <tr>\n",
       "      <th>4</th>\n",
       "      <td>850</td>\n",
       "      <td>0.19</td>\n",
       "    </tr>\n",
       "    <tr>\n",
       "      <th>5</th>\n",
       "      <td>900</td>\n",
       "      <td>0.26</td>\n",
       "    </tr>\n",
       "    <tr>\n",
       "      <th>6</th>\n",
       "      <td>950</td>\n",
       "      <td>0.18</td>\n",
       "    </tr>\n",
       "    <tr>\n",
       "      <th>7</th>\n",
       "      <td>1000</td>\n",
       "      <td>0.13</td>\n",
       "    </tr>\n",
       "  </tbody>\n",
       "</table>\n",
       "</div>"
      ],
      "text/plain": [
       "   score_group  churn_share\n",
       "0          650          NaN\n",
       "1          700          NaN\n",
       "2          750         0.04\n",
       "3          800         0.11\n",
       "4          850         0.19\n",
       "5          900         0.26\n",
       "6          950         0.18\n",
       "7         1000         0.13"
      ]
     },
     "execution_count": 53,
     "metadata": {},
     "output_type": "execute_result"
    }
   ],
   "source": [
    "scoreChurnShare = bank_scrooge.pivot_table(\n",
    "    index='score_group',\n",
    "    values='userid',\n",
    "    columns='churn',\n",
    "    aggfunc='count'\n",
    ")\n",
    "scoreChurnShare = scoreChurnShare.reset_index()\n",
    "scoreChurnShare['full_count'] = scoreChurnShare[[0, 1]].sum(axis='columns') \n",
    "scoreChurnShare['churn_share'] = scoreChurnShare[1] / scoreChurnShare['full_count']\n",
    "scoreChurnShare = scoreChurnShare[['score_group', 'churn_share']]\n",
    "scoreChurnShare.columns = ['score_group', 'churn_share']\n",
    "scoreChurnShare"
   ]
  },
  {
   "cell_type": "markdown",
   "metadata": {},
   "source": [
    "Очевидно, что клиенты с суммой баллов кредитного скоринга от 800 до 900 скорее уходят в отток. В отличие от показателей `products`, `balance`, `score` и `equity` показатели `gender_new`, `last_activity` и `credit_card` - качественные, следовательно, мы можем утверждать, что пользователи, ушедшие в отток, скорее мужчины, скорее проявляли активность за последний календарный месяц и они могу как иметь, так и не иметь кредитную карту банка.\n",
    "\n",
    "В результате на основе признаков, наиболее влияющих на отток, мы можем составить следующий портрет пользователя, ушедшего в отток:\n",
    "* скорее мужчина, чем женщина;\n",
    "* возраст с 24 лет по 35 лет или с 50 по 59 лет;\n",
    "* сумма баллов кредитного скоринга от 800 до 900;\n",
    "* баланс на счетах банка более 500000 рублей;\n",
    "* имеет 3 и более продукта банка;\n",
    "* имеет оценку собственности `3` и выше;\n",
    "* проявлял активность за последний календарный месяц;\n",
    "* может как иметь, так и не иметь кредитной карты банка.\n",
    "\n",
    "В свою очередь, оставшийся пользователь будет иметь следующие характеристики:\n",
    "* скорее женщина, чем мужчина;\n",
    "* возраст до 24 лет или с 36 по 49 лет или 60 лет и старше;\n",
    "* сумма баллов кредитного скоринга менее 800 или более 900;\n",
    "* баланс на счетах банка не более 500000 рублей;\n",
    "* имеет не более 2 продуктов банка;\n",
    "* имеет оценку собственности `2` и менее;\n",
    "* скорее не проявлял активность за последний календарный месяц;\n",
    "* скорее имеет кредитную карту банка."
   ]
  },
  {
   "attachments": {},
   "cell_type": "markdown",
   "metadata": {},
   "source": [
    "<a id='section19'></a>\n",
    "### Вывод"
   ]
  },
  {
   "cell_type": "markdown",
   "metadata": {},
   "source": [
    "В результате исследовательского анализа данных мы выявили следующие наиболее влияющие на отток признаки и определили их характерные значения для клиентов, ушедших в отток, и оставшихся клиентов:\n",
    "* количество продуктов - у ушедших клиентов 3 и более, у оставшихся не более 2;\n",
    "* оценка собственности клиента - у ушедших 3 и более, у оставшихся 1 и 2; \n",
    "* признак активности клиента за последний календарный месяц - ушедшие проявляли активность, оставшиеся скорее не проявляли;\n",
    "* пол клиента - ушедшие скорее мужчины, оставшиеся скорее женщины;\n",
    "* признак по наличию кредитной карты - ушедшие как имеют, так и не имеют, оставшиеся скорее имеют."
   ]
  },
  {
   "attachments": {},
   "cell_type": "markdown",
   "metadata": {},
   "source": [
    "<a id='section20'></a>\n",
    "## Проверка гипотез"
   ]
  },
  {
   "attachments": {},
   "cell_type": "markdown",
   "metadata": {},
   "source": [
    "<a id='section21'></a>\n",
    "### Формулировка гипотез"
   ]
  },
  {
   "cell_type": "markdown",
   "metadata": {},
   "source": [
    "В перечень признаков, влияющих на отток, мы не добавили признаки `score` и `balance`, при этом значения корреляции этих признаков с признаком оттока достаточны , чтобы обратить на них внимание. Однако, средние значения кредитного рейтинга оставшихся и ушедших в отток клиентов различаются незначительно, а средние значения баланса по группам хоть и имеют значительное отличие, но сами данные содержат много выбросов. Следовательно, оценки статистической значимости различия средних значений этих признаков по группам клиентов целесообразно воспользоваться статистическими инструментами. Кроме того, проверим гипотезу о различии средней оценочной зарплаты ушедших и оставшихся клиентов.\n",
    "\n",
    "Проверим следующие гипотезы:\n",
    "* средние значения баллов кредитного скоринга у оставшихся клиентов и клиентов, ушедших в отток, различаются;\n",
    "* средние значения баланса у оставшихся клиентов и клиентов, ушедших в отток, различаются;\n",
    "* средние значения оценочной зарплаты у оставшихся клиентов и клиентов, ушедших в отток, различаются."
   ]
  },
  {
   "attachments": {},
   "cell_type": "markdown",
   "metadata": {},
   "source": [
    "<a id='section22'></a>\n",
    "### Различие средних значений баллов кредитного скоринга у оставшихся клиентов, и клиентов, ушедших в отток"
   ]
  },
  {
   "cell_type": "markdown",
   "metadata": {},
   "source": [
    "Проверим гипотезу о различии средних значений баллов кредитного скоринга у оставшихся клиентов и клиентов, ушедших в отток. При этом нулевой гипозой будет гипотеза о равенстве средних значений баллов кредитного скоринга, а альтернативной - о неравенстве средних значений баллов кредитного скоринга. Сохраним выборки в переменные `stayUserScore` и `cHurnUserScore`:"
   ]
  },
  {
   "cell_type": "code",
   "execution_count": 55,
   "metadata": {},
   "outputs": [],
   "source": [
    "stayUserScore = bank_scrooge.loc[bank_scrooge['churn'] == 0, 'score']\n",
    "churnUserScore = bank_scrooge.loc[bank_scrooge['churn'] == 1, 'score']"
   ]
  },
  {
   "cell_type": "markdown",
   "metadata": {},
   "source": [
    "Нам известно, что выборки распределены нормально, стандартное отклонение генеральной совокупности неизвестно, выбросы незначительны, при этом размеры у выборок разные, выборки независимы, и не важно, больше или меньше одно среднее значение другого. По этим причинам воспользуемся двусторонним t-тестом Стьюдента, а уровень статистической значимости примем равным 0,1:"
   ]
  },
  {
   "cell_type": "code",
   "execution_count": 56,
   "metadata": {},
   "outputs": [
    {
     "name": "stdout",
     "output_type": "stream",
     "text": [
      "p-значение: 1.305789151012351e-37\n",
      "Отвергаем нулевую гипотезу\n"
     ]
    }
   ],
   "source": [
    "alpha = .1\n",
    "first_test = st.ttest_ind(\n",
    "    stayUserScore,\n",
    "    churnUserScore,\n",
    "    equal_var = False # используем этот параметр потому, что выборки разного размера\n",
    ")\n",
    "\n",
    "print('p-значение:', first_test.pvalue)\n",
    "\n",
    "if first_test.pvalue < alpha:\n",
    "    print('Отвергаем нулевую гипотезу')\n",
    "else:\n",
    "    print('Не получилось отвергнуть нулевую гипотезу')"
   ]
  },
  {
   "cell_type": "markdown",
   "metadata": {},
   "source": [
    "Очевидно, что p-значение меньше порогового. Следовательно, можем принять гипотезу о неравенстве средних значений - различие между средними значениями баллов кредитного скоринга у оставшихся и ушедших клиентов статистически значимо."
   ]
  },
  {
   "attachments": {},
   "cell_type": "markdown",
   "metadata": {},
   "source": [
    "<a id='section23'></a>\n",
    "### Различие средних значений баланса у оставшихся клиентов, и клиентов, ушедших в отток"
   ]
  },
  {
   "cell_type": "markdown",
   "metadata": {},
   "source": [
    "Проверим гипотезу о различии средних значений баланса у оставшихся клиентов и клиентов, ушедших в отток. При этом нулевой гипозой будет гипотеза о равенстве баланса, а альтернативной - о неравенстве баланса. Сохраним выборки в переменные `stayUserBalance` и `cHurnUserBalance`:"
   ]
  },
  {
   "cell_type": "code",
   "execution_count": 57,
   "metadata": {},
   "outputs": [],
   "source": [
    "stayUserBalance = bank_scrooge.loc[\n",
    "    (\n",
    "         bank_scrooge['churn'] == 0\n",
    "    ) &\n",
    "    (\n",
    "        bank_scrooge['balance'].notna()\n",
    "    ), \n",
    "    'balance'\n",
    "]\n",
    "churnUserBalance = bank_scrooge.loc[\n",
    "    (\n",
    "         bank_scrooge['churn'] == 1\n",
    "    ) &\n",
    "    (\n",
    "        bank_scrooge['balance'].notna()\n",
    "    ), \n",
    "    'balance'\n",
    "]"
   ]
  },
  {
   "cell_type": "markdown",
   "metadata": {},
   "source": [
    "Нам известно, что выборки распределены нормально, стандартное отклонение генеральной совокупности неизвестно, однако, в данных присутствуют выбросы, при этом размеры у выборок разные, выборки независимы, и не важно, больше или меньше одно среднее значение другого. По этим причинам воспользуемся критерием Манна-Уитни, а уровень статистической значимости примем равным 0,1:"
   ]
  },
  {
   "cell_type": "code",
   "execution_count": 58,
   "metadata": {},
   "outputs": [
    {
     "name": "stdout",
     "output_type": "stream",
     "text": [
      "p-значение:  3.13303641018346e-70\n",
      "Отвергаем нулевую гипотезу: разница статистически значима\n"
     ]
    }
   ],
   "source": [
    "alpha = .01 \n",
    "\n",
    "second_test = st.mannwhitneyu(stayUserBalance, churnUserBalance)\n",
    "\n",
    "print('p-значение: ', second_test.pvalue)\n",
    "\n",
    "if second_test.pvalue < alpha:\n",
    "    print('Отвергаем нулевую гипотезу: разница статистически значима')\n",
    "else:\n",
    "    print('Не получилось отвергнуть нулевую гипотезу, вывод о различии сделать нельзя')"
   ]
  },
  {
   "cell_type": "markdown",
   "metadata": {},
   "source": [
    "Действительно, несмотря на выбросы, разница между средним значением баланса клиентов, ушедших в отток, и оставшихся клиентов статистически значима."
   ]
  },
  {
   "attachments": {},
   "cell_type": "markdown",
   "metadata": {},
   "source": [
    "<a id='section24'></a>\n",
    "### Различие средней оценочной зарплаты оставшихся клиентов, и клиентов, ушедших в отток"
   ]
  },
  {
   "cell_type": "markdown",
   "metadata": {},
   "source": [
    "Проверим гипотезу о различии средней оценочной зарплаты оставшихся клиентов и клиентов, ушедших в отток. При этом нулевой гипозой будет гипотеза о равенстве оценочной зарплаты, а альтернативной - о неравенстве оценочной зарплаты. Сохраним выборки в переменные `stayUserSalary` и `stayUserSalary`:"
   ]
  },
  {
   "cell_type": "code",
   "execution_count": 59,
   "metadata": {},
   "outputs": [],
   "source": [
    "stayUserSalary = bank_scrooge.loc[bank_scrooge['churn'] == 0, 'est_salary']\n",
    "churnUserSalary = bank_scrooge.loc[bank_scrooge['churn'] == 1, 'est_salary']"
   ]
  },
  {
   "cell_type": "markdown",
   "metadata": {},
   "source": [
    "Нам известно, что выборки распределены нормально, стандартное отклонение генеральной совокупности неизвестно, размеры у выборок разные, выборки независимы, и не важно, больше или меньше одно среднее значение другого. Кроме того, по гистограммам мы заметили, что в данных присутствуют выбросы. Поэтому проверим гипотезу как t-тестом, так и u-тестом, а уровень статистической значимости примем равным 0,1. Начнем с t-теста:"
   ]
  },
  {
   "cell_type": "code",
   "execution_count": 60,
   "metadata": {},
   "outputs": [
    {
     "name": "stdout",
     "output_type": "stream",
     "text": [
      "p-значение: 0.8781380159534931\n",
      "Не получилось отвергнуть нулевую гипотезу\n"
     ]
    }
   ],
   "source": [
    "alpha = .1\n",
    "third_test = st.ttest_ind(\n",
    "    stayUserSalary,\n",
    "    churnUserSalary,\n",
    "    equal_var = False # используем этот параметр потому, что выборки разного размера\n",
    ")\n",
    "\n",
    "print('p-значение:', third_test.pvalue)\n",
    "\n",
    "if third_test.pvalue < alpha:\n",
    "    print('Отвергаем нулевую гипотезу')\n",
    "else:\n",
    "    print('Не получилось отвергнуть нулевую гипотезу')"
   ]
  },
  {
   "cell_type": "markdown",
   "metadata": {},
   "source": [
    "Результат t-теста свидетельствует о том, что между средними значениями оценочной заработной платы статистически значимых различий нет. Проверим гипотезу u-тестом:"
   ]
  },
  {
   "cell_type": "code",
   "execution_count": 61,
   "metadata": {},
   "outputs": [
    {
     "name": "stdout",
     "output_type": "stream",
     "text": [
      "p-значение:  0.00021719724757968803\n",
      "Отвергаем нулевую гипотезу: разница статистически значима\n"
     ]
    }
   ],
   "source": [
    "alpha = .01 \n",
    "\n",
    "fourth_test = st.mannwhitneyu(stayUserSalary, churnUserSalary)\n",
    "\n",
    "print('p-значение: ', fourth_test.pvalue)\n",
    "\n",
    "if fourth_test.pvalue < alpha:\n",
    "    print('Отвергаем нулевую гипотезу: разница статистически значима')\n",
    "else:\n",
    "    print('Не получилось отвергнуть нулевую гипотезу, вывод о различии сделать нельзя')"
   ]
  },
  {
   "cell_type": "markdown",
   "metadata": {},
   "source": [
    "Результат u-теста свидетельствует о том, что между средними значениями оценочной заработной платы присутствует статистически значимое различие. Разница между результатами тестов обусловлена тем, что в данных присутствуют выбросы. В таких случаях, как правило, параметрический t-тест работает плохо. В этом случае результат непараметрического u-теста кажется более достоверным."
   ]
  },
  {
   "attachments": {},
   "cell_type": "markdown",
   "metadata": {},
   "source": [
    "<a id='section25'></a>\n",
    "### Вывод"
   ]
  },
  {
   "cell_type": "markdown",
   "metadata": {},
   "source": [
    "В рамках проверки гипотез можем сделать следующие выводы:\n",
    "* между средними значениями сумм баллов кредитного скоринга у ушедших в отток и оставшихся клиентов присутствует статистически значимая разница;\n",
    "* между средними значениями баланса ушедших в отток и оставшихся клиентов присутствует статистически значимая разница;\n",
    "* между средними значениями оценочной зарплаты ушедших в отток и оставшихся клиентов присутствует статистически значимая разница."
   ]
  },
  {
   "attachments": {},
   "cell_type": "markdown",
   "metadata": {},
   "source": [
    "<a id='section26'></a>\n",
    "## Сегментация"
   ]
  },
  {
   "cell_type": "markdown",
   "metadata": {},
   "source": [
    "Распределим клиентов по сегментам, определим количество клиентов и долю оттока в сегменте. В первый сегмент войдут клиенты, у которых 3 и более продукта банка, один из которых - кредитная карта:"
   ]
  },
  {
   "cell_type": "code",
   "execution_count": 62,
   "metadata": {},
   "outputs": [
    {
     "name": "stdout",
     "output_type": "stream",
     "text": [
      "Количество клиентов: 712\n",
      "Доля клиентов, ушедших в отток: 0.48\n"
     ]
    }
   ],
   "source": [
    "first_segment = bank_scrooge.query('products >= 3 and credit_card == 1')\n",
    "print('Количество клиентов:', first_segment.shape[0])\n",
    "print('Доля клиентов, ушедших в отток:', \"{0:.2f}\".format(first_segment['churn'].mean()))"
   ]
  },
  {
   "cell_type": "markdown",
   "metadata": {},
   "source": [
    "В первый сегмент вошли 712 клиентов, а доля оттока составила 48%.\n",
    "\n",
    "Во второй сегмент войдут мужчины, которых можно считать обеспеченными - оценка собственности у них равна `5` и выше:"
   ]
  },
  {
   "cell_type": "code",
   "execution_count": 63,
   "metadata": {},
   "outputs": [
    {
     "name": "stdout",
     "output_type": "stream",
     "text": [
      "Количество клиентов: 1124\n",
      "Доля клиентов, ушедших в отток: 0.41\n"
     ]
    }
   ],
   "source": [
    "second_segment = bank_scrooge.query('gender_male == 1 and equity >= 5')\n",
    "print('Количество клиентов:', second_segment.shape[0])\n",
    "print('Доля клиентов, ушедших в отток:', \"{0:.2f}\".format(second_segment['churn'].mean()))"
   ]
  },
  {
   "cell_type": "markdown",
   "metadata": {},
   "source": [
    "Во второй сегмент вошли 1124 клиента, а доля оттока составила 41%.\n",
    "\n",
    "В третий сегмент войдут мужчины, которых можно отнести к условному среднему классу - оценка собственности у них равна `3` или `4`, но при этом они проявляли активность за последний календарный месяц:"
   ]
  },
  {
   "cell_type": "code",
   "execution_count": 64,
   "metadata": {},
   "outputs": [
    {
     "name": "stdout",
     "output_type": "stream",
     "text": [
      "Количество клиентов: 815\n",
      "Доля клиентов, ушедших в отток: 0.40\n"
     ]
    }
   ],
   "source": [
    "forth_segment = bank_scrooge.query('gender_male == 1 and last_activity == 1 and (equity == 3 or equity == 4)')\n",
    "print('Количество клиентов:', forth_segment.shape[0])\n",
    "print('Доля клиентов, ушедших в отток:', \"{0:.2f}\".format(forth_segment['churn'].mean()))"
   ]
  },
  {
   "cell_type": "markdown",
   "metadata": {},
   "source": [
    "В третий сегмент вошли 815 клиентов, а доля оттока составила 40%."
   ]
  },
  {
   "attachments": {},
   "cell_type": "markdown",
   "metadata": {},
   "source": [
    "<a id='section27'></a>\n",
    "## Рекомендации"
   ]
  },
  {
   "cell_type": "markdown",
   "metadata": {},
   "source": [
    "Для выделенных сегментов мы можем дать следующие рекомендации, направленные на удержание клиентов:\n",
    "* для первого сегмента с клиентами, у которых 3 и более продуктов, в т. ч. кредитная карта - повышенный кэшбэк, более высокий процент по вкладам (чем больше продуктов, тем выше процент), возможность кредитных каникул\n",
    "* для второго сегмента с мужчинами, у которых оценка собственности, равная 5 и выше - поскольку такие клиенты кажутся наиболее интересными для банка, то им можно предоставить личного менеджера, доступного круглосуточно, а также повышенный процент по вкладам, улучшенный валютный курс при обмене крупных сумм, привелигированный сервис (консъерж, такси и отдельные залы);\n",
    "* для третьего сегмента с мужчинами, у которых оценка собственности, равная 3 или 4, и котрые проявляли активность за последний календарный месяц - приоритетное обслуживание, льготное страхование (поскольку такие клиенты, предположительно, чаще проявляют обеспокоенность)."
   ]
  }
 ],
 "metadata": {
  "ExecuteTimeLog": [
   {
    "duration": 1401,
    "start_time": "2023-02-14T13:03:23.972Z"
   },
   {
    "duration": 1168,
    "start_time": "2023-02-14T13:11:23.469Z"
   },
   {
    "duration": 2880,
    "start_time": "2023-02-14T13:12:51.947Z"
   },
   {
    "duration": 1137,
    "start_time": "2023-02-14T13:13:24.540Z"
   },
   {
    "duration": 1152,
    "start_time": "2023-02-14T13:13:25.679Z"
   },
   {
    "duration": 16,
    "start_time": "2023-02-14T13:13:26.832Z"
   },
   {
    "duration": 12,
    "start_time": "2023-02-14T13:13:26.850Z"
   },
   {
    "duration": 3,
    "start_time": "2023-02-14T13:51:38.941Z"
   },
   {
    "duration": 5,
    "start_time": "2023-02-14T14:00:15.162Z"
   },
   {
    "duration": 1336,
    "start_time": "2023-02-14T14:25:41.392Z"
   },
   {
    "duration": 6,
    "start_time": "2023-02-14T14:29:17.796Z"
   },
   {
    "duration": 9,
    "start_time": "2023-02-14T14:29:22.776Z"
   },
   {
    "duration": 1250,
    "start_time": "2023-02-14T14:29:51.602Z"
   },
   {
    "duration": 1700,
    "start_time": "2023-02-14T14:29:57.916Z"
   },
   {
    "duration": 1216,
    "start_time": "2023-02-14T14:29:59.618Z"
   },
   {
    "duration": 18,
    "start_time": "2023-02-14T14:30:00.836Z"
   },
   {
    "duration": 79,
    "start_time": "2023-02-14T14:30:00.857Z"
   },
   {
    "duration": 55,
    "start_time": "2023-02-14T14:30:00.937Z"
   },
   {
    "duration": 60,
    "start_time": "2023-02-14T14:30:00.993Z"
   },
   {
    "duration": 1589,
    "start_time": "2023-02-14T14:30:01.055Z"
   },
   {
    "duration": 10,
    "start_time": "2023-02-14T14:32:35.258Z"
   },
   {
    "duration": 9,
    "start_time": "2023-02-14T14:35:14.548Z"
   },
   {
    "duration": 15,
    "start_time": "2023-02-14T14:35:27.285Z"
   },
   {
    "duration": 10,
    "start_time": "2023-02-14T14:42:57.353Z"
   },
   {
    "duration": 9,
    "start_time": "2023-02-14T14:43:08.543Z"
   },
   {
    "duration": 18,
    "start_time": "2023-02-14T14:43:13.131Z"
   },
   {
    "duration": 1122,
    "start_time": "2023-02-14T14:51:09.008Z"
   },
   {
    "duration": 1215,
    "start_time": "2023-02-14T14:51:10.132Z"
   },
   {
    "duration": 51,
    "start_time": "2023-02-14T14:51:11.348Z"
   },
   {
    "duration": 12,
    "start_time": "2023-02-14T14:51:11.402Z"
   },
   {
    "duration": 3,
    "start_time": "2023-02-14T14:51:11.415Z"
   },
   {
    "duration": 15,
    "start_time": "2023-02-14T14:51:11.420Z"
   },
   {
    "duration": 8,
    "start_time": "2023-02-14T14:51:11.437Z"
   },
   {
    "duration": 51,
    "start_time": "2023-02-14T14:51:11.447Z"
   },
   {
    "duration": 7,
    "start_time": "2023-02-14T14:51:52.966Z"
   },
   {
    "duration": 18,
    "start_time": "2023-02-14T14:51:57.301Z"
   },
   {
    "duration": 1166,
    "start_time": "2023-02-14T14:52:30.011Z"
   },
   {
    "duration": 1152,
    "start_time": "2023-02-14T14:52:31.182Z"
   },
   {
    "duration": 21,
    "start_time": "2023-02-14T14:52:32.337Z"
   },
   {
    "duration": 13,
    "start_time": "2023-02-14T14:52:32.360Z"
   },
   {
    "duration": 3,
    "start_time": "2023-02-14T14:52:32.375Z"
   },
   {
    "duration": 7,
    "start_time": "2023-02-14T14:52:32.380Z"
   },
   {
    "duration": 9,
    "start_time": "2023-02-14T14:52:32.389Z"
   },
   {
    "duration": 12,
    "start_time": "2023-02-14T14:52:32.400Z"
   },
   {
    "duration": 97,
    "start_time": "2023-02-14T14:57:07.816Z"
   },
   {
    "duration": 7,
    "start_time": "2023-02-14T14:57:35.804Z"
   },
   {
    "duration": 12,
    "start_time": "2023-02-14T15:28:03.099Z"
   },
   {
    "duration": 9,
    "start_time": "2023-02-14T15:28:10.420Z"
   },
   {
    "duration": 1110,
    "start_time": "2023-02-14T15:38:55.822Z"
   },
   {
    "duration": 1268,
    "start_time": "2023-02-14T15:38:56.934Z"
   },
   {
    "duration": 15,
    "start_time": "2023-02-14T15:38:58.204Z"
   },
   {
    "duration": 13,
    "start_time": "2023-02-14T15:38:58.222Z"
   },
   {
    "duration": 6,
    "start_time": "2023-02-14T15:38:58.236Z"
   },
   {
    "duration": 17,
    "start_time": "2023-02-14T15:38:58.244Z"
   },
   {
    "duration": 13,
    "start_time": "2023-02-14T15:38:58.263Z"
   },
   {
    "duration": 18,
    "start_time": "2023-02-14T15:38:58.278Z"
   },
   {
    "duration": 9,
    "start_time": "2023-02-14T15:38:58.297Z"
   },
   {
    "duration": 8,
    "start_time": "2023-02-14T15:38:58.308Z"
   },
   {
    "duration": 6,
    "start_time": "2023-02-14T15:39:47.000Z"
   },
   {
    "duration": 1165,
    "start_time": "2023-02-14T15:41:26.767Z"
   },
   {
    "duration": 3,
    "start_time": "2023-02-14T15:41:27.934Z"
   },
   {
    "duration": 1425,
    "start_time": "2023-02-14T15:41:27.938Z"
   },
   {
    "duration": 14,
    "start_time": "2023-02-14T15:41:29.365Z"
   },
   {
    "duration": 12,
    "start_time": "2023-02-14T15:41:29.380Z"
   },
   {
    "duration": 4,
    "start_time": "2023-02-14T15:41:29.395Z"
   },
   {
    "duration": 14,
    "start_time": "2023-02-14T15:41:29.401Z"
   },
   {
    "duration": 8,
    "start_time": "2023-02-14T15:41:29.417Z"
   },
   {
    "duration": 15,
    "start_time": "2023-02-14T15:41:29.427Z"
   },
   {
    "duration": 9,
    "start_time": "2023-02-14T15:41:29.445Z"
   },
   {
    "duration": 8,
    "start_time": "2023-02-14T16:18:32.391Z"
   },
   {
    "duration": 16,
    "start_time": "2023-02-14T16:19:57.869Z"
   },
   {
    "duration": 17,
    "start_time": "2023-02-14T16:21:20.460Z"
   },
   {
    "duration": 1330,
    "start_time": "2023-02-14T16:25:35.709Z"
   },
   {
    "duration": 15,
    "start_time": "2023-02-14T16:25:50.437Z"
   },
   {
    "duration": 11,
    "start_time": "2023-02-14T16:27:04.412Z"
   },
   {
    "duration": 14,
    "start_time": "2023-02-14T16:28:33.949Z"
   },
   {
    "duration": 15,
    "start_time": "2023-02-14T16:28:46.979Z"
   },
   {
    "duration": 5,
    "start_time": "2023-02-14T16:29:07.794Z"
   },
   {
    "duration": 37,
    "start_time": "2023-02-14T16:29:13.650Z"
   },
   {
    "duration": 12,
    "start_time": "2023-02-14T16:30:22.482Z"
   },
   {
    "duration": 29,
    "start_time": "2023-02-14T16:30:30.968Z"
   },
   {
    "duration": 1223,
    "start_time": "2023-02-14T16:33:32.814Z"
   },
   {
    "duration": 4,
    "start_time": "2023-02-14T16:33:34.039Z"
   },
   {
    "duration": 1370,
    "start_time": "2023-02-14T16:33:34.045Z"
   },
   {
    "duration": 21,
    "start_time": "2023-02-14T16:33:35.417Z"
   },
   {
    "duration": 14,
    "start_time": "2023-02-14T16:33:35.440Z"
   },
   {
    "duration": 4,
    "start_time": "2023-02-14T16:33:35.455Z"
   },
   {
    "duration": 12,
    "start_time": "2023-02-14T16:33:35.460Z"
   },
   {
    "duration": 29,
    "start_time": "2023-02-14T16:33:35.474Z"
   },
   {
    "duration": 13,
    "start_time": "2023-02-14T16:33:35.509Z"
   },
   {
    "duration": 10,
    "start_time": "2023-02-14T16:33:35.526Z"
   },
   {
    "duration": 13,
    "start_time": "2023-02-14T16:33:35.538Z"
   },
   {
    "duration": 60,
    "start_time": "2023-02-14T16:33:35.553Z"
   },
   {
    "duration": 8,
    "start_time": "2023-02-14T16:34:28.115Z"
   },
   {
    "duration": 30,
    "start_time": "2023-02-14T16:34:55.488Z"
   },
   {
    "duration": 8,
    "start_time": "2023-02-14T16:35:08.765Z"
   },
   {
    "duration": 6,
    "start_time": "2023-02-14T16:40:50.188Z"
   },
   {
    "duration": 7,
    "start_time": "2023-02-14T16:41:35.896Z"
   },
   {
    "duration": 6,
    "start_time": "2023-02-14T16:42:54.682Z"
   },
   {
    "duration": 6,
    "start_time": "2023-02-14T16:43:19.958Z"
   },
   {
    "duration": 1571,
    "start_time": "2023-02-14T16:50:04.228Z"
   },
   {
    "duration": 3,
    "start_time": "2023-02-14T16:50:05.801Z"
   },
   {
    "duration": 1083,
    "start_time": "2023-02-14T16:50:05.805Z"
   },
   {
    "duration": 15,
    "start_time": "2023-02-14T16:50:06.890Z"
   },
   {
    "duration": 12,
    "start_time": "2023-02-14T16:50:06.907Z"
   },
   {
    "duration": 3,
    "start_time": "2023-02-14T16:50:06.920Z"
   },
   {
    "duration": 8,
    "start_time": "2023-02-14T16:50:06.925Z"
   },
   {
    "duration": 9,
    "start_time": "2023-02-14T16:50:06.934Z"
   },
   {
    "duration": 20,
    "start_time": "2023-02-14T16:50:06.944Z"
   },
   {
    "duration": 29,
    "start_time": "2023-02-14T16:50:06.966Z"
   },
   {
    "duration": 11,
    "start_time": "2023-02-14T16:50:06.998Z"
   },
   {
    "duration": 28,
    "start_time": "2023-02-14T16:50:07.011Z"
   },
   {
    "duration": 7,
    "start_time": "2023-02-14T16:50:07.041Z"
   },
   {
    "duration": 18,
    "start_time": "2023-02-14T16:50:07.050Z"
   },
   {
    "duration": 100,
    "start_time": "2023-02-14T16:52:09.768Z"
   },
   {
    "duration": 38,
    "start_time": "2023-02-14T16:52:26.223Z"
   },
   {
    "duration": 53,
    "start_time": "2023-02-15T07:28:12.529Z"
   },
   {
    "duration": 1457,
    "start_time": "2023-02-15T07:28:18.558Z"
   },
   {
    "duration": 3,
    "start_time": "2023-02-15T07:28:20.017Z"
   },
   {
    "duration": 1277,
    "start_time": "2023-02-15T07:28:20.022Z"
   },
   {
    "duration": 55,
    "start_time": "2023-02-15T07:28:21.301Z"
   },
   {
    "duration": 20,
    "start_time": "2023-02-15T07:28:21.358Z"
   },
   {
    "duration": 75,
    "start_time": "2023-02-15T07:28:21.379Z"
   },
   {
    "duration": 41,
    "start_time": "2023-02-15T07:28:21.458Z"
   },
   {
    "duration": 47,
    "start_time": "2023-02-15T07:28:21.502Z"
   },
   {
    "duration": 22,
    "start_time": "2023-02-15T07:28:21.557Z"
   },
   {
    "duration": 19,
    "start_time": "2023-02-15T07:28:21.582Z"
   },
   {
    "duration": 62,
    "start_time": "2023-02-15T07:28:21.603Z"
   },
   {
    "duration": 101,
    "start_time": "2023-02-15T07:28:21.667Z"
   },
   {
    "duration": 8,
    "start_time": "2023-02-15T07:28:21.771Z"
   },
   {
    "duration": 74,
    "start_time": "2023-02-15T07:28:21.781Z"
   },
   {
    "duration": 7,
    "start_time": "2023-02-15T07:28:21.865Z"
   },
   {
    "duration": 135,
    "start_time": "2023-02-15T07:28:45.138Z"
   },
   {
    "duration": 17,
    "start_time": "2023-02-15T07:29:02.538Z"
   },
   {
    "duration": 6,
    "start_time": "2023-02-15T07:29:10.694Z"
   },
   {
    "duration": 7,
    "start_time": "2023-02-15T07:45:41.395Z"
   },
   {
    "duration": 6,
    "start_time": "2023-02-15T07:46:00.305Z"
   },
   {
    "duration": 15,
    "start_time": "2023-02-15T08:22:16.526Z"
   },
   {
    "duration": 10,
    "start_time": "2023-02-15T08:22:43.476Z"
   },
   {
    "duration": 10,
    "start_time": "2023-02-15T08:23:56.185Z"
   },
   {
    "duration": 1216,
    "start_time": "2023-02-15T08:25:13.119Z"
   },
   {
    "duration": 3,
    "start_time": "2023-02-15T08:25:14.337Z"
   },
   {
    "duration": 1321,
    "start_time": "2023-02-15T08:25:14.341Z"
   },
   {
    "duration": 16,
    "start_time": "2023-02-15T08:25:15.664Z"
   },
   {
    "duration": 12,
    "start_time": "2023-02-15T08:25:15.682Z"
   },
   {
    "duration": 5,
    "start_time": "2023-02-15T08:25:15.695Z"
   },
   {
    "duration": 5,
    "start_time": "2023-02-15T08:25:15.702Z"
   },
   {
    "duration": 10,
    "start_time": "2023-02-15T08:25:15.709Z"
   },
   {
    "duration": 30,
    "start_time": "2023-02-15T08:25:15.721Z"
   },
   {
    "duration": 9,
    "start_time": "2023-02-15T08:25:15.754Z"
   },
   {
    "duration": 11,
    "start_time": "2023-02-15T08:25:15.765Z"
   },
   {
    "duration": 29,
    "start_time": "2023-02-15T08:25:15.777Z"
   },
   {
    "duration": 8,
    "start_time": "2023-02-15T08:25:15.808Z"
   },
   {
    "duration": 9,
    "start_time": "2023-02-15T08:25:15.849Z"
   },
   {
    "duration": 8,
    "start_time": "2023-02-15T08:25:15.860Z"
   },
   {
    "duration": 7,
    "start_time": "2023-02-15T08:25:15.869Z"
   },
   {
    "duration": 9,
    "start_time": "2023-02-15T08:25:15.878Z"
   },
   {
    "duration": 10,
    "start_time": "2023-02-15T08:25:15.889Z"
   },
   {
    "duration": 526,
    "start_time": "2023-02-15T08:34:21.549Z"
   },
   {
    "duration": 605,
    "start_time": "2023-02-15T08:40:34.615Z"
   },
   {
    "duration": 606,
    "start_time": "2023-02-15T08:41:03.555Z"
   },
   {
    "duration": 506,
    "start_time": "2023-02-15T08:43:36.986Z"
   },
   {
    "duration": 593,
    "start_time": "2023-02-15T08:44:14.881Z"
   },
   {
    "duration": 96,
    "start_time": "2023-02-15T09:03:42.218Z"
   },
   {
    "duration": 6,
    "start_time": "2023-02-15T09:03:49.215Z"
   },
   {
    "duration": 1132,
    "start_time": "2023-02-15T09:07:16.034Z"
   },
   {
    "duration": 3,
    "start_time": "2023-02-15T09:07:17.167Z"
   },
   {
    "duration": 1120,
    "start_time": "2023-02-15T09:07:17.171Z"
   },
   {
    "duration": 13,
    "start_time": "2023-02-15T09:07:18.293Z"
   },
   {
    "duration": 11,
    "start_time": "2023-02-15T09:07:18.307Z"
   },
   {
    "duration": 2,
    "start_time": "2023-02-15T09:07:18.319Z"
   },
   {
    "duration": 7,
    "start_time": "2023-02-15T09:07:18.323Z"
   },
   {
    "duration": 8,
    "start_time": "2023-02-15T09:07:18.331Z"
   },
   {
    "duration": 10,
    "start_time": "2023-02-15T09:07:18.341Z"
   },
   {
    "duration": 8,
    "start_time": "2023-02-15T09:07:18.352Z"
   },
   {
    "duration": 9,
    "start_time": "2023-02-15T09:07:18.362Z"
   },
   {
    "duration": 26,
    "start_time": "2023-02-15T09:07:18.372Z"
   },
   {
    "duration": 6,
    "start_time": "2023-02-15T09:07:18.399Z"
   },
   {
    "duration": 9,
    "start_time": "2023-02-15T09:07:18.407Z"
   },
   {
    "duration": 6,
    "start_time": "2023-02-15T09:07:18.417Z"
   },
   {
    "duration": 8,
    "start_time": "2023-02-15T09:07:18.448Z"
   },
   {
    "duration": 13,
    "start_time": "2023-02-15T09:07:18.457Z"
   },
   {
    "duration": 7,
    "start_time": "2023-02-15T09:07:18.471Z"
   },
   {
    "duration": 484,
    "start_time": "2023-02-15T09:07:18.480Z"
   },
   {
    "duration": 3,
    "start_time": "2023-02-15T09:07:18.965Z"
   },
   {
    "duration": 94,
    "start_time": "2023-02-15T09:55:33.600Z"
   },
   {
    "duration": 11,
    "start_time": "2023-02-15T09:55:38.603Z"
   },
   {
    "duration": 11,
    "start_time": "2023-02-15T09:59:09.718Z"
   },
   {
    "duration": 9,
    "start_time": "2023-02-15T09:59:24.620Z"
   },
   {
    "duration": 1155,
    "start_time": "2023-02-15T09:59:31.111Z"
   },
   {
    "duration": 4,
    "start_time": "2023-02-15T09:59:32.268Z"
   },
   {
    "duration": 1038,
    "start_time": "2023-02-15T09:59:32.274Z"
   },
   {
    "duration": 50,
    "start_time": "2023-02-15T09:59:33.315Z"
   },
   {
    "duration": 13,
    "start_time": "2023-02-15T09:59:33.367Z"
   },
   {
    "duration": 3,
    "start_time": "2023-02-15T09:59:33.381Z"
   },
   {
    "duration": 6,
    "start_time": "2023-02-15T09:59:33.386Z"
   },
   {
    "duration": 59,
    "start_time": "2023-02-15T09:59:33.393Z"
   },
   {
    "duration": 17,
    "start_time": "2023-02-15T09:59:33.455Z"
   },
   {
    "duration": 9,
    "start_time": "2023-02-15T09:59:33.474Z"
   },
   {
    "duration": 14,
    "start_time": "2023-02-15T09:59:33.484Z"
   },
   {
    "duration": 85,
    "start_time": "2023-02-15T09:59:33.500Z"
   },
   {
    "duration": 6,
    "start_time": "2023-02-15T09:59:33.587Z"
   },
   {
    "duration": 9,
    "start_time": "2023-02-15T09:59:33.594Z"
   },
   {
    "duration": 8,
    "start_time": "2023-02-15T09:59:33.605Z"
   },
   {
    "duration": 7,
    "start_time": "2023-02-15T09:59:33.614Z"
   },
   {
    "duration": 27,
    "start_time": "2023-02-15T09:59:33.623Z"
   },
   {
    "duration": 12,
    "start_time": "2023-02-15T09:59:33.652Z"
   },
   {
    "duration": 636,
    "start_time": "2023-02-15T09:59:33.666Z"
   },
   {
    "duration": 4,
    "start_time": "2023-02-15T09:59:34.304Z"
   },
   {
    "duration": 15,
    "start_time": "2023-02-15T09:59:34.309Z"
   },
   {
    "duration": 23,
    "start_time": "2023-02-15T09:59:34.325Z"
   },
   {
    "duration": 10,
    "start_time": "2023-02-15T10:03:22.980Z"
   },
   {
    "duration": 33,
    "start_time": "2023-02-15T10:03:44.427Z"
   },
   {
    "duration": 12,
    "start_time": "2023-02-15T10:04:59.442Z"
   },
   {
    "duration": 11,
    "start_time": "2023-02-15T10:06:48.321Z"
   },
   {
    "duration": 11,
    "start_time": "2023-02-15T10:11:33.534Z"
   },
   {
    "duration": 7,
    "start_time": "2023-02-15T10:12:58.733Z"
   },
   {
    "duration": 6,
    "start_time": "2023-02-15T10:14:18.383Z"
   },
   {
    "duration": 6,
    "start_time": "2023-02-15T10:15:03.501Z"
   },
   {
    "duration": 6,
    "start_time": "2023-02-15T10:15:08.671Z"
   },
   {
    "duration": 6,
    "start_time": "2023-02-15T10:16:31.120Z"
   },
   {
    "duration": 6,
    "start_time": "2023-02-15T10:17:43.002Z"
   },
   {
    "duration": 5,
    "start_time": "2023-02-15T10:24:50.160Z"
   },
   {
    "duration": 10,
    "start_time": "2023-02-15T10:27:36.686Z"
   },
   {
    "duration": 4,
    "start_time": "2023-02-15T10:31:21.249Z"
   },
   {
    "duration": 10,
    "start_time": "2023-02-15T10:31:30.668Z"
   },
   {
    "duration": 5,
    "start_time": "2023-02-15T10:33:14.030Z"
   },
   {
    "duration": 5,
    "start_time": "2023-02-15T10:34:28.719Z"
   },
   {
    "duration": 6,
    "start_time": "2023-02-15T10:38:00.698Z"
   },
   {
    "duration": 37,
    "start_time": "2023-02-15T10:47:25.999Z"
   },
   {
    "duration": 18,
    "start_time": "2023-02-15T10:48:02.254Z"
   },
   {
    "duration": 12,
    "start_time": "2023-02-15T10:48:16.469Z"
   },
   {
    "duration": 35,
    "start_time": "2023-02-15T10:49:37.157Z"
   },
   {
    "duration": 31,
    "start_time": "2023-02-15T10:50:49.819Z"
   },
   {
    "duration": 8,
    "start_time": "2023-02-15T11:23:34.087Z"
   },
   {
    "duration": 46,
    "start_time": "2023-02-15T11:23:51.137Z"
   },
   {
    "duration": 8,
    "start_time": "2023-02-15T11:25:15.012Z"
   },
   {
    "duration": 6,
    "start_time": "2023-02-15T11:28:58.013Z"
   },
   {
    "duration": 1168,
    "start_time": "2023-02-15T11:29:17.539Z"
   },
   {
    "duration": 3,
    "start_time": "2023-02-15T11:29:18.708Z"
   },
   {
    "duration": 1064,
    "start_time": "2023-02-15T11:29:18.712Z"
   },
   {
    "duration": 13,
    "start_time": "2023-02-15T11:29:19.778Z"
   },
   {
    "duration": 29,
    "start_time": "2023-02-15T11:29:19.793Z"
   },
   {
    "duration": 15,
    "start_time": "2023-02-15T11:29:19.823Z"
   },
   {
    "duration": 41,
    "start_time": "2023-02-15T11:29:19.839Z"
   },
   {
    "duration": 39,
    "start_time": "2023-02-15T11:29:19.882Z"
   },
   {
    "duration": 16,
    "start_time": "2023-02-15T11:29:19.923Z"
   },
   {
    "duration": 34,
    "start_time": "2023-02-15T11:29:19.941Z"
   },
   {
    "duration": 26,
    "start_time": "2023-02-15T11:29:19.976Z"
   },
   {
    "duration": 49,
    "start_time": "2023-02-15T11:29:20.005Z"
   },
   {
    "duration": 17,
    "start_time": "2023-02-15T11:29:20.057Z"
   },
   {
    "duration": 21,
    "start_time": "2023-02-15T11:29:20.076Z"
   },
   {
    "duration": 30,
    "start_time": "2023-02-15T11:29:20.099Z"
   },
   {
    "duration": 14,
    "start_time": "2023-02-15T11:29:20.131Z"
   },
   {
    "duration": 38,
    "start_time": "2023-02-15T11:29:20.146Z"
   },
   {
    "duration": 33,
    "start_time": "2023-02-15T11:29:20.187Z"
   },
   {
    "duration": 583,
    "start_time": "2023-02-15T11:29:20.222Z"
   },
   {
    "duration": 4,
    "start_time": "2023-02-15T11:29:20.807Z"
   },
   {
    "duration": 22,
    "start_time": "2023-02-15T11:29:20.812Z"
   },
   {
    "duration": 32,
    "start_time": "2023-02-15T11:29:20.835Z"
   },
   {
    "duration": 14,
    "start_time": "2023-02-15T11:29:20.869Z"
   },
   {
    "duration": 28,
    "start_time": "2023-02-15T11:29:20.884Z"
   },
   {
    "duration": 43,
    "start_time": "2023-02-15T11:29:20.913Z"
   },
   {
    "duration": 31,
    "start_time": "2023-02-15T11:29:20.959Z"
   },
   {
    "duration": 28,
    "start_time": "2023-02-15T11:29:20.992Z"
   },
   {
    "duration": 22,
    "start_time": "2023-02-15T11:29:21.023Z"
   },
   {
    "duration": 40,
    "start_time": "2023-02-15T11:29:21.046Z"
   },
   {
    "duration": 20,
    "start_time": "2023-02-15T11:29:21.088Z"
   },
   {
    "duration": 35,
    "start_time": "2023-02-15T11:29:21.110Z"
   },
   {
    "duration": 30,
    "start_time": "2023-02-15T11:29:21.146Z"
   },
   {
    "duration": 70,
    "start_time": "2023-02-15T11:29:21.177Z"
   },
   {
    "duration": 12,
    "start_time": "2023-02-15T11:29:21.249Z"
   },
   {
    "duration": 9,
    "start_time": "2023-02-15T11:29:21.263Z"
   },
   {
    "duration": 2058,
    "start_time": "2023-02-15T11:48:34.637Z"
   },
   {
    "duration": 4,
    "start_time": "2023-02-15T11:48:36.748Z"
   },
   {
    "duration": 4383,
    "start_time": "2023-02-15T11:48:36.755Z"
   },
   {
    "duration": 19,
    "start_time": "2023-02-15T11:48:41.140Z"
   },
   {
    "duration": 16,
    "start_time": "2023-02-15T11:48:41.161Z"
   },
   {
    "duration": 3,
    "start_time": "2023-02-15T11:48:41.178Z"
   },
   {
    "duration": 6,
    "start_time": "2023-02-15T11:48:41.183Z"
   },
   {
    "duration": 8,
    "start_time": "2023-02-15T11:48:41.191Z"
   },
   {
    "duration": 17,
    "start_time": "2023-02-15T11:48:41.200Z"
   },
   {
    "duration": 36,
    "start_time": "2023-02-15T11:48:41.219Z"
   },
   {
    "duration": 13,
    "start_time": "2023-02-15T11:48:41.257Z"
   },
   {
    "duration": 27,
    "start_time": "2023-02-15T11:48:41.272Z"
   },
   {
    "duration": 7,
    "start_time": "2023-02-15T11:48:41.301Z"
   },
   {
    "duration": 8,
    "start_time": "2023-02-15T11:48:41.310Z"
   },
   {
    "duration": 30,
    "start_time": "2023-02-15T11:48:41.319Z"
   },
   {
    "duration": 9,
    "start_time": "2023-02-15T11:48:41.351Z"
   },
   {
    "duration": 13,
    "start_time": "2023-02-15T11:48:41.363Z"
   },
   {
    "duration": 8,
    "start_time": "2023-02-15T11:48:41.377Z"
   },
   {
    "duration": 506,
    "start_time": "2023-02-15T11:48:41.387Z"
   },
   {
    "duration": 4,
    "start_time": "2023-02-15T11:48:41.895Z"
   },
   {
    "duration": 15,
    "start_time": "2023-02-15T11:48:41.901Z"
   },
   {
    "duration": 9,
    "start_time": "2023-02-15T11:48:41.917Z"
   },
   {
    "duration": 28,
    "start_time": "2023-02-15T11:48:41.928Z"
   },
   {
    "duration": 6,
    "start_time": "2023-02-15T11:48:41.958Z"
   },
   {
    "duration": 10,
    "start_time": "2023-02-15T11:48:41.966Z"
   },
   {
    "duration": 6,
    "start_time": "2023-02-15T11:48:41.978Z"
   },
   {
    "duration": 6,
    "start_time": "2023-02-15T11:48:41.985Z"
   },
   {
    "duration": 9,
    "start_time": "2023-02-15T11:48:41.993Z"
   },
   {
    "duration": 5,
    "start_time": "2023-02-15T11:48:42.004Z"
   },
   {
    "duration": 7,
    "start_time": "2023-02-15T11:48:42.010Z"
   },
   {
    "duration": 8,
    "start_time": "2023-02-15T11:48:42.048Z"
   },
   {
    "duration": 7,
    "start_time": "2023-02-15T11:48:42.057Z"
   },
   {
    "duration": 35,
    "start_time": "2023-02-15T11:48:42.066Z"
   },
   {
    "duration": 8,
    "start_time": "2023-02-15T11:48:42.103Z"
   },
   {
    "duration": 6,
    "start_time": "2023-02-15T11:48:42.112Z"
   },
   {
    "duration": 110,
    "start_time": "2023-02-15T11:50:14.120Z"
   },
   {
    "duration": 13,
    "start_time": "2023-02-15T11:50:34.783Z"
   },
   {
    "duration": 13,
    "start_time": "2023-02-15T11:51:23.114Z"
   },
   {
    "duration": 15,
    "start_time": "2023-02-15T11:51:31.703Z"
   },
   {
    "duration": 6,
    "start_time": "2023-02-15T11:51:51.458Z"
   },
   {
    "duration": 14,
    "start_time": "2023-02-15T11:52:02.532Z"
   },
   {
    "duration": 11,
    "start_time": "2023-02-15T11:52:09.959Z"
   },
   {
    "duration": 13,
    "start_time": "2023-02-15T12:09:16.544Z"
   },
   {
    "duration": 10,
    "start_time": "2023-02-15T12:09:57.999Z"
   },
   {
    "duration": 1095,
    "start_time": "2023-02-15T12:10:13.181Z"
   },
   {
    "duration": 2,
    "start_time": "2023-02-15T12:10:14.278Z"
   },
   {
    "duration": 1083,
    "start_time": "2023-02-15T12:10:14.282Z"
   },
   {
    "duration": 19,
    "start_time": "2023-02-15T12:10:15.367Z"
   },
   {
    "duration": 71,
    "start_time": "2023-02-15T12:10:15.388Z"
   },
   {
    "duration": 3,
    "start_time": "2023-02-15T12:10:15.461Z"
   },
   {
    "duration": 6,
    "start_time": "2023-02-15T12:10:15.465Z"
   },
   {
    "duration": 10,
    "start_time": "2023-02-15T12:10:15.473Z"
   },
   {
    "duration": 10,
    "start_time": "2023-02-15T12:10:15.485Z"
   },
   {
    "duration": 7,
    "start_time": "2023-02-15T12:10:15.548Z"
   },
   {
    "duration": 18,
    "start_time": "2023-02-15T12:10:15.556Z"
   },
   {
    "duration": 73,
    "start_time": "2023-02-15T12:10:15.576Z"
   },
   {
    "duration": 7,
    "start_time": "2023-02-15T12:10:15.651Z"
   },
   {
    "duration": 9,
    "start_time": "2023-02-15T12:10:15.659Z"
   },
   {
    "duration": 5,
    "start_time": "2023-02-15T12:10:15.670Z"
   },
   {
    "duration": 7,
    "start_time": "2023-02-15T12:10:15.677Z"
   },
   {
    "duration": 9,
    "start_time": "2023-02-15T12:10:15.685Z"
   },
   {
    "duration": 9,
    "start_time": "2023-02-15T12:10:15.747Z"
   },
   {
    "duration": 794,
    "start_time": "2023-02-15T12:10:15.757Z"
   },
   {
    "duration": 4,
    "start_time": "2023-02-15T12:10:16.552Z"
   },
   {
    "duration": 14,
    "start_time": "2023-02-15T12:10:16.557Z"
   },
   {
    "duration": 8,
    "start_time": "2023-02-15T12:10:16.573Z"
   },
   {
    "duration": 9,
    "start_time": "2023-02-15T12:10:16.582Z"
   },
   {
    "duration": 5,
    "start_time": "2023-02-15T12:10:16.593Z"
   },
   {
    "duration": 7,
    "start_time": "2023-02-15T12:10:16.599Z"
   },
   {
    "duration": 6,
    "start_time": "2023-02-15T12:10:16.608Z"
   },
   {
    "duration": 33,
    "start_time": "2023-02-15T12:10:16.615Z"
   },
   {
    "duration": 9,
    "start_time": "2023-02-15T12:10:16.651Z"
   },
   {
    "duration": 5,
    "start_time": "2023-02-15T12:10:16.662Z"
   },
   {
    "duration": 6,
    "start_time": "2023-02-15T12:10:16.668Z"
   },
   {
    "duration": 6,
    "start_time": "2023-02-15T12:10:16.675Z"
   },
   {
    "duration": 6,
    "start_time": "2023-02-15T12:10:16.683Z"
   },
   {
    "duration": 30,
    "start_time": "2023-02-15T12:10:16.690Z"
   },
   {
    "duration": 8,
    "start_time": "2023-02-15T12:10:16.748Z"
   },
   {
    "duration": 6,
    "start_time": "2023-02-15T12:10:16.757Z"
   },
   {
    "duration": 11,
    "start_time": "2023-02-15T12:10:16.764Z"
   },
   {
    "duration": 8,
    "start_time": "2023-02-15T12:10:16.777Z"
   },
   {
    "duration": 5,
    "start_time": "2023-02-15T12:15:54.082Z"
   },
   {
    "duration": 8,
    "start_time": "2023-02-15T12:16:09.632Z"
   },
   {
    "duration": 107,
    "start_time": "2023-02-15T12:16:31.997Z"
   },
   {
    "duration": 10,
    "start_time": "2023-02-15T12:18:41.533Z"
   },
   {
    "duration": 3334,
    "start_time": "2023-02-15T13:20:56.518Z"
   },
   {
    "duration": 934,
    "start_time": "2023-02-15T13:21:16.206Z"
   },
   {
    "duration": 213,
    "start_time": "2023-02-15T13:21:35.932Z"
   },
   {
    "duration": 181,
    "start_time": "2023-02-15T13:22:54.740Z"
   },
   {
    "duration": 192,
    "start_time": "2023-02-15T13:23:02.905Z"
   },
   {
    "duration": 188,
    "start_time": "2023-02-15T13:23:15.893Z"
   },
   {
    "duration": 291,
    "start_time": "2023-02-15T13:30:30.494Z"
   },
   {
    "duration": 185,
    "start_time": "2023-02-15T13:30:39.415Z"
   },
   {
    "duration": 193,
    "start_time": "2023-02-15T13:31:17.076Z"
   },
   {
    "duration": 174,
    "start_time": "2023-02-15T13:31:29.259Z"
   },
   {
    "duration": 247,
    "start_time": "2023-02-15T13:32:25.101Z"
   },
   {
    "duration": 186,
    "start_time": "2023-02-15T13:32:38.126Z"
   },
   {
    "duration": 315,
    "start_time": "2023-02-15T13:38:51.597Z"
   },
   {
    "duration": 16,
    "start_time": "2023-02-15T13:39:10.103Z"
   },
   {
    "duration": 15,
    "start_time": "2023-02-15T13:42:11.928Z"
   },
   {
    "duration": 523,
    "start_time": "2023-02-15T13:42:22.357Z"
   },
   {
    "duration": 93,
    "start_time": "2023-02-15T13:42:52.107Z"
   },
   {
    "duration": 237,
    "start_time": "2023-02-15T13:43:02.586Z"
   },
   {
    "duration": 460,
    "start_time": "2023-02-15T13:44:46.142Z"
   },
   {
    "duration": 492,
    "start_time": "2023-02-15T13:49:39.843Z"
   },
   {
    "duration": 498,
    "start_time": "2023-02-15T13:50:15.695Z"
   },
   {
    "duration": 1256,
    "start_time": "2023-02-15T14:19:07.895Z"
   },
   {
    "duration": 64,
    "start_time": "2023-02-15T14:28:04.811Z"
   },
   {
    "duration": 206,
    "start_time": "2023-02-15T14:28:09.512Z"
   },
   {
    "duration": 975,
    "start_time": "2023-02-15T14:28:27.734Z"
   },
   {
    "duration": 1144,
    "start_time": "2023-02-15T14:29:47.736Z"
   },
   {
    "duration": 1003,
    "start_time": "2023-02-15T14:49:54.534Z"
   },
   {
    "duration": 50,
    "start_time": "2023-02-15T14:50:03.378Z"
   },
   {
    "duration": 315,
    "start_time": "2023-02-15T14:50:08.564Z"
   },
   {
    "duration": 1117,
    "start_time": "2023-02-15T15:18:15.446Z"
   },
   {
    "duration": 2,
    "start_time": "2023-02-15T15:18:16.565Z"
   },
   {
    "duration": 1341,
    "start_time": "2023-02-15T15:18:16.569Z"
   },
   {
    "duration": 18,
    "start_time": "2023-02-15T15:18:17.911Z"
   },
   {
    "duration": 16,
    "start_time": "2023-02-15T15:18:17.931Z"
   },
   {
    "duration": 3,
    "start_time": "2023-02-15T15:18:17.949Z"
   },
   {
    "duration": 10,
    "start_time": "2023-02-15T15:18:17.954Z"
   },
   {
    "duration": 9,
    "start_time": "2023-02-15T15:18:17.966Z"
   },
   {
    "duration": 22,
    "start_time": "2023-02-15T15:18:17.976Z"
   },
   {
    "duration": 10,
    "start_time": "2023-02-15T15:18:18.000Z"
   },
   {
    "duration": 11,
    "start_time": "2023-02-15T15:18:18.011Z"
   },
   {
    "duration": 44,
    "start_time": "2023-02-15T15:18:18.024Z"
   },
   {
    "duration": 6,
    "start_time": "2023-02-15T15:18:18.070Z"
   },
   {
    "duration": 11,
    "start_time": "2023-02-15T15:18:18.078Z"
   },
   {
    "duration": 7,
    "start_time": "2023-02-15T15:18:18.090Z"
   },
   {
    "duration": 6,
    "start_time": "2023-02-15T15:18:18.099Z"
   },
   {
    "duration": 10,
    "start_time": "2023-02-15T15:18:18.106Z"
   },
   {
    "duration": 34,
    "start_time": "2023-02-15T15:18:18.118Z"
   },
   {
    "duration": 534,
    "start_time": "2023-02-15T15:18:18.154Z"
   },
   {
    "duration": 3,
    "start_time": "2023-02-15T15:18:18.689Z"
   },
   {
    "duration": 22,
    "start_time": "2023-02-15T15:18:18.693Z"
   },
   {
    "duration": 10,
    "start_time": "2023-02-15T15:18:18.716Z"
   },
   {
    "duration": 25,
    "start_time": "2023-02-15T15:18:18.727Z"
   },
   {
    "duration": 7,
    "start_time": "2023-02-15T15:18:18.754Z"
   },
   {
    "duration": 9,
    "start_time": "2023-02-15T15:18:18.763Z"
   },
   {
    "duration": 7,
    "start_time": "2023-02-15T15:18:18.774Z"
   },
   {
    "duration": 7,
    "start_time": "2023-02-15T15:18:18.783Z"
   },
   {
    "duration": 11,
    "start_time": "2023-02-15T15:18:18.794Z"
   },
   {
    "duration": 4,
    "start_time": "2023-02-15T15:18:18.807Z"
   },
   {
    "duration": 6,
    "start_time": "2023-02-15T15:18:18.812Z"
   },
   {
    "duration": 6,
    "start_time": "2023-02-15T15:18:18.849Z"
   },
   {
    "duration": 8,
    "start_time": "2023-02-15T15:18:18.857Z"
   },
   {
    "duration": 35,
    "start_time": "2023-02-15T15:18:18.866Z"
   },
   {
    "duration": 8,
    "start_time": "2023-02-15T15:18:18.902Z"
   },
   {
    "duration": 5,
    "start_time": "2023-02-15T15:18:18.912Z"
   },
   {
    "duration": 35,
    "start_time": "2023-02-15T15:18:18.919Z"
   },
   {
    "duration": 9,
    "start_time": "2023-02-15T15:18:18.955Z"
   },
   {
    "duration": 47,
    "start_time": "2023-02-15T15:18:18.966Z"
   },
   {
    "duration": 190,
    "start_time": "2023-02-15T15:18:19.015Z"
   },
   {
    "duration": 178,
    "start_time": "2023-02-15T15:18:19.207Z"
   },
   {
    "duration": 475,
    "start_time": "2023-02-15T15:18:19.387Z"
   },
   {
    "duration": 1041,
    "start_time": "2023-02-15T15:18:19.864Z"
   },
   {
    "duration": 359,
    "start_time": "2023-02-15T15:18:20.907Z"
   },
   {
    "duration": 102,
    "start_time": "2023-02-15T15:23:20.741Z"
   },
   {
    "duration": 11,
    "start_time": "2023-02-15T15:23:27.757Z"
   },
   {
    "duration": 1274,
    "start_time": "2023-02-15T15:24:57.287Z"
   },
   {
    "duration": 3,
    "start_time": "2023-02-15T15:24:58.563Z"
   },
   {
    "duration": 1393,
    "start_time": "2023-02-15T15:24:58.567Z"
   },
   {
    "duration": 14,
    "start_time": "2023-02-15T15:24:59.962Z"
   },
   {
    "duration": 11,
    "start_time": "2023-02-15T15:24:59.978Z"
   },
   {
    "duration": 3,
    "start_time": "2023-02-15T15:24:59.991Z"
   },
   {
    "duration": 8,
    "start_time": "2023-02-15T15:24:59.995Z"
   },
   {
    "duration": 10,
    "start_time": "2023-02-15T15:25:00.005Z"
   },
   {
    "duration": 38,
    "start_time": "2023-02-15T15:25:00.016Z"
   },
   {
    "duration": 12,
    "start_time": "2023-02-15T15:25:00.056Z"
   },
   {
    "duration": 17,
    "start_time": "2023-02-15T15:25:00.070Z"
   },
   {
    "duration": 36,
    "start_time": "2023-02-15T15:25:00.089Z"
   },
   {
    "duration": 22,
    "start_time": "2023-02-15T15:25:00.126Z"
   },
   {
    "duration": 8,
    "start_time": "2023-02-15T15:25:00.149Z"
   },
   {
    "duration": 19,
    "start_time": "2023-02-15T15:25:00.159Z"
   },
   {
    "duration": 7,
    "start_time": "2023-02-15T15:25:00.180Z"
   },
   {
    "duration": 9,
    "start_time": "2023-02-15T15:25:00.188Z"
   },
   {
    "duration": 8,
    "start_time": "2023-02-15T15:25:00.198Z"
   },
   {
    "duration": 512,
    "start_time": "2023-02-15T15:25:00.208Z"
   },
   {
    "duration": 2,
    "start_time": "2023-02-15T15:25:00.722Z"
   },
   {
    "duration": 29,
    "start_time": "2023-02-15T15:25:00.726Z"
   },
   {
    "duration": 35,
    "start_time": "2023-02-15T15:25:00.756Z"
   },
   {
    "duration": 24,
    "start_time": "2023-02-15T15:25:00.792Z"
   },
   {
    "duration": 32,
    "start_time": "2023-02-15T15:25:00.817Z"
   },
   {
    "duration": 30,
    "start_time": "2023-02-15T15:25:00.850Z"
   },
   {
    "duration": 32,
    "start_time": "2023-02-15T15:25:00.881Z"
   },
   {
    "duration": 26,
    "start_time": "2023-02-15T15:25:00.915Z"
   },
   {
    "duration": 47,
    "start_time": "2023-02-15T15:25:00.945Z"
   },
   {
    "duration": 24,
    "start_time": "2023-02-15T15:25:00.993Z"
   },
   {
    "duration": 33,
    "start_time": "2023-02-15T15:25:01.018Z"
   },
   {
    "duration": 32,
    "start_time": "2023-02-15T15:25:01.053Z"
   },
   {
    "duration": 26,
    "start_time": "2023-02-15T15:25:01.087Z"
   },
   {
    "duration": 46,
    "start_time": "2023-02-15T15:25:01.114Z"
   },
   {
    "duration": 18,
    "start_time": "2023-02-15T15:25:01.161Z"
   },
   {
    "duration": 41,
    "start_time": "2023-02-15T15:25:01.180Z"
   },
   {
    "duration": 44,
    "start_time": "2023-02-15T15:25:01.222Z"
   },
   {
    "duration": 26,
    "start_time": "2023-02-15T15:25:01.267Z"
   },
   {
    "duration": 28,
    "start_time": "2023-02-15T15:25:01.294Z"
   },
   {
    "duration": 198,
    "start_time": "2023-02-15T15:25:01.324Z"
   },
   {
    "duration": 200,
    "start_time": "2023-02-15T15:25:01.523Z"
   },
   {
    "duration": 510,
    "start_time": "2023-02-15T15:25:01.725Z"
   },
   {
    "duration": 1103,
    "start_time": "2023-02-15T15:25:02.236Z"
   },
   {
    "duration": 345,
    "start_time": "2023-02-15T15:25:03.341Z"
   },
   {
    "duration": 11,
    "start_time": "2023-02-15T15:25:03.688Z"
   },
   {
    "duration": 511,
    "start_time": "2023-02-15T15:37:29.010Z"
   },
   {
    "duration": 1152,
    "start_time": "2023-02-15T16:07:09.699Z"
   },
   {
    "duration": 3,
    "start_time": "2023-02-15T16:07:10.853Z"
   },
   {
    "duration": 1837,
    "start_time": "2023-02-15T16:07:10.862Z"
   },
   {
    "duration": 18,
    "start_time": "2023-02-15T16:07:12.700Z"
   },
   {
    "duration": 14,
    "start_time": "2023-02-15T16:07:12.720Z"
   },
   {
    "duration": 3,
    "start_time": "2023-02-15T16:07:12.736Z"
   },
   {
    "duration": 7,
    "start_time": "2023-02-15T16:07:12.741Z"
   },
   {
    "duration": 11,
    "start_time": "2023-02-15T16:07:12.749Z"
   },
   {
    "duration": 12,
    "start_time": "2023-02-15T16:07:12.763Z"
   },
   {
    "duration": 10,
    "start_time": "2023-02-15T16:07:12.777Z"
   },
   {
    "duration": 13,
    "start_time": "2023-02-15T16:07:12.789Z"
   },
   {
    "duration": 58,
    "start_time": "2023-02-15T16:07:12.803Z"
   },
   {
    "duration": 8,
    "start_time": "2023-02-15T16:07:12.864Z"
   },
   {
    "duration": 17,
    "start_time": "2023-02-15T16:07:12.875Z"
   },
   {
    "duration": 8,
    "start_time": "2023-02-15T16:07:12.894Z"
   },
   {
    "duration": 8,
    "start_time": "2023-02-15T16:07:12.904Z"
   },
   {
    "duration": 41,
    "start_time": "2023-02-15T16:07:12.914Z"
   },
   {
    "duration": 10,
    "start_time": "2023-02-15T16:07:12.957Z"
   },
   {
    "duration": 628,
    "start_time": "2023-02-15T16:07:12.969Z"
   },
   {
    "duration": 14,
    "start_time": "2023-02-15T16:07:13.599Z"
   },
   {
    "duration": 33,
    "start_time": "2023-02-15T16:07:13.615Z"
   },
   {
    "duration": 13,
    "start_time": "2023-02-15T16:07:13.650Z"
   },
   {
    "duration": 7,
    "start_time": "2023-02-15T16:07:13.665Z"
   },
   {
    "duration": 11,
    "start_time": "2023-02-15T16:07:13.673Z"
   },
   {
    "duration": 13,
    "start_time": "2023-02-15T16:07:13.686Z"
   },
   {
    "duration": 122,
    "start_time": "2023-02-15T16:07:13.700Z"
   },
   {
    "duration": 11,
    "start_time": "2023-02-15T16:07:13.827Z"
   },
   {
    "duration": 6,
    "start_time": "2023-02-15T16:07:13.841Z"
   },
   {
    "duration": 18,
    "start_time": "2023-02-15T16:07:13.848Z"
   },
   {
    "duration": 19,
    "start_time": "2023-02-15T16:07:13.867Z"
   },
   {
    "duration": 15,
    "start_time": "2023-02-15T16:07:13.888Z"
   },
   {
    "duration": 114,
    "start_time": "2023-02-15T16:07:13.905Z"
   },
   {
    "duration": 0,
    "start_time": "2023-02-15T16:07:14.022Z"
   },
   {
    "duration": 0,
    "start_time": "2023-02-15T16:07:14.024Z"
   },
   {
    "duration": 0,
    "start_time": "2023-02-15T16:07:14.025Z"
   },
   {
    "duration": 0,
    "start_time": "2023-02-15T16:07:14.029Z"
   },
   {
    "duration": 0,
    "start_time": "2023-02-15T16:07:14.031Z"
   },
   {
    "duration": 0,
    "start_time": "2023-02-15T16:07:14.032Z"
   },
   {
    "duration": 1,
    "start_time": "2023-02-15T16:07:14.033Z"
   },
   {
    "duration": 0,
    "start_time": "2023-02-15T16:07:14.049Z"
   },
   {
    "duration": 1182,
    "start_time": "2023-02-15T16:07:55.367Z"
   },
   {
    "duration": 3,
    "start_time": "2023-02-15T16:07:56.551Z"
   },
   {
    "duration": 1334,
    "start_time": "2023-02-15T16:07:56.557Z"
   },
   {
    "duration": 20,
    "start_time": "2023-02-15T16:07:57.893Z"
   },
   {
    "duration": 30,
    "start_time": "2023-02-15T16:07:57.915Z"
   },
   {
    "duration": 4,
    "start_time": "2023-02-15T16:07:57.947Z"
   },
   {
    "duration": 7,
    "start_time": "2023-02-15T16:07:57.953Z"
   },
   {
    "duration": 11,
    "start_time": "2023-02-15T16:07:57.962Z"
   },
   {
    "duration": 11,
    "start_time": "2023-02-15T16:07:57.976Z"
   },
   {
    "duration": 11,
    "start_time": "2023-02-15T16:07:57.989Z"
   },
   {
    "duration": 14,
    "start_time": "2023-02-15T16:07:58.001Z"
   },
   {
    "duration": 55,
    "start_time": "2023-02-15T16:07:58.017Z"
   },
   {
    "duration": 8,
    "start_time": "2023-02-15T16:07:58.073Z"
   },
   {
    "duration": 10,
    "start_time": "2023-02-15T16:07:58.083Z"
   },
   {
    "duration": 7,
    "start_time": "2023-02-15T16:07:58.095Z"
   },
   {
    "duration": 7,
    "start_time": "2023-02-15T16:07:58.103Z"
   },
   {
    "duration": 37,
    "start_time": "2023-02-15T16:07:58.112Z"
   },
   {
    "duration": 10,
    "start_time": "2023-02-15T16:07:58.151Z"
   },
   {
    "duration": 587,
    "start_time": "2023-02-15T16:07:58.163Z"
   },
   {
    "duration": 12,
    "start_time": "2023-02-15T16:07:58.753Z"
   },
   {
    "duration": 14,
    "start_time": "2023-02-15T16:07:58.767Z"
   },
   {
    "duration": 15,
    "start_time": "2023-02-15T16:07:58.783Z"
   },
   {
    "duration": 6,
    "start_time": "2023-02-15T16:07:58.800Z"
   },
   {
    "duration": 9,
    "start_time": "2023-02-15T16:07:58.807Z"
   },
   {
    "duration": 36,
    "start_time": "2023-02-15T16:07:58.818Z"
   },
   {
    "duration": 7,
    "start_time": "2023-02-15T16:07:58.856Z"
   },
   {
    "duration": 12,
    "start_time": "2023-02-15T16:07:58.866Z"
   },
   {
    "duration": 6,
    "start_time": "2023-02-15T16:07:58.880Z"
   },
   {
    "duration": 10,
    "start_time": "2023-02-15T16:07:58.888Z"
   },
   {
    "duration": 11,
    "start_time": "2023-02-15T16:07:58.900Z"
   },
   {
    "duration": 36,
    "start_time": "2023-02-15T16:07:58.914Z"
   },
   {
    "duration": 37,
    "start_time": "2023-02-15T16:07:58.952Z"
   },
   {
    "duration": 5,
    "start_time": "2023-02-15T16:07:58.991Z"
   },
   {
    "duration": 15,
    "start_time": "2023-02-15T16:07:58.998Z"
   },
   {
    "duration": 35,
    "start_time": "2023-02-15T16:07:59.014Z"
   },
   {
    "duration": 221,
    "start_time": "2023-02-15T16:07:59.051Z"
   },
   {
    "duration": 206,
    "start_time": "2023-02-15T16:07:59.274Z"
   },
   {
    "duration": 573,
    "start_time": "2023-02-15T16:07:59.481Z"
   },
   {
    "duration": 2102,
    "start_time": "2023-02-15T16:08:00.056Z"
   },
   {
    "duration": 339,
    "start_time": "2023-02-15T16:08:02.161Z"
   },
   {
    "duration": 102,
    "start_time": "2023-02-15T16:50:01.603Z"
   },
   {
    "duration": 11,
    "start_time": "2023-02-15T16:52:16.461Z"
   },
   {
    "duration": 8,
    "start_time": "2023-02-15T16:55:37.209Z"
   },
   {
    "duration": 10,
    "start_time": "2023-02-15T16:55:41.916Z"
   },
   {
    "duration": 9,
    "start_time": "2023-02-15T16:56:04.265Z"
   },
   {
    "duration": 15,
    "start_time": "2023-02-15T16:56:14.880Z"
   },
   {
    "duration": 14,
    "start_time": "2023-02-15T16:58:01.007Z"
   },
   {
    "duration": 15,
    "start_time": "2023-02-15T16:58:28.473Z"
   },
   {
    "duration": 219,
    "start_time": "2023-02-15T16:59:25.863Z"
   },
   {
    "duration": 15,
    "start_time": "2023-02-15T16:59:33.011Z"
   },
   {
    "duration": 23,
    "start_time": "2023-02-15T17:01:37.844Z"
   },
   {
    "duration": 21,
    "start_time": "2023-02-15T17:03:08.163Z"
   },
   {
    "duration": 18,
    "start_time": "2023-02-15T17:03:23.457Z"
   },
   {
    "duration": 794,
    "start_time": "2023-02-15T17:03:52.266Z"
   },
   {
    "duration": 18,
    "start_time": "2023-02-15T17:04:10.422Z"
   },
   {
    "duration": 1041,
    "start_time": "2023-02-15T17:06:16.570Z"
   },
   {
    "duration": 18,
    "start_time": "2023-02-15T17:06:25.170Z"
   },
   {
    "duration": 24,
    "start_time": "2023-02-15T17:06:44.925Z"
   },
   {
    "duration": 21,
    "start_time": "2023-02-15T17:07:13.481Z"
   },
   {
    "duration": 20,
    "start_time": "2023-02-15T17:08:55.205Z"
   },
   {
    "duration": 19,
    "start_time": "2023-02-15T17:09:00.735Z"
   },
   {
    "duration": 1162,
    "start_time": "2023-02-15T17:09:19.155Z"
   },
   {
    "duration": 3,
    "start_time": "2023-02-15T17:09:20.319Z"
   },
   {
    "duration": 1134,
    "start_time": "2023-02-15T17:09:20.323Z"
   },
   {
    "duration": 16,
    "start_time": "2023-02-15T17:09:21.463Z"
   },
   {
    "duration": 14,
    "start_time": "2023-02-15T17:09:21.481Z"
   },
   {
    "duration": 4,
    "start_time": "2023-02-15T17:09:21.497Z"
   },
   {
    "duration": 6,
    "start_time": "2023-02-15T17:09:21.503Z"
   },
   {
    "duration": 10,
    "start_time": "2023-02-15T17:09:21.511Z"
   },
   {
    "duration": 47,
    "start_time": "2023-02-15T17:09:21.523Z"
   },
   {
    "duration": 25,
    "start_time": "2023-02-15T17:09:21.574Z"
   },
   {
    "duration": 10,
    "start_time": "2023-02-15T17:09:21.601Z"
   },
   {
    "duration": 34,
    "start_time": "2023-02-15T17:09:21.613Z"
   },
   {
    "duration": 20,
    "start_time": "2023-02-15T17:09:21.649Z"
   },
   {
    "duration": 16,
    "start_time": "2023-02-15T17:09:21.671Z"
   },
   {
    "duration": 25,
    "start_time": "2023-02-15T17:09:21.688Z"
   },
   {
    "duration": 8,
    "start_time": "2023-02-15T17:09:21.714Z"
   },
   {
    "duration": 21,
    "start_time": "2023-02-15T17:09:21.724Z"
   },
   {
    "duration": 18,
    "start_time": "2023-02-15T17:09:21.755Z"
   },
   {
    "duration": 550,
    "start_time": "2023-02-15T17:09:21.774Z"
   },
   {
    "duration": 11,
    "start_time": "2023-02-15T17:09:22.325Z"
   },
   {
    "duration": 27,
    "start_time": "2023-02-15T17:09:22.337Z"
   },
   {
    "duration": 13,
    "start_time": "2023-02-15T17:09:22.366Z"
   },
   {
    "duration": 6,
    "start_time": "2023-02-15T17:09:22.380Z"
   },
   {
    "duration": 8,
    "start_time": "2023-02-15T17:09:22.388Z"
   },
   {
    "duration": 7,
    "start_time": "2023-02-15T17:09:22.397Z"
   },
   {
    "duration": 7,
    "start_time": "2023-02-15T17:09:22.405Z"
   },
   {
    "duration": 15,
    "start_time": "2023-02-15T17:09:22.413Z"
   },
   {
    "duration": 27,
    "start_time": "2023-02-15T17:09:22.431Z"
   },
   {
    "duration": 10,
    "start_time": "2023-02-15T17:09:22.459Z"
   },
   {
    "duration": 8,
    "start_time": "2023-02-15T17:09:22.471Z"
   },
   {
    "duration": 7,
    "start_time": "2023-02-15T17:09:22.480Z"
   },
   {
    "duration": 60,
    "start_time": "2023-02-15T17:09:22.489Z"
   },
   {
    "duration": 10,
    "start_time": "2023-02-15T17:09:22.550Z"
   },
   {
    "duration": 18,
    "start_time": "2023-02-15T17:09:22.562Z"
   },
   {
    "duration": 10,
    "start_time": "2023-02-15T17:09:22.582Z"
   },
   {
    "duration": 212,
    "start_time": "2023-02-15T17:09:22.594Z"
   },
   {
    "duration": 215,
    "start_time": "2023-02-15T17:09:22.808Z"
   },
   {
    "duration": 542,
    "start_time": "2023-02-15T17:09:23.025Z"
   },
   {
    "duration": 1151,
    "start_time": "2023-02-15T17:09:23.569Z"
   },
   {
    "duration": 381,
    "start_time": "2023-02-15T17:09:24.721Z"
   },
   {
    "duration": 20,
    "start_time": "2023-02-15T17:09:25.104Z"
   },
   {
    "duration": 1238,
    "start_time": "2023-02-17T09:05:32.411Z"
   },
   {
    "duration": 3,
    "start_time": "2023-02-17T09:05:33.650Z"
   },
   {
    "duration": 1277,
    "start_time": "2023-02-17T09:05:33.654Z"
   },
   {
    "duration": 14,
    "start_time": "2023-02-17T09:05:34.933Z"
   },
   {
    "duration": 11,
    "start_time": "2023-02-17T09:05:34.948Z"
   },
   {
    "duration": 2,
    "start_time": "2023-02-17T09:05:34.961Z"
   },
   {
    "duration": 9,
    "start_time": "2023-02-17T09:05:34.965Z"
   },
   {
    "duration": 13,
    "start_time": "2023-02-17T09:05:34.976Z"
   },
   {
    "duration": 12,
    "start_time": "2023-02-17T09:05:34.991Z"
   },
   {
    "duration": 6,
    "start_time": "2023-02-17T09:05:35.006Z"
   },
   {
    "duration": 23,
    "start_time": "2023-02-17T09:05:35.014Z"
   },
   {
    "duration": 29,
    "start_time": "2023-02-17T09:05:35.038Z"
   },
   {
    "duration": 7,
    "start_time": "2023-02-17T09:05:35.068Z"
   },
   {
    "duration": 6,
    "start_time": "2023-02-17T09:05:35.092Z"
   },
   {
    "duration": 12,
    "start_time": "2023-02-17T09:05:35.100Z"
   },
   {
    "duration": 11,
    "start_time": "2023-02-17T09:05:35.113Z"
   },
   {
    "duration": 21,
    "start_time": "2023-02-17T09:05:35.125Z"
   },
   {
    "duration": 8,
    "start_time": "2023-02-17T09:05:35.148Z"
   },
   {
    "duration": 536,
    "start_time": "2023-02-17T09:05:35.158Z"
   },
   {
    "duration": 11,
    "start_time": "2023-02-17T09:05:35.696Z"
   },
   {
    "duration": 18,
    "start_time": "2023-02-17T09:05:35.708Z"
   },
   {
    "duration": 12,
    "start_time": "2023-02-17T09:05:35.728Z"
   },
   {
    "duration": 7,
    "start_time": "2023-02-17T09:05:35.741Z"
   },
   {
    "duration": 7,
    "start_time": "2023-02-17T09:05:35.749Z"
   },
   {
    "duration": 34,
    "start_time": "2023-02-17T09:05:35.758Z"
   },
   {
    "duration": 5,
    "start_time": "2023-02-17T09:05:35.794Z"
   },
   {
    "duration": 16,
    "start_time": "2023-02-17T09:05:35.800Z"
   },
   {
    "duration": 13,
    "start_time": "2023-02-17T09:05:35.819Z"
   },
   {
    "duration": 7,
    "start_time": "2023-02-17T09:05:35.834Z"
   },
   {
    "duration": 6,
    "start_time": "2023-02-17T09:05:35.843Z"
   },
   {
    "duration": 7,
    "start_time": "2023-02-17T09:05:35.851Z"
   },
   {
    "duration": 52,
    "start_time": "2023-02-17T09:05:35.859Z"
   },
   {
    "duration": 6,
    "start_time": "2023-02-17T09:05:35.912Z"
   },
   {
    "duration": 17,
    "start_time": "2023-02-17T09:05:35.920Z"
   },
   {
    "duration": 9,
    "start_time": "2023-02-17T09:05:35.938Z"
   },
   {
    "duration": 204,
    "start_time": "2023-02-17T09:05:35.948Z"
   },
   {
    "duration": 217,
    "start_time": "2023-02-17T09:05:36.154Z"
   },
   {
    "duration": 549,
    "start_time": "2023-02-17T09:05:36.373Z"
   },
   {
    "duration": 1180,
    "start_time": "2023-02-17T09:05:36.924Z"
   },
   {
    "duration": 318,
    "start_time": "2023-02-17T09:05:38.106Z"
   },
   {
    "duration": 20,
    "start_time": "2023-02-17T09:05:38.426Z"
   },
   {
    "duration": 113,
    "start_time": "2023-02-17T09:11:32.334Z"
   },
   {
    "duration": 22,
    "start_time": "2023-02-17T09:12:01.395Z"
   },
   {
    "duration": 20,
    "start_time": "2023-02-17T09:12:09.936Z"
   },
   {
    "duration": 13,
    "start_time": "2023-02-17T09:14:41.055Z"
   },
   {
    "duration": 1122,
    "start_time": "2023-02-17T09:17:27.516Z"
   },
   {
    "duration": 3,
    "start_time": "2023-02-17T09:17:28.640Z"
   },
   {
    "duration": 1483,
    "start_time": "2023-02-17T09:17:28.644Z"
   },
   {
    "duration": 62,
    "start_time": "2023-02-17T09:17:30.130Z"
   },
   {
    "duration": 12,
    "start_time": "2023-02-17T09:17:30.194Z"
   },
   {
    "duration": 21,
    "start_time": "2023-02-17T09:17:30.208Z"
   },
   {
    "duration": 60,
    "start_time": "2023-02-17T09:17:30.231Z"
   },
   {
    "duration": 25,
    "start_time": "2023-02-17T09:17:30.293Z"
   },
   {
    "duration": 71,
    "start_time": "2023-02-17T09:17:30.320Z"
   },
   {
    "duration": 9,
    "start_time": "2023-02-17T09:17:30.395Z"
   },
   {
    "duration": 35,
    "start_time": "2023-02-17T09:17:30.406Z"
   },
   {
    "duration": 49,
    "start_time": "2023-02-17T09:17:30.442Z"
   },
   {
    "duration": 21,
    "start_time": "2023-02-17T09:17:30.492Z"
   },
   {
    "duration": 32,
    "start_time": "2023-02-17T09:17:30.515Z"
   },
   {
    "duration": 36,
    "start_time": "2023-02-17T09:17:30.549Z"
   },
   {
    "duration": 18,
    "start_time": "2023-02-17T09:17:30.587Z"
   },
   {
    "duration": 33,
    "start_time": "2023-02-17T09:17:30.606Z"
   },
   {
    "duration": 19,
    "start_time": "2023-02-17T09:17:30.640Z"
   },
   {
    "duration": 506,
    "start_time": "2023-02-17T09:17:30.661Z"
   },
   {
    "duration": 23,
    "start_time": "2023-02-17T09:17:31.169Z"
   },
   {
    "duration": 11,
    "start_time": "2023-02-17T09:17:31.194Z"
   },
   {
    "duration": 37,
    "start_time": "2023-02-17T09:17:31.207Z"
   },
   {
    "duration": 31,
    "start_time": "2023-02-17T09:17:31.246Z"
   },
   {
    "duration": 41,
    "start_time": "2023-02-17T09:17:31.279Z"
   },
   {
    "duration": 13,
    "start_time": "2023-02-17T09:17:31.322Z"
   },
   {
    "duration": 23,
    "start_time": "2023-02-17T09:17:31.336Z"
   },
   {
    "duration": 34,
    "start_time": "2023-02-17T09:17:31.361Z"
   },
   {
    "duration": 17,
    "start_time": "2023-02-17T09:17:31.400Z"
   },
   {
    "duration": 27,
    "start_time": "2023-02-17T09:17:31.419Z"
   },
   {
    "duration": 13,
    "start_time": "2023-02-17T09:17:31.448Z"
   },
   {
    "duration": 24,
    "start_time": "2023-02-17T09:17:31.463Z"
   },
   {
    "duration": 45,
    "start_time": "2023-02-17T09:17:31.488Z"
   },
   {
    "duration": 15,
    "start_time": "2023-02-17T09:17:31.537Z"
   },
   {
    "duration": 28,
    "start_time": "2023-02-17T09:17:31.554Z"
   },
   {
    "duration": 20,
    "start_time": "2023-02-17T09:17:31.584Z"
   },
   {
    "duration": 196,
    "start_time": "2023-02-17T09:17:31.607Z"
   },
   {
    "duration": 208,
    "start_time": "2023-02-17T09:17:31.804Z"
   },
   {
    "duration": 498,
    "start_time": "2023-02-17T09:17:32.014Z"
   },
   {
    "duration": 1086,
    "start_time": "2023-02-17T09:17:32.514Z"
   },
   {
    "duration": 354,
    "start_time": "2023-02-17T09:17:33.602Z"
   },
   {
    "duration": 21,
    "start_time": "2023-02-17T09:17:33.958Z"
   },
   {
    "duration": 20,
    "start_time": "2023-02-17T09:17:33.992Z"
   },
   {
    "duration": 1091,
    "start_time": "2023-02-17T09:37:24.535Z"
   },
   {
    "duration": 3,
    "start_time": "2023-02-17T09:37:25.628Z"
   },
   {
    "duration": 1110,
    "start_time": "2023-02-17T09:37:25.632Z"
   },
   {
    "duration": 19,
    "start_time": "2023-02-17T09:37:26.745Z"
   },
   {
    "duration": 15,
    "start_time": "2023-02-17T09:37:26.766Z"
   },
   {
    "duration": 16,
    "start_time": "2023-02-17T09:37:26.784Z"
   },
   {
    "duration": 9,
    "start_time": "2023-02-17T09:37:26.802Z"
   },
   {
    "duration": 99,
    "start_time": "2023-02-17T09:37:26.812Z"
   },
   {
    "duration": 0,
    "start_time": "2023-02-17T09:37:26.914Z"
   },
   {
    "duration": 0,
    "start_time": "2023-02-17T09:37:26.915Z"
   },
   {
    "duration": 0,
    "start_time": "2023-02-17T09:37:26.917Z"
   },
   {
    "duration": 0,
    "start_time": "2023-02-17T09:37:26.917Z"
   },
   {
    "duration": 0,
    "start_time": "2023-02-17T09:37:26.919Z"
   },
   {
    "duration": 0,
    "start_time": "2023-02-17T09:37:26.919Z"
   },
   {
    "duration": 0,
    "start_time": "2023-02-17T09:37:26.920Z"
   },
   {
    "duration": 0,
    "start_time": "2023-02-17T09:37:26.921Z"
   },
   {
    "duration": 0,
    "start_time": "2023-02-17T09:37:26.922Z"
   },
   {
    "duration": 0,
    "start_time": "2023-02-17T09:37:26.924Z"
   },
   {
    "duration": 0,
    "start_time": "2023-02-17T09:37:26.925Z"
   },
   {
    "duration": 0,
    "start_time": "2023-02-17T09:37:26.925Z"
   },
   {
    "duration": 0,
    "start_time": "2023-02-17T09:37:26.926Z"
   },
   {
    "duration": 0,
    "start_time": "2023-02-17T09:37:26.927Z"
   },
   {
    "duration": 0,
    "start_time": "2023-02-17T09:37:26.928Z"
   },
   {
    "duration": 0,
    "start_time": "2023-02-17T09:37:26.929Z"
   },
   {
    "duration": 0,
    "start_time": "2023-02-17T09:37:26.930Z"
   },
   {
    "duration": 0,
    "start_time": "2023-02-17T09:37:26.931Z"
   },
   {
    "duration": 0,
    "start_time": "2023-02-17T09:37:26.932Z"
   },
   {
    "duration": 0,
    "start_time": "2023-02-17T09:37:26.933Z"
   },
   {
    "duration": 0,
    "start_time": "2023-02-17T09:37:26.934Z"
   },
   {
    "duration": 0,
    "start_time": "2023-02-17T09:37:26.935Z"
   },
   {
    "duration": 0,
    "start_time": "2023-02-17T09:37:26.936Z"
   },
   {
    "duration": 0,
    "start_time": "2023-02-17T09:37:26.937Z"
   },
   {
    "duration": 0,
    "start_time": "2023-02-17T09:37:26.938Z"
   },
   {
    "duration": 0,
    "start_time": "2023-02-17T09:37:26.939Z"
   },
   {
    "duration": 0,
    "start_time": "2023-02-17T09:37:26.940Z"
   },
   {
    "duration": 0,
    "start_time": "2023-02-17T09:37:26.941Z"
   },
   {
    "duration": 0,
    "start_time": "2023-02-17T09:37:26.942Z"
   },
   {
    "duration": 0,
    "start_time": "2023-02-17T09:37:26.943Z"
   },
   {
    "duration": 0,
    "start_time": "2023-02-17T09:37:26.992Z"
   },
   {
    "duration": 0,
    "start_time": "2023-02-17T09:37:26.993Z"
   },
   {
    "duration": 0,
    "start_time": "2023-02-17T09:37:26.994Z"
   },
   {
    "duration": 0,
    "start_time": "2023-02-17T09:37:26.995Z"
   },
   {
    "duration": 6,
    "start_time": "2023-02-17T09:39:46.016Z"
   },
   {
    "duration": 9,
    "start_time": "2023-02-17T09:40:28.342Z"
   },
   {
    "duration": 1172,
    "start_time": "2023-02-17T09:40:35.168Z"
   },
   {
    "duration": 3,
    "start_time": "2023-02-17T09:40:36.342Z"
   },
   {
    "duration": 1398,
    "start_time": "2023-02-17T09:40:36.347Z"
   },
   {
    "duration": 16,
    "start_time": "2023-02-17T09:40:37.747Z"
   },
   {
    "duration": 14,
    "start_time": "2023-02-17T09:40:37.765Z"
   },
   {
    "duration": 17,
    "start_time": "2023-02-17T09:40:37.780Z"
   },
   {
    "duration": 8,
    "start_time": "2023-02-17T09:40:37.800Z"
   },
   {
    "duration": 16,
    "start_time": "2023-02-17T09:40:37.810Z"
   },
   {
    "duration": 21,
    "start_time": "2023-02-17T09:40:37.829Z"
   },
   {
    "duration": 8,
    "start_time": "2023-02-17T09:40:37.853Z"
   },
   {
    "duration": 24,
    "start_time": "2023-02-17T09:40:37.864Z"
   },
   {
    "duration": 33,
    "start_time": "2023-02-17T09:40:37.890Z"
   },
   {
    "duration": 9,
    "start_time": "2023-02-17T09:40:37.926Z"
   },
   {
    "duration": 10,
    "start_time": "2023-02-17T09:40:37.937Z"
   },
   {
    "duration": 7,
    "start_time": "2023-02-17T09:40:37.950Z"
   },
   {
    "duration": 39,
    "start_time": "2023-02-17T09:40:37.959Z"
   },
   {
    "duration": 12,
    "start_time": "2023-02-17T09:40:38.000Z"
   },
   {
    "duration": 11,
    "start_time": "2023-02-17T09:40:38.014Z"
   },
   {
    "duration": 637,
    "start_time": "2023-02-17T09:40:38.027Z"
   },
   {
    "duration": 11,
    "start_time": "2023-02-17T09:40:38.667Z"
   },
   {
    "duration": 10,
    "start_time": "2023-02-17T09:40:38.691Z"
   },
   {
    "duration": 14,
    "start_time": "2023-02-17T09:40:38.703Z"
   },
   {
    "duration": 13,
    "start_time": "2023-02-17T09:40:38.719Z"
   },
   {
    "duration": 12,
    "start_time": "2023-02-17T09:40:38.734Z"
   },
   {
    "duration": 11,
    "start_time": "2023-02-17T09:40:38.748Z"
   },
   {
    "duration": 17,
    "start_time": "2023-02-17T09:40:38.761Z"
   },
   {
    "duration": 22,
    "start_time": "2023-02-17T09:40:38.781Z"
   },
   {
    "duration": 8,
    "start_time": "2023-02-17T09:40:38.806Z"
   },
   {
    "duration": 8,
    "start_time": "2023-02-17T09:40:38.816Z"
   },
   {
    "duration": 13,
    "start_time": "2023-02-17T09:40:38.825Z"
   },
   {
    "duration": 8,
    "start_time": "2023-02-17T09:40:38.839Z"
   },
   {
    "duration": 46,
    "start_time": "2023-02-17T09:40:38.848Z"
   },
   {
    "duration": 7,
    "start_time": "2023-02-17T09:40:38.895Z"
   },
   {
    "duration": 23,
    "start_time": "2023-02-17T09:40:38.904Z"
   },
   {
    "duration": 11,
    "start_time": "2023-02-17T09:40:38.929Z"
   },
   {
    "duration": 238,
    "start_time": "2023-02-17T09:40:38.942Z"
   },
   {
    "duration": 209,
    "start_time": "2023-02-17T09:40:39.182Z"
   },
   {
    "duration": 501,
    "start_time": "2023-02-17T09:40:39.393Z"
   },
   {
    "duration": 1184,
    "start_time": "2023-02-17T09:40:39.896Z"
   },
   {
    "duration": 337,
    "start_time": "2023-02-17T09:40:41.083Z"
   },
   {
    "duration": 20,
    "start_time": "2023-02-17T09:40:41.422Z"
   },
   {
    "duration": 274,
    "start_time": "2023-02-17T09:40:41.443Z"
   },
   {
    "duration": 498,
    "start_time": "2023-02-17T11:41:25.878Z"
   },
   {
    "duration": 351,
    "start_time": "2023-02-17T11:41:42.265Z"
   },
   {
    "duration": 394,
    "start_time": "2023-02-17T11:44:54.744Z"
   },
   {
    "duration": 608,
    "start_time": "2023-02-17T11:46:11.022Z"
   },
   {
    "duration": 537,
    "start_time": "2023-02-17T11:48:28.884Z"
   },
   {
    "duration": 565,
    "start_time": "2023-02-17T11:49:24.601Z"
   },
   {
    "duration": 1111,
    "start_time": "2023-02-17T11:49:48.246Z"
   },
   {
    "duration": 3,
    "start_time": "2023-02-17T11:49:49.358Z"
   },
   {
    "duration": 1511,
    "start_time": "2023-02-17T11:49:49.362Z"
   },
   {
    "duration": 27,
    "start_time": "2023-02-17T11:49:50.876Z"
   },
   {
    "duration": 25,
    "start_time": "2023-02-17T11:49:50.905Z"
   },
   {
    "duration": 4,
    "start_time": "2023-02-17T11:49:50.932Z"
   },
   {
    "duration": 7,
    "start_time": "2023-02-17T11:49:50.938Z"
   },
   {
    "duration": 15,
    "start_time": "2023-02-17T11:49:50.946Z"
   },
   {
    "duration": 20,
    "start_time": "2023-02-17T11:49:50.963Z"
   },
   {
    "duration": 34,
    "start_time": "2023-02-17T11:49:50.986Z"
   },
   {
    "duration": 14,
    "start_time": "2023-02-17T11:49:51.022Z"
   },
   {
    "duration": 36,
    "start_time": "2023-02-17T11:49:51.037Z"
   },
   {
    "duration": 8,
    "start_time": "2023-02-17T11:49:51.075Z"
   },
   {
    "duration": 24,
    "start_time": "2023-02-17T11:49:51.085Z"
   },
   {
    "duration": 12,
    "start_time": "2023-02-17T11:49:51.111Z"
   },
   {
    "duration": 12,
    "start_time": "2023-02-17T11:49:51.125Z"
   },
   {
    "duration": 12,
    "start_time": "2023-02-17T11:49:51.139Z"
   },
   {
    "duration": 19,
    "start_time": "2023-02-17T11:49:51.153Z"
   },
   {
    "duration": 581,
    "start_time": "2023-02-17T11:49:51.174Z"
   },
   {
    "duration": 11,
    "start_time": "2023-02-17T11:49:51.756Z"
   },
   {
    "duration": 34,
    "start_time": "2023-02-17T11:49:51.768Z"
   },
   {
    "duration": 13,
    "start_time": "2023-02-17T11:49:51.803Z"
   },
   {
    "duration": 7,
    "start_time": "2023-02-17T11:49:51.818Z"
   },
   {
    "duration": 9,
    "start_time": "2023-02-17T11:49:51.826Z"
   },
   {
    "duration": 8,
    "start_time": "2023-02-17T11:49:51.836Z"
   },
   {
    "duration": 16,
    "start_time": "2023-02-17T11:49:51.846Z"
   },
   {
    "duration": 38,
    "start_time": "2023-02-17T11:49:51.864Z"
   },
   {
    "duration": 6,
    "start_time": "2023-02-17T11:49:51.908Z"
   },
   {
    "duration": 13,
    "start_time": "2023-02-17T11:49:51.916Z"
   },
   {
    "duration": 7,
    "start_time": "2023-02-17T11:49:51.931Z"
   },
   {
    "duration": 8,
    "start_time": "2023-02-17T11:49:51.939Z"
   },
   {
    "duration": 64,
    "start_time": "2023-02-17T11:49:51.949Z"
   },
   {
    "duration": 5,
    "start_time": "2023-02-17T11:49:52.015Z"
   },
   {
    "duration": 15,
    "start_time": "2023-02-17T11:49:52.022Z"
   },
   {
    "duration": 8,
    "start_time": "2023-02-17T11:49:52.039Z"
   },
   {
    "duration": 222,
    "start_time": "2023-02-17T11:49:52.048Z"
   },
   {
    "duration": 193,
    "start_time": "2023-02-17T11:49:52.272Z"
   },
   {
    "duration": 512,
    "start_time": "2023-02-17T11:49:52.467Z"
   },
   {
    "duration": 459,
    "start_time": "2023-02-17T11:49:52.981Z"
   },
   {
    "duration": 505,
    "start_time": "2023-02-17T11:49:53.442Z"
   },
   {
    "duration": 555,
    "start_time": "2023-02-17T11:49:53.948Z"
   },
   {
    "duration": 1100,
    "start_time": "2023-02-17T11:49:54.507Z"
   },
   {
    "duration": 377,
    "start_time": "2023-02-17T11:49:55.609Z"
   },
   {
    "duration": 36,
    "start_time": "2023-02-17T11:49:55.988Z"
   },
   {
    "duration": 22,
    "start_time": "2023-02-17T11:49:56.026Z"
   },
   {
    "duration": 297,
    "start_time": "2023-02-17T11:55:21.710Z"
   },
   {
    "duration": 64,
    "start_time": "2023-02-17T12:00:37.050Z"
   },
   {
    "duration": 1084,
    "start_time": "2023-02-17T12:04:31.303Z"
   },
   {
    "duration": 2,
    "start_time": "2023-02-17T12:04:32.391Z"
   },
   {
    "duration": 2117,
    "start_time": "2023-02-17T12:04:32.395Z"
   },
   {
    "duration": 14,
    "start_time": "2023-02-17T12:04:34.515Z"
   },
   {
    "duration": 14,
    "start_time": "2023-02-17T12:04:34.530Z"
   },
   {
    "duration": 4,
    "start_time": "2023-02-17T12:04:34.546Z"
   },
   {
    "duration": 6,
    "start_time": "2023-02-17T12:04:34.552Z"
   },
   {
    "duration": 11,
    "start_time": "2023-02-17T12:04:34.560Z"
   },
   {
    "duration": 22,
    "start_time": "2023-02-17T12:04:34.573Z"
   },
   {
    "duration": 10,
    "start_time": "2023-02-17T12:04:34.598Z"
   },
   {
    "duration": 11,
    "start_time": "2023-02-17T12:04:34.610Z"
   },
   {
    "duration": 29,
    "start_time": "2023-02-17T12:04:34.622Z"
   },
   {
    "duration": 7,
    "start_time": "2023-02-17T12:04:34.652Z"
   },
   {
    "duration": 33,
    "start_time": "2023-02-17T12:04:34.661Z"
   },
   {
    "duration": 8,
    "start_time": "2023-02-17T12:04:34.696Z"
   },
   {
    "duration": 10,
    "start_time": "2023-02-17T12:04:34.705Z"
   },
   {
    "duration": 13,
    "start_time": "2023-02-17T12:04:34.716Z"
   },
   {
    "duration": 7,
    "start_time": "2023-02-17T12:04:34.731Z"
   },
   {
    "duration": 493,
    "start_time": "2023-02-17T12:04:34.739Z"
   },
   {
    "duration": 9,
    "start_time": "2023-02-17T12:04:35.234Z"
   },
   {
    "duration": 8,
    "start_time": "2023-02-17T12:04:35.245Z"
   },
   {
    "duration": 10,
    "start_time": "2023-02-17T12:04:35.254Z"
   },
   {
    "duration": 27,
    "start_time": "2023-02-17T12:04:35.265Z"
   },
   {
    "duration": 5,
    "start_time": "2023-02-17T12:04:35.294Z"
   },
   {
    "duration": 6,
    "start_time": "2023-02-17T12:04:35.301Z"
   },
   {
    "duration": 6,
    "start_time": "2023-02-17T12:04:35.309Z"
   },
   {
    "duration": 11,
    "start_time": "2023-02-17T12:04:35.316Z"
   },
   {
    "duration": 4,
    "start_time": "2023-02-17T12:04:35.330Z"
   },
   {
    "duration": 7,
    "start_time": "2023-02-17T12:04:35.335Z"
   },
   {
    "duration": 10,
    "start_time": "2023-02-17T12:04:35.343Z"
   },
   {
    "duration": 9,
    "start_time": "2023-02-17T12:04:35.354Z"
   },
   {
    "duration": 58,
    "start_time": "2023-02-17T12:04:35.365Z"
   },
   {
    "duration": 5,
    "start_time": "2023-02-17T12:04:35.424Z"
   },
   {
    "duration": 31,
    "start_time": "2023-02-17T12:04:35.431Z"
   },
   {
    "duration": 13,
    "start_time": "2023-02-17T12:04:35.464Z"
   },
   {
    "duration": 178,
    "start_time": "2023-02-17T12:04:35.478Z"
   },
   {
    "duration": 174,
    "start_time": "2023-02-17T12:04:35.657Z"
   },
   {
    "duration": 474,
    "start_time": "2023-02-17T12:04:35.832Z"
   },
   {
    "duration": 317,
    "start_time": "2023-02-17T12:04:36.308Z"
   },
   {
    "duration": 529,
    "start_time": "2023-02-17T12:04:36.627Z"
   },
   {
    "duration": 480,
    "start_time": "2023-02-17T12:04:37.158Z"
   },
   {
    "duration": 1066,
    "start_time": "2023-02-17T12:04:37.640Z"
   },
   {
    "duration": 335,
    "start_time": "2023-02-17T12:04:38.708Z"
   },
   {
    "duration": 20,
    "start_time": "2023-02-17T12:04:39.045Z"
   },
   {
    "duration": 31,
    "start_time": "2023-02-17T12:04:39.066Z"
   },
   {
    "duration": 5,
    "start_time": "2023-02-17T13:05:34.437Z"
   },
   {
    "duration": 109,
    "start_time": "2023-02-17T13:21:08.189Z"
   },
   {
    "duration": 5,
    "start_time": "2023-02-17T13:21:21.320Z"
   },
   {
    "duration": 6,
    "start_time": "2023-02-17T13:24:12.276Z"
   },
   {
    "duration": 5,
    "start_time": "2023-02-17T13:59:05.414Z"
   },
   {
    "duration": 1099,
    "start_time": "2023-02-17T13:59:10.818Z"
   },
   {
    "duration": 2,
    "start_time": "2023-02-17T13:59:11.919Z"
   },
   {
    "duration": 1142,
    "start_time": "2023-02-17T13:59:11.923Z"
   },
   {
    "duration": 15,
    "start_time": "2023-02-17T13:59:13.068Z"
   },
   {
    "duration": 13,
    "start_time": "2023-02-17T13:59:13.084Z"
   },
   {
    "duration": 3,
    "start_time": "2023-02-17T13:59:13.099Z"
   },
   {
    "duration": 20,
    "start_time": "2023-02-17T13:59:13.103Z"
   },
   {
    "duration": 10,
    "start_time": "2023-02-17T13:59:13.125Z"
   },
   {
    "duration": 11,
    "start_time": "2023-02-17T13:59:13.138Z"
   },
   {
    "duration": 14,
    "start_time": "2023-02-17T13:59:13.152Z"
   },
   {
    "duration": 11,
    "start_time": "2023-02-17T13:59:13.168Z"
   },
   {
    "duration": 30,
    "start_time": "2023-02-17T13:59:13.181Z"
   },
   {
    "duration": 7,
    "start_time": "2023-02-17T13:59:13.213Z"
   },
   {
    "duration": 7,
    "start_time": "2023-02-17T13:59:13.222Z"
   },
   {
    "duration": 6,
    "start_time": "2023-02-17T13:59:13.231Z"
   },
   {
    "duration": 7,
    "start_time": "2023-02-17T13:59:13.238Z"
   },
   {
    "duration": 9,
    "start_time": "2023-02-17T13:59:13.247Z"
   },
   {
    "duration": 42,
    "start_time": "2023-02-17T13:59:13.258Z"
   },
   {
    "duration": 518,
    "start_time": "2023-02-17T13:59:13.301Z"
   },
   {
    "duration": 10,
    "start_time": "2023-02-17T13:59:13.821Z"
   },
   {
    "duration": 9,
    "start_time": "2023-02-17T13:59:13.833Z"
   },
   {
    "duration": 12,
    "start_time": "2023-02-17T13:59:13.843Z"
   },
   {
    "duration": 8,
    "start_time": "2023-02-17T13:59:13.856Z"
   },
   {
    "duration": 31,
    "start_time": "2023-02-17T13:59:13.865Z"
   },
   {
    "duration": 9,
    "start_time": "2023-02-17T13:59:13.897Z"
   },
   {
    "duration": 8,
    "start_time": "2023-02-17T13:59:13.907Z"
   },
   {
    "duration": 13,
    "start_time": "2023-02-17T13:59:13.917Z"
   },
   {
    "duration": 5,
    "start_time": "2023-02-17T13:59:13.934Z"
   },
   {
    "duration": 8,
    "start_time": "2023-02-17T13:59:13.940Z"
   },
   {
    "duration": 15,
    "start_time": "2023-02-17T13:59:13.950Z"
   },
   {
    "duration": 26,
    "start_time": "2023-02-17T13:59:13.966Z"
   },
   {
    "duration": 34,
    "start_time": "2023-02-17T13:59:13.993Z"
   },
   {
    "duration": 5,
    "start_time": "2023-02-17T13:59:14.029Z"
   },
   {
    "duration": 20,
    "start_time": "2023-02-17T13:59:14.036Z"
   },
   {
    "duration": 10,
    "start_time": "2023-02-17T13:59:14.058Z"
   },
   {
    "duration": 205,
    "start_time": "2023-02-17T13:59:14.069Z"
   },
   {
    "duration": 198,
    "start_time": "2023-02-17T13:59:14.276Z"
   },
   {
    "duration": 487,
    "start_time": "2023-02-17T13:59:14.476Z"
   },
   {
    "duration": 240,
    "start_time": "2023-02-17T13:59:14.965Z"
   },
   {
    "duration": 532,
    "start_time": "2023-02-17T13:59:15.207Z"
   },
   {
    "duration": 528,
    "start_time": "2023-02-17T13:59:15.741Z"
   },
   {
    "duration": 1095,
    "start_time": "2023-02-17T13:59:16.271Z"
   },
   {
    "duration": 357,
    "start_time": "2023-02-17T13:59:17.368Z"
   },
   {
    "duration": 20,
    "start_time": "2023-02-17T13:59:17.727Z"
   },
   {
    "duration": 19,
    "start_time": "2023-02-17T13:59:17.748Z"
   },
   {
    "duration": 23,
    "start_time": "2023-02-17T13:59:17.768Z"
   },
   {
    "duration": 8,
    "start_time": "2023-02-17T13:59:17.793Z"
   },
   {
    "duration": 11,
    "start_time": "2023-02-17T13:59:17.802Z"
   },
   {
    "duration": 1064,
    "start_time": "2023-02-17T14:14:23.338Z"
   },
   {
    "duration": 2,
    "start_time": "2023-02-17T14:14:24.404Z"
   },
   {
    "duration": 1161,
    "start_time": "2023-02-17T14:14:24.408Z"
   },
   {
    "duration": 15,
    "start_time": "2023-02-17T14:14:25.571Z"
   },
   {
    "duration": 14,
    "start_time": "2023-02-17T14:14:25.587Z"
   },
   {
    "duration": 2,
    "start_time": "2023-02-17T14:14:25.603Z"
   },
   {
    "duration": 8,
    "start_time": "2023-02-17T14:14:25.607Z"
   },
   {
    "duration": 8,
    "start_time": "2023-02-17T14:14:25.616Z"
   },
   {
    "duration": 13,
    "start_time": "2023-02-17T14:14:25.626Z"
   },
   {
    "duration": 7,
    "start_time": "2023-02-17T14:14:25.641Z"
   },
   {
    "duration": 10,
    "start_time": "2023-02-17T14:14:25.650Z"
   },
   {
    "duration": 49,
    "start_time": "2023-02-17T14:14:25.661Z"
   },
   {
    "duration": 7,
    "start_time": "2023-02-17T14:14:25.711Z"
   },
   {
    "duration": 6,
    "start_time": "2023-02-17T14:14:25.719Z"
   },
   {
    "duration": 7,
    "start_time": "2023-02-17T14:14:25.727Z"
   },
   {
    "duration": 7,
    "start_time": "2023-02-17T14:14:25.735Z"
   },
   {
    "duration": 8,
    "start_time": "2023-02-17T14:14:25.744Z"
   },
   {
    "duration": 45,
    "start_time": "2023-02-17T14:14:25.754Z"
   },
   {
    "duration": 521,
    "start_time": "2023-02-17T14:14:25.801Z"
   },
   {
    "duration": 12,
    "start_time": "2023-02-17T14:14:26.324Z"
   },
   {
    "duration": 15,
    "start_time": "2023-02-17T14:14:26.338Z"
   },
   {
    "duration": 13,
    "start_time": "2023-02-17T14:14:26.355Z"
   },
   {
    "duration": 28,
    "start_time": "2023-02-17T14:14:26.370Z"
   },
   {
    "duration": 30,
    "start_time": "2023-02-17T14:14:26.400Z"
   },
   {
    "duration": 23,
    "start_time": "2023-02-17T14:14:26.432Z"
   },
   {
    "duration": 14,
    "start_time": "2023-02-17T14:14:26.457Z"
   },
   {
    "duration": 16,
    "start_time": "2023-02-17T14:14:26.473Z"
   },
   {
    "duration": 7,
    "start_time": "2023-02-17T14:14:26.492Z"
   },
   {
    "duration": 9,
    "start_time": "2023-02-17T14:14:26.501Z"
   },
   {
    "duration": 12,
    "start_time": "2023-02-17T14:14:26.512Z"
   },
   {
    "duration": 12,
    "start_time": "2023-02-17T14:14:26.526Z"
   },
   {
    "duration": 56,
    "start_time": "2023-02-17T14:14:26.539Z"
   },
   {
    "duration": 8,
    "start_time": "2023-02-17T14:14:26.596Z"
   },
   {
    "duration": 16,
    "start_time": "2023-02-17T14:14:26.605Z"
   },
   {
    "duration": 8,
    "start_time": "2023-02-17T14:14:26.623Z"
   },
   {
    "duration": 213,
    "start_time": "2023-02-17T14:14:26.633Z"
   },
   {
    "duration": 180,
    "start_time": "2023-02-17T14:14:26.847Z"
   },
   {
    "duration": 471,
    "start_time": "2023-02-17T14:14:27.029Z"
   },
   {
    "duration": 236,
    "start_time": "2023-02-17T14:14:27.502Z"
   },
   {
    "duration": 515,
    "start_time": "2023-02-17T14:14:27.739Z"
   },
   {
    "duration": 492,
    "start_time": "2023-02-17T14:14:28.255Z"
   },
   {
    "duration": 1019,
    "start_time": "2023-02-17T14:14:28.749Z"
   },
   {
    "duration": 381,
    "start_time": "2023-02-17T14:14:29.770Z"
   },
   {
    "duration": 20,
    "start_time": "2023-02-17T14:14:30.153Z"
   },
   {
    "duration": 35,
    "start_time": "2023-02-17T14:14:30.175Z"
   },
   {
    "duration": 25,
    "start_time": "2023-02-17T14:14:30.213Z"
   },
   {
    "duration": 27,
    "start_time": "2023-02-17T14:14:30.240Z"
   },
   {
    "duration": 35,
    "start_time": "2023-02-17T14:14:30.269Z"
   },
   {
    "duration": 111,
    "start_time": "2023-02-17T14:14:30.306Z"
   },
   {
    "duration": 10,
    "start_time": "2023-02-17T14:14:37.968Z"
   },
   {
    "duration": 5,
    "start_time": "2023-02-17T14:14:44.830Z"
   },
   {
    "duration": 7,
    "start_time": "2023-02-17T14:19:56.358Z"
   },
   {
    "duration": 6,
    "start_time": "2023-02-17T14:20:12.571Z"
   },
   {
    "duration": 12,
    "start_time": "2023-02-17T14:20:16.789Z"
   },
   {
    "duration": 12,
    "start_time": "2023-02-17T14:20:32.642Z"
   },
   {
    "duration": 5,
    "start_time": "2023-02-17T14:22:56.012Z"
   },
   {
    "duration": 10,
    "start_time": "2023-02-17T14:22:59.663Z"
   },
   {
    "duration": 1057,
    "start_time": "2023-02-17T14:23:13.545Z"
   },
   {
    "duration": 3,
    "start_time": "2023-02-17T14:23:14.604Z"
   },
   {
    "duration": 1011,
    "start_time": "2023-02-17T14:23:14.608Z"
   },
   {
    "duration": 14,
    "start_time": "2023-02-17T14:23:15.621Z"
   },
   {
    "duration": 10,
    "start_time": "2023-02-17T14:23:15.637Z"
   },
   {
    "duration": 2,
    "start_time": "2023-02-17T14:23:15.649Z"
   },
   {
    "duration": 8,
    "start_time": "2023-02-17T14:23:15.653Z"
   },
   {
    "duration": 8,
    "start_time": "2023-02-17T14:23:15.662Z"
   },
   {
    "duration": 20,
    "start_time": "2023-02-17T14:23:15.672Z"
   },
   {
    "duration": 7,
    "start_time": "2023-02-17T14:23:15.695Z"
   },
   {
    "duration": 9,
    "start_time": "2023-02-17T14:23:15.704Z"
   },
   {
    "duration": 26,
    "start_time": "2023-02-17T14:23:15.714Z"
   },
   {
    "duration": 6,
    "start_time": "2023-02-17T14:23:15.741Z"
   },
   {
    "duration": 7,
    "start_time": "2023-02-17T14:23:15.748Z"
   },
   {
    "duration": 38,
    "start_time": "2023-02-17T14:23:15.756Z"
   },
   {
    "duration": 6,
    "start_time": "2023-02-17T14:23:15.796Z"
   },
   {
    "duration": 7,
    "start_time": "2023-02-17T14:23:15.804Z"
   },
   {
    "duration": 8,
    "start_time": "2023-02-17T14:23:15.813Z"
   },
   {
    "duration": 540,
    "start_time": "2023-02-17T14:23:15.823Z"
   },
   {
    "duration": 10,
    "start_time": "2023-02-17T14:23:16.364Z"
   },
   {
    "duration": 20,
    "start_time": "2023-02-17T14:23:16.376Z"
   },
   {
    "duration": 9,
    "start_time": "2023-02-17T14:23:16.398Z"
   },
   {
    "duration": 6,
    "start_time": "2023-02-17T14:23:16.408Z"
   },
   {
    "duration": 9,
    "start_time": "2023-02-17T14:23:16.415Z"
   },
   {
    "duration": 8,
    "start_time": "2023-02-17T14:23:16.425Z"
   },
   {
    "duration": 11,
    "start_time": "2023-02-17T14:23:16.434Z"
   },
   {
    "duration": 22,
    "start_time": "2023-02-17T14:23:16.446Z"
   },
   {
    "duration": 4,
    "start_time": "2023-02-17T14:23:16.472Z"
   },
   {
    "duration": 5,
    "start_time": "2023-02-17T14:23:16.492Z"
   },
   {
    "duration": 8,
    "start_time": "2023-02-17T14:23:16.498Z"
   },
   {
    "duration": 10,
    "start_time": "2023-02-17T14:23:16.507Z"
   },
   {
    "duration": 43,
    "start_time": "2023-02-17T14:23:16.518Z"
   },
   {
    "duration": 7,
    "start_time": "2023-02-17T14:23:16.563Z"
   },
   {
    "duration": 27,
    "start_time": "2023-02-17T14:23:16.572Z"
   },
   {
    "duration": 8,
    "start_time": "2023-02-17T14:23:16.600Z"
   },
   {
    "duration": 243,
    "start_time": "2023-02-17T14:23:16.609Z"
   },
   {
    "duration": 228,
    "start_time": "2023-02-17T14:23:16.854Z"
   },
   {
    "duration": 501,
    "start_time": "2023-02-17T14:23:17.084Z"
   },
   {
    "duration": 233,
    "start_time": "2023-02-17T14:23:17.591Z"
   },
   {
    "duration": 550,
    "start_time": "2023-02-17T14:23:17.826Z"
   },
   {
    "duration": 516,
    "start_time": "2023-02-17T14:23:18.378Z"
   },
   {
    "duration": 988,
    "start_time": "2023-02-17T14:23:18.895Z"
   },
   {
    "duration": 341,
    "start_time": "2023-02-17T14:23:19.884Z"
   },
   {
    "duration": 19,
    "start_time": "2023-02-17T14:23:20.226Z"
   },
   {
    "duration": 20,
    "start_time": "2023-02-17T14:23:20.247Z"
   },
   {
    "duration": 24,
    "start_time": "2023-02-17T14:23:20.268Z"
   },
   {
    "duration": 8,
    "start_time": "2023-02-17T14:23:20.294Z"
   },
   {
    "duration": 10,
    "start_time": "2023-02-17T14:23:20.303Z"
   },
   {
    "duration": 13,
    "start_time": "2023-02-17T14:23:20.315Z"
   },
   {
    "duration": 102,
    "start_time": "2023-02-17T15:26:57.456Z"
   },
   {
    "duration": 20,
    "start_time": "2023-02-17T15:27:14.608Z"
   },
   {
    "duration": 39,
    "start_time": "2023-02-17T15:27:37.763Z"
   },
   {
    "duration": 11,
    "start_time": "2023-02-17T15:28:45.991Z"
   },
   {
    "duration": 13,
    "start_time": "2023-02-17T15:28:59.822Z"
   },
   {
    "duration": 8,
    "start_time": "2023-02-17T15:29:06.532Z"
   },
   {
    "duration": 7,
    "start_time": "2023-02-17T15:29:22.496Z"
   },
   {
    "duration": 17,
    "start_time": "2023-02-17T15:29:36.460Z"
   },
   {
    "duration": 12,
    "start_time": "2023-02-17T15:29:43.473Z"
   },
   {
    "duration": 17,
    "start_time": "2023-02-17T15:31:06.276Z"
   },
   {
    "duration": 8,
    "start_time": "2023-02-17T15:31:16.971Z"
   },
   {
    "duration": 8,
    "start_time": "2023-02-17T15:31:22.904Z"
   },
   {
    "duration": 41,
    "start_time": "2023-02-17T15:38:39.528Z"
   },
   {
    "duration": 31,
    "start_time": "2023-02-17T15:41:27.969Z"
   },
   {
    "duration": 9,
    "start_time": "2023-02-17T15:41:37.771Z"
   },
   {
    "duration": 7,
    "start_time": "2023-02-17T15:41:49.542Z"
   },
   {
    "duration": 34,
    "start_time": "2023-02-17T15:43:43.167Z"
   },
   {
    "duration": 13,
    "start_time": "2023-02-17T15:43:48.583Z"
   },
   {
    "duration": 13,
    "start_time": "2023-02-17T15:43:53.064Z"
   },
   {
    "duration": 13,
    "start_time": "2023-02-17T15:43:57.415Z"
   },
   {
    "duration": 8,
    "start_time": "2023-02-17T15:44:02.051Z"
   },
   {
    "duration": 12,
    "start_time": "2023-02-17T15:44:05.564Z"
   },
   {
    "duration": 7,
    "start_time": "2023-02-17T15:44:09.025Z"
   },
   {
    "duration": 8,
    "start_time": "2023-02-17T15:45:00.621Z"
   },
   {
    "duration": 9,
    "start_time": "2023-02-17T15:45:38.732Z"
   },
   {
    "duration": 45,
    "start_time": "2023-02-17T15:47:04.894Z"
   },
   {
    "duration": 9,
    "start_time": "2023-02-17T15:47:20.366Z"
   },
   {
    "duration": 9,
    "start_time": "2023-02-17T15:48:04.902Z"
   },
   {
    "duration": 7,
    "start_time": "2023-02-17T15:50:19.363Z"
   },
   {
    "duration": 8,
    "start_time": "2023-02-17T15:55:38.203Z"
   },
   {
    "duration": 7,
    "start_time": "2023-02-17T15:56:47.577Z"
   },
   {
    "duration": 16,
    "start_time": "2023-02-17T16:00:06.345Z"
   },
   {
    "duration": 8,
    "start_time": "2023-02-17T16:00:17.699Z"
   },
   {
    "duration": 7,
    "start_time": "2023-02-17T16:01:30.423Z"
   },
   {
    "duration": 7,
    "start_time": "2023-02-17T16:01:45.798Z"
   },
   {
    "duration": 9,
    "start_time": "2023-02-17T16:02:47.116Z"
   },
   {
    "duration": 8,
    "start_time": "2023-02-17T16:05:22.182Z"
   },
   {
    "duration": 9,
    "start_time": "2023-02-17T16:05:35.059Z"
   },
   {
    "duration": 8,
    "start_time": "2023-02-17T16:05:41.188Z"
   },
   {
    "duration": 43,
    "start_time": "2023-02-17T16:06:10.575Z"
   },
   {
    "duration": 9,
    "start_time": "2023-02-17T16:06:16.305Z"
   },
   {
    "duration": 7,
    "start_time": "2023-02-17T16:07:05.351Z"
   },
   {
    "duration": 10,
    "start_time": "2023-02-17T16:08:45.809Z"
   },
   {
    "duration": 8,
    "start_time": "2023-02-17T16:08:54.857Z"
   },
   {
    "duration": 9,
    "start_time": "2023-02-17T16:09:05.658Z"
   },
   {
    "duration": 9,
    "start_time": "2023-02-17T16:09:39.087Z"
   },
   {
    "duration": 7,
    "start_time": "2023-02-17T16:09:48.974Z"
   },
   {
    "duration": 7,
    "start_time": "2023-02-17T16:10:14.113Z"
   },
   {
    "duration": 8,
    "start_time": "2023-02-17T16:10:31.821Z"
   },
   {
    "duration": 7,
    "start_time": "2023-02-17T16:11:13.224Z"
   },
   {
    "duration": 8,
    "start_time": "2023-02-17T16:11:18.650Z"
   },
   {
    "duration": 8,
    "start_time": "2023-02-17T16:11:47.200Z"
   },
   {
    "duration": 7,
    "start_time": "2023-02-17T16:12:31.135Z"
   },
   {
    "duration": 9,
    "start_time": "2023-02-17T16:12:46.458Z"
   },
   {
    "duration": 10,
    "start_time": "2023-02-17T16:13:07.020Z"
   },
   {
    "duration": 8,
    "start_time": "2023-02-17T16:13:52.660Z"
   },
   {
    "duration": 8,
    "start_time": "2023-02-17T16:14:13.739Z"
   },
   {
    "duration": 8,
    "start_time": "2023-02-17T16:18:35.880Z"
   },
   {
    "duration": 29,
    "start_time": "2023-02-17T16:23:30.800Z"
   },
   {
    "duration": 8,
    "start_time": "2023-02-17T16:23:34.873Z"
   },
   {
    "duration": 25,
    "start_time": "2023-02-17T16:24:14.312Z"
   },
   {
    "duration": 34,
    "start_time": "2023-02-17T16:25:09.615Z"
   },
   {
    "duration": 11,
    "start_time": "2023-02-17T16:25:47.763Z"
   },
   {
    "duration": 9,
    "start_time": "2023-02-17T16:25:54.544Z"
   },
   {
    "duration": 7,
    "start_time": "2023-02-17T16:25:58.434Z"
   },
   {
    "duration": 7,
    "start_time": "2023-02-17T16:26:16.207Z"
   },
   {
    "duration": 8,
    "start_time": "2023-02-17T16:28:00.966Z"
   },
   {
    "duration": 8,
    "start_time": "2023-02-17T16:28:08.975Z"
   },
   {
    "duration": 1074,
    "start_time": "2023-02-17T16:28:23.251Z"
   },
   {
    "duration": 3,
    "start_time": "2023-02-17T16:28:24.327Z"
   },
   {
    "duration": 1396,
    "start_time": "2023-02-17T16:28:24.331Z"
   },
   {
    "duration": 19,
    "start_time": "2023-02-17T16:28:25.730Z"
   },
   {
    "duration": 12,
    "start_time": "2023-02-17T16:28:25.750Z"
   },
   {
    "duration": 3,
    "start_time": "2023-02-17T16:28:25.765Z"
   },
   {
    "duration": 10,
    "start_time": "2023-02-17T16:28:25.769Z"
   },
   {
    "duration": 17,
    "start_time": "2023-02-17T16:28:25.780Z"
   },
   {
    "duration": 17,
    "start_time": "2023-02-17T16:28:25.799Z"
   },
   {
    "duration": 14,
    "start_time": "2023-02-17T16:28:25.819Z"
   },
   {
    "duration": 22,
    "start_time": "2023-02-17T16:28:25.835Z"
   },
   {
    "duration": 33,
    "start_time": "2023-02-17T16:28:25.859Z"
   },
   {
    "duration": 7,
    "start_time": "2023-02-17T16:28:25.894Z"
   },
   {
    "duration": 7,
    "start_time": "2023-02-17T16:28:25.903Z"
   },
   {
    "duration": 7,
    "start_time": "2023-02-17T16:28:25.912Z"
   },
   {
    "duration": 7,
    "start_time": "2023-02-17T16:28:25.920Z"
   },
   {
    "duration": 14,
    "start_time": "2023-02-17T16:28:25.929Z"
   },
   {
    "duration": 11,
    "start_time": "2023-02-17T16:28:25.944Z"
   },
   {
    "duration": 636,
    "start_time": "2023-02-17T16:28:25.991Z"
   },
   {
    "duration": 12,
    "start_time": "2023-02-17T16:28:26.629Z"
   },
   {
    "duration": 10,
    "start_time": "2023-02-17T16:28:26.642Z"
   },
   {
    "duration": 10,
    "start_time": "2023-02-17T16:28:26.654Z"
   },
   {
    "duration": 31,
    "start_time": "2023-02-17T16:28:26.665Z"
   },
   {
    "duration": 8,
    "start_time": "2023-02-17T16:28:26.698Z"
   },
   {
    "duration": 8,
    "start_time": "2023-02-17T16:28:26.707Z"
   },
   {
    "duration": 7,
    "start_time": "2023-02-17T16:28:26.717Z"
   },
   {
    "duration": 18,
    "start_time": "2023-02-17T16:28:26.725Z"
   },
   {
    "duration": 5,
    "start_time": "2023-02-17T16:28:26.747Z"
   },
   {
    "duration": 41,
    "start_time": "2023-02-17T16:28:26.754Z"
   },
   {
    "duration": 7,
    "start_time": "2023-02-17T16:28:26.797Z"
   },
   {
    "duration": 8,
    "start_time": "2023-02-17T16:28:26.805Z"
   },
   {
    "duration": 88,
    "start_time": "2023-02-17T16:28:26.815Z"
   },
   {
    "duration": 6,
    "start_time": "2023-02-17T16:28:26.904Z"
   },
   {
    "duration": 13,
    "start_time": "2023-02-17T16:28:26.912Z"
   },
   {
    "duration": 8,
    "start_time": "2023-02-17T16:28:26.927Z"
   },
   {
    "duration": 397,
    "start_time": "2023-02-17T16:28:26.936Z"
   },
   {
    "duration": 458,
    "start_time": "2023-02-17T16:28:27.334Z"
   },
   {
    "duration": 1031,
    "start_time": "2023-02-17T16:28:27.794Z"
   },
   {
    "duration": 251,
    "start_time": "2023-02-17T16:28:28.827Z"
   },
   {
    "duration": 604,
    "start_time": "2023-02-17T16:28:29.079Z"
   },
   {
    "duration": 525,
    "start_time": "2023-02-17T16:28:29.692Z"
   },
   {
    "duration": 1014,
    "start_time": "2023-02-17T16:28:30.219Z"
   },
   {
    "duration": 342,
    "start_time": "2023-02-17T16:28:31.235Z"
   },
   {
    "duration": 28,
    "start_time": "2023-02-17T16:28:31.578Z"
   },
   {
    "duration": 21,
    "start_time": "2023-02-17T16:28:31.608Z"
   },
   {
    "duration": 4,
    "start_time": "2023-02-17T16:28:31.630Z"
   },
   {
    "duration": 20,
    "start_time": "2023-02-17T16:28:31.636Z"
   },
   {
    "duration": 28,
    "start_time": "2023-02-17T16:28:31.658Z"
   },
   {
    "duration": 20,
    "start_time": "2023-02-17T16:28:31.688Z"
   },
   {
    "duration": 10,
    "start_time": "2023-02-17T16:28:31.710Z"
   },
   {
    "duration": 100,
    "start_time": "2023-02-17T16:28:31.721Z"
   },
   {
    "duration": 0,
    "start_time": "2023-02-17T16:28:31.823Z"
   },
   {
    "duration": 0,
    "start_time": "2023-02-17T16:28:31.824Z"
   },
   {
    "duration": 0,
    "start_time": "2023-02-17T16:28:31.825Z"
   },
   {
    "duration": 0,
    "start_time": "2023-02-17T16:28:31.826Z"
   },
   {
    "duration": 8,
    "start_time": "2023-02-17T16:29:01.921Z"
   },
   {
    "duration": 9,
    "start_time": "2023-02-17T16:29:08.919Z"
   },
   {
    "duration": 7,
    "start_time": "2023-02-17T16:29:17.672Z"
   },
   {
    "duration": 10,
    "start_time": "2023-02-17T16:29:36.387Z"
   },
   {
    "duration": 7,
    "start_time": "2023-02-17T16:29:41.144Z"
   },
   {
    "duration": 7,
    "start_time": "2023-02-17T16:29:55.064Z"
   },
   {
    "duration": 9,
    "start_time": "2023-02-17T16:30:08.330Z"
   },
   {
    "duration": 8,
    "start_time": "2023-02-17T16:31:07.097Z"
   },
   {
    "duration": 7,
    "start_time": "2023-02-17T16:31:12.983Z"
   },
   {
    "duration": 10,
    "start_time": "2023-02-17T16:31:17.240Z"
   },
   {
    "duration": 9,
    "start_time": "2023-02-17T16:31:21.160Z"
   },
   {
    "duration": 9,
    "start_time": "2023-02-17T16:31:44.195Z"
   },
   {
    "duration": 8,
    "start_time": "2023-02-17T16:31:56.151Z"
   },
   {
    "duration": 8,
    "start_time": "2023-02-17T16:32:00.094Z"
   },
   {
    "duration": 8,
    "start_time": "2023-02-17T16:32:20.778Z"
   },
   {
    "duration": 9,
    "start_time": "2023-02-17T16:32:28.342Z"
   },
   {
    "duration": 7,
    "start_time": "2023-02-17T16:32:34.701Z"
   },
   {
    "duration": 1074,
    "start_time": "2023-02-17T16:33:45.548Z"
   },
   {
    "duration": 2,
    "start_time": "2023-02-17T16:33:46.624Z"
   },
   {
    "duration": 1292,
    "start_time": "2023-02-17T16:33:46.628Z"
   },
   {
    "duration": 14,
    "start_time": "2023-02-17T16:33:47.922Z"
   },
   {
    "duration": 11,
    "start_time": "2023-02-17T16:33:47.937Z"
   },
   {
    "duration": 3,
    "start_time": "2023-02-17T16:33:47.949Z"
   },
   {
    "duration": 5,
    "start_time": "2023-02-17T16:33:47.953Z"
   },
   {
    "duration": 39,
    "start_time": "2023-02-17T16:33:47.960Z"
   },
   {
    "duration": 10,
    "start_time": "2023-02-17T16:33:48.001Z"
   },
   {
    "duration": 7,
    "start_time": "2023-02-17T16:33:48.013Z"
   },
   {
    "duration": 10,
    "start_time": "2023-02-17T16:33:48.022Z"
   },
   {
    "duration": 79,
    "start_time": "2023-02-17T16:33:48.033Z"
   },
   {
    "duration": 6,
    "start_time": "2023-02-17T16:33:48.113Z"
   },
   {
    "duration": 6,
    "start_time": "2023-02-17T16:33:48.121Z"
   },
   {
    "duration": 7,
    "start_time": "2023-02-17T16:33:48.129Z"
   },
   {
    "duration": 7,
    "start_time": "2023-02-17T16:33:48.191Z"
   },
   {
    "duration": 8,
    "start_time": "2023-02-17T16:33:48.200Z"
   },
   {
    "duration": 7,
    "start_time": "2023-02-17T16:33:48.210Z"
   },
   {
    "duration": 1083,
    "start_time": "2023-02-17T16:33:48.219Z"
   },
   {
    "duration": 10,
    "start_time": "2023-02-17T16:33:49.303Z"
   },
   {
    "duration": 8,
    "start_time": "2023-02-17T16:33:49.315Z"
   },
   {
    "duration": 9,
    "start_time": "2023-02-17T16:33:49.324Z"
   },
   {
    "duration": 61,
    "start_time": "2023-02-17T16:33:49.335Z"
   },
   {
    "duration": 21,
    "start_time": "2023-02-17T16:33:49.397Z"
   },
   {
    "duration": 9,
    "start_time": "2023-02-17T16:33:49.420Z"
   },
   {
    "duration": 6,
    "start_time": "2023-02-17T16:33:49.431Z"
   },
   {
    "duration": 60,
    "start_time": "2023-02-17T16:33:49.438Z"
   },
   {
    "duration": 6,
    "start_time": "2023-02-17T16:33:49.503Z"
   },
   {
    "duration": 12,
    "start_time": "2023-02-17T16:33:49.510Z"
   },
   {
    "duration": 15,
    "start_time": "2023-02-17T16:33:49.523Z"
   },
   {
    "duration": 52,
    "start_time": "2023-02-17T16:33:49.540Z"
   },
   {
    "duration": 35,
    "start_time": "2023-02-17T16:33:49.594Z"
   },
   {
    "duration": 5,
    "start_time": "2023-02-17T16:33:49.630Z"
   },
   {
    "duration": 62,
    "start_time": "2023-02-17T16:33:49.637Z"
   },
   {
    "duration": 8,
    "start_time": "2023-02-17T16:33:49.701Z"
   },
   {
    "duration": 230,
    "start_time": "2023-02-17T16:33:49.711Z"
   },
   {
    "duration": 187,
    "start_time": "2023-02-17T16:33:49.943Z"
   },
   {
    "duration": 487,
    "start_time": "2023-02-17T16:33:50.132Z"
   },
   {
    "duration": 252,
    "start_time": "2023-02-17T16:33:50.621Z"
   },
   {
    "duration": 565,
    "start_time": "2023-02-17T16:33:50.875Z"
   },
   {
    "duration": 554,
    "start_time": "2023-02-17T16:33:51.442Z"
   },
   {
    "duration": 994,
    "start_time": "2023-02-17T16:33:51.998Z"
   },
   {
    "duration": 342,
    "start_time": "2023-02-17T16:33:52.994Z"
   },
   {
    "duration": 21,
    "start_time": "2023-02-17T16:33:53.338Z"
   },
   {
    "duration": 33,
    "start_time": "2023-02-17T16:33:53.360Z"
   },
   {
    "duration": 4,
    "start_time": "2023-02-17T16:33:53.395Z"
   },
   {
    "duration": 6,
    "start_time": "2023-02-17T16:33:53.400Z"
   },
   {
    "duration": 5,
    "start_time": "2023-02-17T16:33:53.408Z"
   },
   {
    "duration": 12,
    "start_time": "2023-02-17T16:33:53.414Z"
   },
   {
    "duration": 8,
    "start_time": "2023-02-17T16:33:53.428Z"
   },
   {
    "duration": 11,
    "start_time": "2023-02-17T16:33:53.437Z"
   },
   {
    "duration": 12,
    "start_time": "2023-02-17T16:33:53.449Z"
   },
   {
    "duration": 5,
    "start_time": "2023-02-17T16:33:53.462Z"
   },
   {
    "duration": 26,
    "start_time": "2023-02-17T16:33:53.468Z"
   },
   {
    "duration": 7,
    "start_time": "2023-02-17T16:33:53.495Z"
   },
   {
    "duration": 8,
    "start_time": "2023-02-17T16:34:50.893Z"
   },
   {
    "duration": 7,
    "start_time": "2023-02-17T16:34:59.866Z"
   },
   {
    "duration": 8,
    "start_time": "2023-02-17T16:35:40.554Z"
   },
   {
    "duration": 8,
    "start_time": "2023-02-17T16:35:50.539Z"
   },
   {
    "duration": 8,
    "start_time": "2023-02-17T16:35:55.604Z"
   },
   {
    "duration": 10,
    "start_time": "2023-02-17T16:36:33.188Z"
   },
   {
    "duration": 9,
    "start_time": "2023-02-17T16:37:14.197Z"
   },
   {
    "duration": 9,
    "start_time": "2023-02-17T16:38:08.061Z"
   },
   {
    "duration": 8,
    "start_time": "2023-02-17T16:38:18.349Z"
   },
   {
    "duration": 124,
    "start_time": "2023-02-17T16:38:51.335Z"
   },
   {
    "duration": 18,
    "start_time": "2023-02-17T16:38:56.449Z"
   },
   {
    "duration": 16,
    "start_time": "2023-02-17T16:39:22.498Z"
   },
   {
    "duration": 22,
    "start_time": "2023-02-17T16:39:31.184Z"
   },
   {
    "duration": 9,
    "start_time": "2023-02-17T16:39:45.387Z"
   },
   {
    "duration": 8,
    "start_time": "2023-02-17T16:40:11.124Z"
   },
   {
    "duration": 7,
    "start_time": "2023-02-17T16:41:21.754Z"
   },
   {
    "duration": 7,
    "start_time": "2023-02-17T16:41:31.491Z"
   },
   {
    "duration": 7,
    "start_time": "2023-02-17T16:41:46.712Z"
   },
   {
    "duration": 9,
    "start_time": "2023-02-17T16:41:56.475Z"
   },
   {
    "duration": 29,
    "start_time": "2023-02-17T16:42:27.921Z"
   },
   {
    "duration": 37,
    "start_time": "2023-02-17T16:42:32.974Z"
   },
   {
    "duration": 7,
    "start_time": "2023-02-17T16:42:47.083Z"
   },
   {
    "duration": 7,
    "start_time": "2023-02-17T16:43:55.955Z"
   },
   {
    "duration": 8,
    "start_time": "2023-02-17T16:44:00.617Z"
   },
   {
    "duration": 9,
    "start_time": "2023-02-17T16:44:23.726Z"
   },
   {
    "duration": 7,
    "start_time": "2023-02-17T16:44:35.728Z"
   },
   {
    "duration": 8,
    "start_time": "2023-02-17T16:44:51.173Z"
   },
   {
    "duration": 8,
    "start_time": "2023-02-17T16:45:17.752Z"
   },
   {
    "duration": 8,
    "start_time": "2023-02-17T16:45:35.135Z"
   },
   {
    "duration": 8,
    "start_time": "2023-02-17T16:46:18.367Z"
   },
   {
    "duration": 8,
    "start_time": "2023-02-17T16:46:48.566Z"
   },
   {
    "duration": 9,
    "start_time": "2023-02-17T16:47:39.884Z"
   },
   {
    "duration": 11,
    "start_time": "2023-02-17T16:47:53.572Z"
   },
   {
    "duration": 8,
    "start_time": "2023-02-17T16:48:16.976Z"
   },
   {
    "duration": 10,
    "start_time": "2023-02-17T16:48:43.652Z"
   },
   {
    "duration": 7,
    "start_time": "2023-02-17T16:49:10.307Z"
   },
   {
    "duration": 8,
    "start_time": "2023-02-17T16:49:27.694Z"
   },
   {
    "duration": 8,
    "start_time": "2023-02-17T16:49:39.239Z"
   },
   {
    "duration": 9,
    "start_time": "2023-02-17T16:49:47.419Z"
   },
   {
    "duration": 8,
    "start_time": "2023-02-17T16:49:51.723Z"
   },
   {
    "duration": 8,
    "start_time": "2023-02-17T16:49:54.911Z"
   },
   {
    "duration": 7,
    "start_time": "2023-02-17T16:54:27.614Z"
   },
   {
    "duration": 8,
    "start_time": "2023-02-17T16:54:57.413Z"
   },
   {
    "duration": 7,
    "start_time": "2023-02-17T16:56:37.935Z"
   },
   {
    "duration": 7,
    "start_time": "2023-02-17T16:58:09.186Z"
   },
   {
    "duration": 7,
    "start_time": "2023-02-17T16:59:30.021Z"
   },
   {
    "duration": 8,
    "start_time": "2023-02-17T17:00:28.987Z"
   },
   {
    "duration": 7,
    "start_time": "2023-02-17T17:00:35.822Z"
   },
   {
    "duration": 7,
    "start_time": "2023-02-17T17:02:00.561Z"
   },
   {
    "duration": 8,
    "start_time": "2023-02-17T17:02:05.341Z"
   },
   {
    "duration": 8,
    "start_time": "2023-02-17T17:03:11.775Z"
   },
   {
    "duration": 8,
    "start_time": "2023-02-17T17:03:45.961Z"
   },
   {
    "duration": 7,
    "start_time": "2023-02-17T17:03:58.674Z"
   },
   {
    "duration": 8,
    "start_time": "2023-02-17T17:04:23.988Z"
   },
   {
    "duration": 7,
    "start_time": "2023-02-17T17:04:28.427Z"
   },
   {
    "duration": 8,
    "start_time": "2023-02-17T17:04:52.499Z"
   },
   {
    "duration": 7,
    "start_time": "2023-02-17T17:06:46.004Z"
   },
   {
    "duration": 1111,
    "start_time": "2023-02-17T17:11:59.898Z"
   },
   {
    "duration": 2,
    "start_time": "2023-02-17T17:12:01.011Z"
   },
   {
    "duration": 1565,
    "start_time": "2023-02-17T17:12:01.015Z"
   },
   {
    "duration": 14,
    "start_time": "2023-02-17T17:12:02.582Z"
   },
   {
    "duration": 10,
    "start_time": "2023-02-17T17:12:02.597Z"
   },
   {
    "duration": 15,
    "start_time": "2023-02-17T17:12:02.609Z"
   },
   {
    "duration": 20,
    "start_time": "2023-02-17T17:12:02.625Z"
   },
   {
    "duration": 25,
    "start_time": "2023-02-17T17:12:02.646Z"
   },
   {
    "duration": 19,
    "start_time": "2023-02-17T17:12:02.672Z"
   },
   {
    "duration": 40,
    "start_time": "2023-02-17T17:12:02.693Z"
   },
   {
    "duration": 35,
    "start_time": "2023-02-17T17:12:02.735Z"
   },
   {
    "duration": 31,
    "start_time": "2023-02-17T17:12:02.771Z"
   },
   {
    "duration": 23,
    "start_time": "2023-02-17T17:12:02.803Z"
   },
   {
    "duration": 19,
    "start_time": "2023-02-17T17:12:02.827Z"
   },
   {
    "duration": 29,
    "start_time": "2023-02-17T17:12:02.848Z"
   },
   {
    "duration": 21,
    "start_time": "2023-02-17T17:12:02.878Z"
   },
   {
    "duration": 25,
    "start_time": "2023-02-17T17:12:02.900Z"
   },
   {
    "duration": 12,
    "start_time": "2023-02-17T17:12:02.927Z"
   },
   {
    "duration": 477,
    "start_time": "2023-02-17T17:12:02.940Z"
   },
   {
    "duration": 10,
    "start_time": "2023-02-17T17:12:03.418Z"
   },
   {
    "duration": 14,
    "start_time": "2023-02-17T17:12:03.429Z"
   },
   {
    "duration": 10,
    "start_time": "2023-02-17T17:12:03.445Z"
   },
   {
    "duration": 6,
    "start_time": "2023-02-17T17:12:03.456Z"
   },
   {
    "duration": 11,
    "start_time": "2023-02-17T17:12:03.463Z"
   },
   {
    "duration": 5,
    "start_time": "2023-02-17T17:12:03.491Z"
   },
   {
    "duration": 12,
    "start_time": "2023-02-17T17:12:03.498Z"
   },
   {
    "duration": 17,
    "start_time": "2023-02-17T17:12:03.511Z"
   },
   {
    "duration": 10,
    "start_time": "2023-02-17T17:12:03.531Z"
   },
   {
    "duration": 7,
    "start_time": "2023-02-17T17:12:03.542Z"
   },
   {
    "duration": 6,
    "start_time": "2023-02-17T17:12:03.550Z"
   },
   {
    "duration": 10,
    "start_time": "2023-02-17T17:12:03.558Z"
   },
   {
    "duration": 40,
    "start_time": "2023-02-17T17:12:03.569Z"
   },
   {
    "duration": 6,
    "start_time": "2023-02-17T17:12:03.611Z"
   },
   {
    "duration": 15,
    "start_time": "2023-02-17T17:12:03.618Z"
   },
   {
    "duration": 7,
    "start_time": "2023-02-17T17:12:03.635Z"
   },
   {
    "duration": 223,
    "start_time": "2023-02-17T17:12:03.644Z"
   },
   {
    "duration": 188,
    "start_time": "2023-02-17T17:12:03.869Z"
   },
   {
    "duration": 457,
    "start_time": "2023-02-17T17:12:04.058Z"
   },
   {
    "duration": 243,
    "start_time": "2023-02-17T17:12:04.516Z"
   },
   {
    "duration": 512,
    "start_time": "2023-02-17T17:12:04.761Z"
   },
   {
    "duration": 478,
    "start_time": "2023-02-17T17:12:05.275Z"
   },
   {
    "duration": 1082,
    "start_time": "2023-02-17T17:12:05.755Z"
   },
   {
    "duration": 329,
    "start_time": "2023-02-17T17:12:06.839Z"
   },
   {
    "duration": 23,
    "start_time": "2023-02-17T17:12:07.169Z"
   },
   {
    "duration": 21,
    "start_time": "2023-02-17T17:12:07.193Z"
   },
   {
    "duration": 5,
    "start_time": "2023-02-17T17:12:07.215Z"
   },
   {
    "duration": 9,
    "start_time": "2023-02-17T17:12:07.221Z"
   },
   {
    "duration": 6,
    "start_time": "2023-02-17T17:12:07.231Z"
   },
   {
    "duration": 11,
    "start_time": "2023-02-17T17:12:07.238Z"
   },
   {
    "duration": 6,
    "start_time": "2023-02-17T17:12:07.251Z"
   },
   {
    "duration": 8,
    "start_time": "2023-02-17T17:12:07.259Z"
   },
   {
    "duration": 25,
    "start_time": "2023-02-17T17:12:07.268Z"
   },
   {
    "duration": 1079,
    "start_time": "2023-02-17T17:37:31.939Z"
   },
   {
    "duration": 3,
    "start_time": "2023-02-17T17:37:33.020Z"
   },
   {
    "duration": 927,
    "start_time": "2023-02-17T17:37:33.025Z"
   },
   {
    "duration": 13,
    "start_time": "2023-02-17T17:37:33.954Z"
   },
   {
    "duration": 12,
    "start_time": "2023-02-17T17:37:33.968Z"
   },
   {
    "duration": 3,
    "start_time": "2023-02-17T17:37:33.981Z"
   },
   {
    "duration": 11,
    "start_time": "2023-02-17T17:37:33.985Z"
   },
   {
    "duration": 13,
    "start_time": "2023-02-17T17:37:33.997Z"
   },
   {
    "duration": 13,
    "start_time": "2023-02-17T17:37:34.012Z"
   },
   {
    "duration": 11,
    "start_time": "2023-02-17T17:37:34.028Z"
   },
   {
    "duration": 10,
    "start_time": "2023-02-17T17:37:34.041Z"
   },
   {
    "duration": 29,
    "start_time": "2023-02-17T17:37:34.053Z"
   },
   {
    "duration": 15,
    "start_time": "2023-02-17T17:37:34.083Z"
   },
   {
    "duration": 10,
    "start_time": "2023-02-17T17:37:34.100Z"
   },
   {
    "duration": 7,
    "start_time": "2023-02-17T17:37:34.113Z"
   },
   {
    "duration": 6,
    "start_time": "2023-02-17T17:37:34.121Z"
   },
   {
    "duration": 10,
    "start_time": "2023-02-17T17:37:34.128Z"
   },
   {
    "duration": 8,
    "start_time": "2023-02-17T17:37:34.139Z"
   },
   {
    "duration": 552,
    "start_time": "2023-02-17T17:37:34.148Z"
   },
   {
    "duration": 13,
    "start_time": "2023-02-17T17:37:34.702Z"
   },
   {
    "duration": 15,
    "start_time": "2023-02-17T17:37:34.717Z"
   },
   {
    "duration": 14,
    "start_time": "2023-02-17T17:37:34.733Z"
   },
   {
    "duration": 11,
    "start_time": "2023-02-17T17:37:34.748Z"
   },
   {
    "duration": 32,
    "start_time": "2023-02-17T17:37:34.761Z"
   },
   {
    "duration": 18,
    "start_time": "2023-02-17T17:37:34.795Z"
   },
   {
    "duration": 6,
    "start_time": "2023-02-17T17:37:34.815Z"
   },
   {
    "duration": 12,
    "start_time": "2023-02-17T17:37:34.822Z"
   },
   {
    "duration": 7,
    "start_time": "2023-02-17T17:37:34.839Z"
   },
   {
    "duration": 10,
    "start_time": "2023-02-17T17:37:34.848Z"
   },
   {
    "duration": 17,
    "start_time": "2023-02-17T17:37:34.859Z"
   },
   {
    "duration": 17,
    "start_time": "2023-02-17T17:37:34.877Z"
   },
   {
    "duration": 53,
    "start_time": "2023-02-17T17:37:34.896Z"
   },
   {
    "duration": 5,
    "start_time": "2023-02-17T17:37:34.952Z"
   },
   {
    "duration": 28,
    "start_time": "2023-02-17T17:37:34.959Z"
   },
   {
    "duration": 31,
    "start_time": "2023-02-17T17:37:34.988Z"
   },
   {
    "duration": 184,
    "start_time": "2023-02-17T17:37:35.020Z"
   },
   {
    "duration": 206,
    "start_time": "2023-02-17T17:37:35.210Z"
   },
   {
    "duration": 516,
    "start_time": "2023-02-17T17:37:35.418Z"
   },
   {
    "duration": 257,
    "start_time": "2023-02-17T17:37:35.936Z"
   },
   {
    "duration": 660,
    "start_time": "2023-02-17T17:37:36.196Z"
   },
   {
    "duration": 534,
    "start_time": "2023-02-17T17:37:36.857Z"
   },
   {
    "duration": 1438,
    "start_time": "2023-02-17T17:37:37.393Z"
   },
   {
    "duration": 696,
    "start_time": "2023-02-17T17:37:38.832Z"
   },
   {
    "duration": 82,
    "start_time": "2023-02-17T17:37:39.530Z"
   },
   {
    "duration": 81,
    "start_time": "2023-02-17T17:37:39.614Z"
   },
   {
    "duration": 7,
    "start_time": "2023-02-17T17:37:39.697Z"
   },
   {
    "duration": 28,
    "start_time": "2023-02-17T17:37:39.706Z"
   },
   {
    "duration": 8,
    "start_time": "2023-02-17T17:37:39.735Z"
   },
   {
    "duration": 57,
    "start_time": "2023-02-17T17:37:39.744Z"
   },
   {
    "duration": 12,
    "start_time": "2023-02-17T17:37:39.803Z"
   },
   {
    "duration": 28,
    "start_time": "2023-02-17T17:37:39.817Z"
   },
   {
    "duration": 55,
    "start_time": "2023-02-17T17:37:39.846Z"
   },
   {
    "duration": 77,
    "start_time": "2023-02-18T13:58:07.584Z"
   },
   {
    "duration": 48,
    "start_time": "2023-02-18T14:00:16.520Z"
   },
   {
    "duration": 8,
    "start_time": "2023-02-18T14:00:31.394Z"
   },
   {
    "duration": 1162,
    "start_time": "2023-02-18T14:00:34.580Z"
   },
   {
    "duration": 11,
    "start_time": "2023-02-18T14:00:35.743Z"
   },
   {
    "duration": 1003,
    "start_time": "2023-02-18T14:00:35.756Z"
   },
   {
    "duration": 17,
    "start_time": "2023-02-18T14:00:36.761Z"
   },
   {
    "duration": 24,
    "start_time": "2023-02-18T14:00:36.779Z"
   },
   {
    "duration": 9,
    "start_time": "2023-02-18T14:00:36.805Z"
   },
   {
    "duration": 13,
    "start_time": "2023-02-18T14:00:36.815Z"
   },
   {
    "duration": 20,
    "start_time": "2023-02-18T14:00:36.830Z"
   },
   {
    "duration": 33,
    "start_time": "2023-02-18T14:00:36.851Z"
   },
   {
    "duration": 17,
    "start_time": "2023-02-18T14:00:36.886Z"
   },
   {
    "duration": 24,
    "start_time": "2023-02-18T14:00:36.905Z"
   },
   {
    "duration": 44,
    "start_time": "2023-02-18T14:00:36.931Z"
   },
   {
    "duration": 9,
    "start_time": "2023-02-18T14:00:36.977Z"
   },
   {
    "duration": 14,
    "start_time": "2023-02-18T14:00:36.987Z"
   },
   {
    "duration": 29,
    "start_time": "2023-02-18T14:00:37.003Z"
   },
   {
    "duration": 30,
    "start_time": "2023-02-18T14:00:37.033Z"
   },
   {
    "duration": 21,
    "start_time": "2023-02-18T14:00:37.064Z"
   },
   {
    "duration": 13,
    "start_time": "2023-02-18T14:00:37.087Z"
   },
   {
    "duration": 702,
    "start_time": "2023-02-18T14:00:37.102Z"
   },
   {
    "duration": 243,
    "start_time": "2023-02-18T14:00:42.765Z"
   },
   {
    "duration": 75,
    "start_time": "2023-02-18T14:05:04.866Z"
   },
   {
    "duration": 1117,
    "start_time": "2023-02-18T14:09:37.984Z"
   },
   {
    "duration": 3,
    "start_time": "2023-02-18T14:09:39.102Z"
   },
   {
    "duration": 1156,
    "start_time": "2023-02-18T14:09:39.107Z"
   },
   {
    "duration": 16,
    "start_time": "2023-02-18T14:09:40.265Z"
   },
   {
    "duration": 20,
    "start_time": "2023-02-18T14:09:40.283Z"
   },
   {
    "duration": 3,
    "start_time": "2023-02-18T14:09:40.305Z"
   },
   {
    "duration": 10,
    "start_time": "2023-02-18T14:09:40.310Z"
   },
   {
    "duration": 10,
    "start_time": "2023-02-18T14:09:40.321Z"
   },
   {
    "duration": 29,
    "start_time": "2023-02-18T14:09:40.332Z"
   },
   {
    "duration": 8,
    "start_time": "2023-02-18T14:09:40.363Z"
   },
   {
    "duration": 12,
    "start_time": "2023-02-18T14:09:40.373Z"
   },
   {
    "duration": 29,
    "start_time": "2023-02-18T14:09:40.386Z"
   },
   {
    "duration": 7,
    "start_time": "2023-02-18T14:09:40.417Z"
   },
   {
    "duration": 30,
    "start_time": "2023-02-18T14:09:40.425Z"
   },
   {
    "duration": 8,
    "start_time": "2023-02-18T14:09:40.457Z"
   },
   {
    "duration": 7,
    "start_time": "2023-02-18T14:09:40.466Z"
   },
   {
    "duration": 9,
    "start_time": "2023-02-18T14:09:40.475Z"
   },
   {
    "duration": 8,
    "start_time": "2023-02-18T14:09:40.485Z"
   },
   {
    "duration": 566,
    "start_time": "2023-02-18T14:09:40.494Z"
   },
   {
    "duration": 252,
    "start_time": "2023-02-18T14:09:41.062Z"
   },
   {
    "duration": 11,
    "start_time": "2023-02-18T14:09:41.316Z"
   },
   {
    "duration": 25,
    "start_time": "2023-02-18T14:09:41.329Z"
   },
   {
    "duration": 13,
    "start_time": "2023-02-18T14:09:41.355Z"
   },
   {
    "duration": 6,
    "start_time": "2023-02-18T14:09:41.370Z"
   },
   {
    "duration": 17,
    "start_time": "2023-02-18T14:09:41.378Z"
   },
   {
    "duration": 35,
    "start_time": "2023-02-18T14:09:41.397Z"
   },
   {
    "duration": 37,
    "start_time": "2023-02-18T14:09:41.434Z"
   },
   {
    "duration": 53,
    "start_time": "2023-02-18T14:09:41.475Z"
   },
   {
    "duration": 43,
    "start_time": "2023-02-18T14:09:41.530Z"
   },
   {
    "duration": 24,
    "start_time": "2023-02-18T14:09:41.575Z"
   },
   {
    "duration": 33,
    "start_time": "2023-02-18T14:09:41.602Z"
   },
   {
    "duration": 30,
    "start_time": "2023-02-18T14:09:41.637Z"
   },
   {
    "duration": 72,
    "start_time": "2023-02-18T14:09:41.668Z"
   },
   {
    "duration": 6,
    "start_time": "2023-02-18T14:09:41.741Z"
   },
   {
    "duration": 45,
    "start_time": "2023-02-18T14:09:41.749Z"
   },
   {
    "duration": 45,
    "start_time": "2023-02-18T14:09:41.795Z"
   },
   {
    "duration": 224,
    "start_time": "2023-02-18T14:09:41.841Z"
   },
   {
    "duration": 198,
    "start_time": "2023-02-18T14:09:42.067Z"
   },
   {
    "duration": 526,
    "start_time": "2023-02-18T14:09:42.266Z"
   },
   {
    "duration": 327,
    "start_time": "2023-02-18T14:09:42.794Z"
   },
   {
    "duration": 484,
    "start_time": "2023-02-18T14:09:43.122Z"
   },
   {
    "duration": 537,
    "start_time": "2023-02-18T14:09:43.608Z"
   },
   {
    "duration": 1027,
    "start_time": "2023-02-18T14:09:44.153Z"
   },
   {
    "duration": 347,
    "start_time": "2023-02-18T14:09:45.182Z"
   },
   {
    "duration": 27,
    "start_time": "2023-02-18T14:09:45.531Z"
   },
   {
    "duration": 44,
    "start_time": "2023-02-18T14:09:45.559Z"
   },
   {
    "duration": 69,
    "start_time": "2023-02-18T14:09:45.605Z"
   },
   {
    "duration": 33,
    "start_time": "2023-02-18T14:09:45.675Z"
   },
   {
    "duration": 31,
    "start_time": "2023-02-18T14:09:45.710Z"
   },
   {
    "duration": 53,
    "start_time": "2023-02-18T14:09:45.743Z"
   },
   {
    "duration": 26,
    "start_time": "2023-02-18T14:09:45.798Z"
   },
   {
    "duration": 38,
    "start_time": "2023-02-18T14:09:45.826Z"
   },
   {
    "duration": 29,
    "start_time": "2023-02-18T14:09:45.866Z"
   },
   {
    "duration": 1346,
    "start_time": "2023-02-18T15:19:34.262Z"
   },
   {
    "duration": 3,
    "start_time": "2023-02-18T15:19:35.610Z"
   },
   {
    "duration": 1663,
    "start_time": "2023-02-18T15:19:35.615Z"
   },
   {
    "duration": 16,
    "start_time": "2023-02-18T15:19:37.280Z"
   },
   {
    "duration": 14,
    "start_time": "2023-02-18T15:19:37.297Z"
   },
   {
    "duration": 3,
    "start_time": "2023-02-18T15:19:37.313Z"
   },
   {
    "duration": 6,
    "start_time": "2023-02-18T15:19:37.318Z"
   },
   {
    "duration": 37,
    "start_time": "2023-02-18T15:19:37.325Z"
   },
   {
    "duration": 11,
    "start_time": "2023-02-18T15:19:37.364Z"
   },
   {
    "duration": 11,
    "start_time": "2023-02-18T15:19:37.378Z"
   },
   {
    "duration": 14,
    "start_time": "2023-02-18T15:19:37.391Z"
   },
   {
    "duration": 54,
    "start_time": "2023-02-18T15:19:37.407Z"
   },
   {
    "duration": 7,
    "start_time": "2023-02-18T15:19:37.462Z"
   },
   {
    "duration": 7,
    "start_time": "2023-02-18T15:19:37.470Z"
   },
   {
    "duration": 7,
    "start_time": "2023-02-18T15:19:37.478Z"
   },
   {
    "duration": 6,
    "start_time": "2023-02-18T15:19:37.487Z"
   },
   {
    "duration": 8,
    "start_time": "2023-02-18T15:19:37.494Z"
   },
   {
    "duration": 8,
    "start_time": "2023-02-18T15:19:37.504Z"
   },
   {
    "duration": 600,
    "start_time": "2023-02-18T15:19:37.513Z"
   },
   {
    "duration": 254,
    "start_time": "2023-02-18T15:19:38.115Z"
   },
   {
    "duration": 10,
    "start_time": "2023-02-18T15:19:38.371Z"
   },
   {
    "duration": 9,
    "start_time": "2023-02-18T15:19:38.382Z"
   },
   {
    "duration": 11,
    "start_time": "2023-02-18T15:19:38.393Z"
   },
   {
    "duration": 5,
    "start_time": "2023-02-18T15:19:38.406Z"
   },
   {
    "duration": 7,
    "start_time": "2023-02-18T15:19:38.413Z"
   },
   {
    "duration": 52,
    "start_time": "2023-02-18T15:19:38.421Z"
   },
   {
    "duration": 8,
    "start_time": "2023-02-18T15:19:38.474Z"
   },
   {
    "duration": 10,
    "start_time": "2023-02-18T15:19:38.486Z"
   },
   {
    "duration": 10,
    "start_time": "2023-02-18T15:19:38.497Z"
   },
   {
    "duration": 7,
    "start_time": "2023-02-18T15:19:38.508Z"
   },
   {
    "duration": 6,
    "start_time": "2023-02-18T15:19:38.517Z"
   },
   {
    "duration": 6,
    "start_time": "2023-02-18T15:19:38.524Z"
   },
   {
    "duration": 128,
    "start_time": "2023-02-18T15:19:38.532Z"
   },
   {
    "duration": 0,
    "start_time": "2023-02-18T15:19:38.663Z"
   },
   {
    "duration": 0,
    "start_time": "2023-02-18T15:19:38.666Z"
   },
   {
    "duration": 0,
    "start_time": "2023-02-18T15:19:38.668Z"
   },
   {
    "duration": 0,
    "start_time": "2023-02-18T15:19:38.670Z"
   },
   {
    "duration": 0,
    "start_time": "2023-02-18T15:19:38.671Z"
   },
   {
    "duration": 0,
    "start_time": "2023-02-18T15:19:38.673Z"
   },
   {
    "duration": 0,
    "start_time": "2023-02-18T15:19:38.674Z"
   },
   {
    "duration": 0,
    "start_time": "2023-02-18T15:19:38.676Z"
   },
   {
    "duration": 0,
    "start_time": "2023-02-18T15:19:38.678Z"
   },
   {
    "duration": 0,
    "start_time": "2023-02-18T15:19:38.679Z"
   },
   {
    "duration": 0,
    "start_time": "2023-02-18T15:19:38.680Z"
   },
   {
    "duration": 0,
    "start_time": "2023-02-18T15:19:38.682Z"
   },
   {
    "duration": 0,
    "start_time": "2023-02-18T15:19:38.683Z"
   },
   {
    "duration": 0,
    "start_time": "2023-02-18T15:19:38.685Z"
   },
   {
    "duration": 0,
    "start_time": "2023-02-18T15:19:38.686Z"
   },
   {
    "duration": 0,
    "start_time": "2023-02-18T15:19:38.687Z"
   },
   {
    "duration": 0,
    "start_time": "2023-02-18T15:19:38.688Z"
   },
   {
    "duration": 0,
    "start_time": "2023-02-18T15:19:38.690Z"
   },
   {
    "duration": 0,
    "start_time": "2023-02-18T15:19:38.691Z"
   },
   {
    "duration": 0,
    "start_time": "2023-02-18T15:19:38.692Z"
   },
   {
    "duration": 1217,
    "start_time": "2023-02-18T15:27:21.630Z"
   },
   {
    "duration": 4,
    "start_time": "2023-02-18T15:27:22.849Z"
   },
   {
    "duration": 1187,
    "start_time": "2023-02-18T15:27:22.855Z"
   },
   {
    "duration": 25,
    "start_time": "2023-02-18T15:27:24.044Z"
   },
   {
    "duration": 16,
    "start_time": "2023-02-18T15:27:24.072Z"
   },
   {
    "duration": 4,
    "start_time": "2023-02-18T15:27:24.090Z"
   },
   {
    "duration": 13,
    "start_time": "2023-02-18T15:27:24.095Z"
   },
   {
    "duration": 11,
    "start_time": "2023-02-18T15:27:24.110Z"
   },
   {
    "duration": 35,
    "start_time": "2023-02-18T15:27:24.123Z"
   },
   {
    "duration": 12,
    "start_time": "2023-02-18T15:27:24.160Z"
   },
   {
    "duration": 12,
    "start_time": "2023-02-18T15:27:24.173Z"
   },
   {
    "duration": 30,
    "start_time": "2023-02-18T15:27:24.186Z"
   },
   {
    "duration": 38,
    "start_time": "2023-02-18T15:27:24.217Z"
   },
   {
    "duration": 11,
    "start_time": "2023-02-18T15:27:24.260Z"
   },
   {
    "duration": 10,
    "start_time": "2023-02-18T15:27:24.273Z"
   },
   {
    "duration": 8,
    "start_time": "2023-02-18T15:27:24.285Z"
   },
   {
    "duration": 11,
    "start_time": "2023-02-18T15:27:24.295Z"
   },
   {
    "duration": 51,
    "start_time": "2023-02-18T15:27:24.308Z"
   },
   {
    "duration": 635,
    "start_time": "2023-02-18T15:27:24.361Z"
   },
   {
    "duration": 266,
    "start_time": "2023-02-18T15:27:24.999Z"
   },
   {
    "duration": 10,
    "start_time": "2023-02-18T15:27:25.267Z"
   },
   {
    "duration": 9,
    "start_time": "2023-02-18T15:27:25.279Z"
   },
   {
    "duration": 17,
    "start_time": "2023-02-18T15:27:25.290Z"
   },
   {
    "duration": 7,
    "start_time": "2023-02-18T15:27:25.309Z"
   },
   {
    "duration": 32,
    "start_time": "2023-02-18T15:27:25.318Z"
   },
   {
    "duration": 10,
    "start_time": "2023-02-18T15:27:25.352Z"
   },
   {
    "duration": 8,
    "start_time": "2023-02-18T15:27:25.363Z"
   },
   {
    "duration": 27,
    "start_time": "2023-02-18T15:27:25.373Z"
   },
   {
    "duration": 8,
    "start_time": "2023-02-18T15:27:25.401Z"
   },
   {
    "duration": 15,
    "start_time": "2023-02-18T15:27:25.410Z"
   },
   {
    "duration": 8,
    "start_time": "2023-02-18T15:27:25.449Z"
   },
   {
    "duration": 10,
    "start_time": "2023-02-18T15:27:25.458Z"
   },
   {
    "duration": 39,
    "start_time": "2023-02-18T15:27:25.470Z"
   },
   {
    "duration": 7,
    "start_time": "2023-02-18T15:27:25.510Z"
   },
   {
    "duration": 198,
    "start_time": "2023-02-18T15:27:25.518Z"
   },
   {
    "duration": 0,
    "start_time": "2023-02-18T15:27:25.718Z"
   },
   {
    "duration": 0,
    "start_time": "2023-02-18T15:27:25.719Z"
   },
   {
    "duration": 0,
    "start_time": "2023-02-18T15:27:25.720Z"
   },
   {
    "duration": 0,
    "start_time": "2023-02-18T15:27:25.721Z"
   },
   {
    "duration": 0,
    "start_time": "2023-02-18T15:27:25.722Z"
   },
   {
    "duration": 0,
    "start_time": "2023-02-18T15:27:25.723Z"
   },
   {
    "duration": 0,
    "start_time": "2023-02-18T15:27:25.724Z"
   },
   {
    "duration": 0,
    "start_time": "2023-02-18T15:27:25.725Z"
   },
   {
    "duration": 0,
    "start_time": "2023-02-18T15:27:25.726Z"
   },
   {
    "duration": 0,
    "start_time": "2023-02-18T15:27:25.748Z"
   },
   {
    "duration": 0,
    "start_time": "2023-02-18T15:27:25.750Z"
   },
   {
    "duration": 0,
    "start_time": "2023-02-18T15:27:25.751Z"
   },
   {
    "duration": 0,
    "start_time": "2023-02-18T15:27:25.753Z"
   },
   {
    "duration": 0,
    "start_time": "2023-02-18T15:27:25.754Z"
   },
   {
    "duration": 0,
    "start_time": "2023-02-18T15:27:25.756Z"
   },
   {
    "duration": 0,
    "start_time": "2023-02-18T15:27:25.757Z"
   },
   {
    "duration": 0,
    "start_time": "2023-02-18T15:27:25.759Z"
   },
   {
    "duration": 0,
    "start_time": "2023-02-18T15:27:25.761Z"
   },
   {
    "duration": 1134,
    "start_time": "2023-02-18T15:27:58.879Z"
   },
   {
    "duration": 4,
    "start_time": "2023-02-18T15:28:00.015Z"
   },
   {
    "duration": 1343,
    "start_time": "2023-02-18T15:28:00.021Z"
   },
   {
    "duration": 18,
    "start_time": "2023-02-18T15:28:01.367Z"
   },
   {
    "duration": 24,
    "start_time": "2023-02-18T15:28:01.388Z"
   },
   {
    "duration": 26,
    "start_time": "2023-02-18T15:28:01.414Z"
   },
   {
    "duration": 28,
    "start_time": "2023-02-18T15:28:01.442Z"
   },
   {
    "duration": 33,
    "start_time": "2023-02-18T15:28:01.472Z"
   },
   {
    "duration": 34,
    "start_time": "2023-02-18T15:28:01.507Z"
   },
   {
    "duration": 35,
    "start_time": "2023-02-18T15:28:01.544Z"
   },
   {
    "duration": 19,
    "start_time": "2023-02-18T15:28:01.580Z"
   },
   {
    "duration": 39,
    "start_time": "2023-02-18T15:28:01.601Z"
   },
   {
    "duration": 7,
    "start_time": "2023-02-18T15:28:01.642Z"
   },
   {
    "duration": 19,
    "start_time": "2023-02-18T15:28:01.651Z"
   },
   {
    "duration": 29,
    "start_time": "2023-02-18T15:28:01.672Z"
   },
   {
    "duration": 22,
    "start_time": "2023-02-18T15:28:01.703Z"
   },
   {
    "duration": 21,
    "start_time": "2023-02-18T15:28:01.727Z"
   },
   {
    "duration": 8,
    "start_time": "2023-02-18T15:28:01.750Z"
   },
   {
    "duration": 572,
    "start_time": "2023-02-18T15:28:01.760Z"
   },
   {
    "duration": 269,
    "start_time": "2023-02-18T15:28:02.335Z"
   },
   {
    "duration": 12,
    "start_time": "2023-02-18T15:28:02.605Z"
   },
   {
    "duration": 29,
    "start_time": "2023-02-18T15:28:02.619Z"
   },
   {
    "duration": 15,
    "start_time": "2023-02-18T15:28:02.650Z"
   },
   {
    "duration": 10,
    "start_time": "2023-02-18T15:28:02.667Z"
   },
   {
    "duration": 9,
    "start_time": "2023-02-18T15:28:02.678Z"
   },
   {
    "duration": 6,
    "start_time": "2023-02-18T15:28:02.689Z"
   },
   {
    "duration": 7,
    "start_time": "2023-02-18T15:28:02.697Z"
   },
   {
    "duration": 45,
    "start_time": "2023-02-18T15:28:02.708Z"
   },
   {
    "duration": 8,
    "start_time": "2023-02-18T15:28:02.755Z"
   },
   {
    "duration": 9,
    "start_time": "2023-02-18T15:28:02.764Z"
   },
   {
    "duration": 8,
    "start_time": "2023-02-18T15:28:02.774Z"
   },
   {
    "duration": 7,
    "start_time": "2023-02-18T15:28:02.784Z"
   },
   {
    "duration": 81,
    "start_time": "2023-02-18T15:28:02.793Z"
   },
   {
    "duration": 10,
    "start_time": "2023-02-18T15:28:02.876Z"
   },
   {
    "duration": 15,
    "start_time": "2023-02-18T15:28:02.887Z"
   },
   {
    "duration": 9,
    "start_time": "2023-02-18T15:28:02.904Z"
   },
   {
    "duration": 231,
    "start_time": "2023-02-18T15:28:02.915Z"
   },
   {
    "duration": 203,
    "start_time": "2023-02-18T15:28:03.149Z"
   },
   {
    "duration": 574,
    "start_time": "2023-02-18T15:28:03.354Z"
   },
   {
    "duration": 355,
    "start_time": "2023-02-18T15:28:03.930Z"
   },
   {
    "duration": 530,
    "start_time": "2023-02-18T15:28:04.287Z"
   },
   {
    "duration": 532,
    "start_time": "2023-02-18T15:28:04.818Z"
   },
   {
    "duration": 1149,
    "start_time": "2023-02-18T15:28:05.352Z"
   },
   {
    "duration": 379,
    "start_time": "2023-02-18T15:28:06.502Z"
   },
   {
    "duration": 21,
    "start_time": "2023-02-18T15:28:06.883Z"
   },
   {
    "duration": 18,
    "start_time": "2023-02-18T15:28:06.906Z"
   },
   {
    "duration": 5,
    "start_time": "2023-02-18T15:28:06.948Z"
   },
   {
    "duration": 9,
    "start_time": "2023-02-18T15:28:06.955Z"
   },
   {
    "duration": 7,
    "start_time": "2023-02-18T15:28:06.966Z"
   },
   {
    "duration": 13,
    "start_time": "2023-02-18T15:28:06.977Z"
   },
   {
    "duration": 12,
    "start_time": "2023-02-18T15:28:06.991Z"
   },
   {
    "duration": 45,
    "start_time": "2023-02-18T15:28:07.005Z"
   },
   {
    "duration": 9,
    "start_time": "2023-02-18T15:28:07.052Z"
   },
   {
    "duration": 9,
    "start_time": "2023-02-18T15:33:05.931Z"
   },
   {
    "duration": 10,
    "start_time": "2023-02-18T15:33:58.792Z"
   },
   {
    "duration": 12,
    "start_time": "2023-02-18T15:45:57.092Z"
   },
   {
    "duration": 194,
    "start_time": "2023-02-18T16:15:47.368Z"
   },
   {
    "duration": 20,
    "start_time": "2023-02-18T16:16:49.697Z"
   },
   {
    "duration": 15,
    "start_time": "2023-02-18T16:16:58.119Z"
   },
   {
    "duration": 389,
    "start_time": "2023-02-18T16:18:58.802Z"
   },
   {
    "duration": 14,
    "start_time": "2023-02-18T16:19:20.162Z"
   },
   {
    "duration": 5,
    "start_time": "2023-02-18T16:22:17.707Z"
   },
   {
    "duration": 6,
    "start_time": "2023-02-18T16:22:35.336Z"
   },
   {
    "duration": 5,
    "start_time": "2023-02-18T16:22:44.943Z"
   },
   {
    "duration": 9,
    "start_time": "2023-02-18T16:27:08.703Z"
   },
   {
    "duration": 14,
    "start_time": "2023-02-18T16:30:11.392Z"
   },
   {
    "duration": 3,
    "start_time": "2023-02-18T16:31:57.263Z"
   },
   {
    "duration": 15,
    "start_time": "2023-02-18T16:36:15.922Z"
   },
   {
    "duration": 9,
    "start_time": "2023-02-18T16:38:55.310Z"
   },
   {
    "duration": 6,
    "start_time": "2023-02-18T16:39:06.631Z"
   },
   {
    "duration": 12,
    "start_time": "2023-02-18T16:45:31.640Z"
   },
   {
    "duration": 14,
    "start_time": "2023-02-18T16:46:12.713Z"
   },
   {
    "duration": 11,
    "start_time": "2023-02-18T16:46:18.997Z"
   },
   {
    "duration": 1216,
    "start_time": "2023-02-18T16:55:09.011Z"
   },
   {
    "duration": 2,
    "start_time": "2023-02-18T16:55:10.229Z"
   },
   {
    "duration": 1038,
    "start_time": "2023-02-18T16:55:10.233Z"
   },
   {
    "duration": 16,
    "start_time": "2023-02-18T16:55:11.273Z"
   },
   {
    "duration": 13,
    "start_time": "2023-02-18T16:55:11.291Z"
   },
   {
    "duration": 4,
    "start_time": "2023-02-18T16:55:11.305Z"
   },
   {
    "duration": 7,
    "start_time": "2023-02-18T16:55:11.310Z"
   },
   {
    "duration": 9,
    "start_time": "2023-02-18T16:55:11.318Z"
   },
   {
    "duration": 31,
    "start_time": "2023-02-18T16:55:11.328Z"
   },
   {
    "duration": 7,
    "start_time": "2023-02-18T16:55:11.361Z"
   },
   {
    "duration": 11,
    "start_time": "2023-02-18T16:55:11.370Z"
   },
   {
    "duration": 31,
    "start_time": "2023-02-18T16:55:11.383Z"
   },
   {
    "duration": 41,
    "start_time": "2023-02-18T16:55:11.416Z"
   },
   {
    "duration": 8,
    "start_time": "2023-02-18T16:55:11.459Z"
   },
   {
    "duration": 6,
    "start_time": "2023-02-18T16:55:11.469Z"
   },
   {
    "duration": 8,
    "start_time": "2023-02-18T16:55:11.477Z"
   },
   {
    "duration": 9,
    "start_time": "2023-02-18T16:55:11.487Z"
   },
   {
    "duration": 599,
    "start_time": "2023-02-18T16:55:11.498Z"
   },
   {
    "duration": 241,
    "start_time": "2023-02-18T16:55:12.098Z"
   },
   {
    "duration": 17,
    "start_time": "2023-02-18T16:55:12.340Z"
   },
   {
    "duration": 10,
    "start_time": "2023-02-18T16:55:12.359Z"
   },
   {
    "duration": 11,
    "start_time": "2023-02-18T16:55:12.371Z"
   },
   {
    "duration": 28,
    "start_time": "2023-02-18T16:55:12.384Z"
   },
   {
    "duration": 8,
    "start_time": "2023-02-18T16:55:12.413Z"
   },
   {
    "duration": 100,
    "start_time": "2023-02-18T16:55:12.423Z"
   },
   {
    "duration": 6,
    "start_time": "2023-02-18T16:55:12.525Z"
   },
   {
    "duration": 15,
    "start_time": "2023-02-18T16:55:12.532Z"
   },
   {
    "duration": 12,
    "start_time": "2023-02-18T16:55:12.550Z"
   },
   {
    "duration": 15,
    "start_time": "2023-02-18T16:55:12.564Z"
   },
   {
    "duration": 21,
    "start_time": "2023-02-18T16:55:12.580Z"
   },
   {
    "duration": 8,
    "start_time": "2023-02-18T16:55:12.602Z"
   },
   {
    "duration": 44,
    "start_time": "2023-02-18T16:55:12.612Z"
   },
   {
    "duration": 6,
    "start_time": "2023-02-18T16:55:12.658Z"
   },
   {
    "duration": 18,
    "start_time": "2023-02-18T16:55:12.666Z"
   },
   {
    "duration": 10,
    "start_time": "2023-02-18T16:55:12.686Z"
   },
   {
    "duration": 216,
    "start_time": "2023-02-18T16:55:12.698Z"
   },
   {
    "duration": 209,
    "start_time": "2023-02-18T16:55:12.916Z"
   },
   {
    "duration": 594,
    "start_time": "2023-02-18T16:55:13.128Z"
   },
   {
    "duration": 348,
    "start_time": "2023-02-18T16:55:13.723Z"
   },
   {
    "duration": 504,
    "start_time": "2023-02-18T16:55:14.073Z"
   },
   {
    "duration": 544,
    "start_time": "2023-02-18T16:55:14.578Z"
   },
   {
    "duration": 1269,
    "start_time": "2023-02-18T16:55:15.124Z"
   },
   {
    "duration": 557,
    "start_time": "2023-02-18T16:55:16.394Z"
   },
   {
    "duration": 20,
    "start_time": "2023-02-18T16:55:16.953Z"
   },
   {
    "duration": 276,
    "start_time": "2023-02-18T16:55:16.975Z"
   },
   {
    "duration": 4,
    "start_time": "2023-02-18T16:55:17.253Z"
   },
   {
    "duration": 9,
    "start_time": "2023-02-18T16:55:17.258Z"
   },
   {
    "duration": 11,
    "start_time": "2023-02-18T16:55:17.268Z"
   },
   {
    "duration": 14,
    "start_time": "2023-02-18T16:55:17.280Z"
   },
   {
    "duration": 54,
    "start_time": "2023-02-18T16:55:17.295Z"
   },
   {
    "duration": 13,
    "start_time": "2023-02-18T16:55:17.351Z"
   },
   {
    "duration": 9,
    "start_time": "2023-02-18T16:55:17.365Z"
   },
   {
    "duration": 1286,
    "start_time": "2023-02-18T16:58:59.857Z"
   },
   {
    "duration": 3,
    "start_time": "2023-02-18T16:59:01.146Z"
   },
   {
    "duration": 1243,
    "start_time": "2023-02-18T16:59:01.151Z"
   },
   {
    "duration": 16,
    "start_time": "2023-02-18T16:59:02.397Z"
   },
   {
    "duration": 31,
    "start_time": "2023-02-18T16:59:02.415Z"
   },
   {
    "duration": 44,
    "start_time": "2023-02-18T16:59:02.448Z"
   },
   {
    "duration": 68,
    "start_time": "2023-02-18T16:59:02.494Z"
   },
   {
    "duration": 14,
    "start_time": "2023-02-18T16:59:02.564Z"
   },
   {
    "duration": 18,
    "start_time": "2023-02-18T16:59:02.580Z"
   },
   {
    "duration": 16,
    "start_time": "2023-02-18T16:59:02.602Z"
   },
   {
    "duration": 11,
    "start_time": "2023-02-18T16:59:02.620Z"
   },
   {
    "duration": 35,
    "start_time": "2023-02-18T16:59:02.633Z"
   },
   {
    "duration": 13,
    "start_time": "2023-02-18T16:59:02.670Z"
   },
   {
    "duration": 9,
    "start_time": "2023-02-18T16:59:02.685Z"
   },
   {
    "duration": 8,
    "start_time": "2023-02-18T16:59:02.696Z"
   },
   {
    "duration": 11,
    "start_time": "2023-02-18T16:59:02.706Z"
   },
   {
    "duration": 46,
    "start_time": "2023-02-18T16:59:02.719Z"
   },
   {
    "duration": 608,
    "start_time": "2023-02-18T16:59:02.767Z"
   },
   {
    "duration": 242,
    "start_time": "2023-02-18T16:59:03.377Z"
   },
   {
    "duration": 12,
    "start_time": "2023-02-18T16:59:03.622Z"
   },
   {
    "duration": 24,
    "start_time": "2023-02-18T16:59:03.636Z"
   },
   {
    "duration": 18,
    "start_time": "2023-02-18T16:59:03.661Z"
   },
   {
    "duration": 10,
    "start_time": "2023-02-18T16:59:03.681Z"
   },
   {
    "duration": 17,
    "start_time": "2023-02-18T16:59:03.692Z"
   },
   {
    "duration": 15,
    "start_time": "2023-02-18T16:59:03.710Z"
   },
   {
    "duration": 7,
    "start_time": "2023-02-18T16:59:03.727Z"
   },
   {
    "duration": 20,
    "start_time": "2023-02-18T16:59:03.736Z"
   },
   {
    "duration": 13,
    "start_time": "2023-02-18T16:59:03.761Z"
   },
   {
    "duration": 17,
    "start_time": "2023-02-18T16:59:03.776Z"
   },
   {
    "duration": 9,
    "start_time": "2023-02-18T16:59:03.798Z"
   },
   {
    "duration": 10,
    "start_time": "2023-02-18T16:59:03.809Z"
   },
   {
    "duration": 53,
    "start_time": "2023-02-18T16:59:03.820Z"
   },
   {
    "duration": 5,
    "start_time": "2023-02-18T16:59:03.875Z"
   },
   {
    "duration": 21,
    "start_time": "2023-02-18T16:59:03.882Z"
   },
   {
    "duration": 10,
    "start_time": "2023-02-18T16:59:03.904Z"
   },
   {
    "duration": 235,
    "start_time": "2023-02-18T16:59:03.915Z"
   },
   {
    "duration": 218,
    "start_time": "2023-02-18T16:59:04.152Z"
   },
   {
    "duration": 585,
    "start_time": "2023-02-18T16:59:04.372Z"
   },
   {
    "duration": 409,
    "start_time": "2023-02-18T16:59:04.959Z"
   },
   {
    "duration": 641,
    "start_time": "2023-02-18T16:59:05.370Z"
   },
   {
    "duration": 594,
    "start_time": "2023-02-18T16:59:06.013Z"
   },
   {
    "duration": 1272,
    "start_time": "2023-02-18T16:59:06.609Z"
   },
   {
    "duration": 319,
    "start_time": "2023-02-18T16:59:07.882Z"
   },
   {
    "duration": 22,
    "start_time": "2023-02-18T16:59:08.203Z"
   },
   {
    "duration": 131,
    "start_time": "2023-02-18T16:59:08.227Z"
   },
   {
    "duration": 4,
    "start_time": "2023-02-18T16:59:08.360Z"
   },
   {
    "duration": 7,
    "start_time": "2023-02-18T16:59:08.365Z"
   },
   {
    "duration": 5,
    "start_time": "2023-02-18T16:59:08.374Z"
   },
   {
    "duration": 12,
    "start_time": "2023-02-18T16:59:08.381Z"
   },
   {
    "duration": 8,
    "start_time": "2023-02-18T16:59:08.395Z"
   },
   {
    "duration": 13,
    "start_time": "2023-02-18T16:59:08.404Z"
   },
   {
    "duration": 38,
    "start_time": "2023-02-18T16:59:08.418Z"
   },
   {
    "duration": 291,
    "start_time": "2023-02-18T17:24:19.178Z"
   },
   {
    "duration": 271,
    "start_time": "2023-02-18T17:25:23.698Z"
   },
   {
    "duration": 294,
    "start_time": "2023-02-18T17:25:43.324Z"
   },
   {
    "duration": 295,
    "start_time": "2023-02-18T17:27:16.790Z"
   },
   {
    "duration": 1164,
    "start_time": "2023-02-18T17:31:44.630Z"
   },
   {
    "duration": 3,
    "start_time": "2023-02-18T17:31:45.796Z"
   },
   {
    "duration": 1596,
    "start_time": "2023-02-18T17:31:45.800Z"
   },
   {
    "duration": 16,
    "start_time": "2023-02-18T17:31:47.399Z"
   },
   {
    "duration": 15,
    "start_time": "2023-02-18T17:31:47.417Z"
   },
   {
    "duration": 3,
    "start_time": "2023-02-18T17:31:47.433Z"
   },
   {
    "duration": 21,
    "start_time": "2023-02-18T17:31:47.438Z"
   },
   {
    "duration": 14,
    "start_time": "2023-02-18T17:31:47.461Z"
   },
   {
    "duration": 36,
    "start_time": "2023-02-18T17:31:47.477Z"
   },
   {
    "duration": 29,
    "start_time": "2023-02-18T17:31:47.516Z"
   },
   {
    "duration": 14,
    "start_time": "2023-02-18T17:31:47.547Z"
   },
   {
    "duration": 38,
    "start_time": "2023-02-18T17:31:47.563Z"
   },
   {
    "duration": 14,
    "start_time": "2023-02-18T17:31:47.603Z"
   },
   {
    "duration": 11,
    "start_time": "2023-02-18T17:31:47.619Z"
   },
   {
    "duration": 8,
    "start_time": "2023-02-18T17:31:47.649Z"
   },
   {
    "duration": 18,
    "start_time": "2023-02-18T17:31:47.659Z"
   },
   {
    "duration": 11,
    "start_time": "2023-02-18T17:31:47.679Z"
   },
   {
    "duration": 603,
    "start_time": "2023-02-18T17:31:47.692Z"
   },
   {
    "duration": 244,
    "start_time": "2023-02-18T17:31:48.297Z"
   },
   {
    "duration": 14,
    "start_time": "2023-02-18T17:31:48.543Z"
   },
   {
    "duration": 10,
    "start_time": "2023-02-18T17:31:48.558Z"
   },
   {
    "duration": 11,
    "start_time": "2023-02-18T17:31:48.569Z"
   },
   {
    "duration": 6,
    "start_time": "2023-02-18T17:31:48.581Z"
   },
   {
    "duration": 8,
    "start_time": "2023-02-18T17:31:48.588Z"
   },
   {
    "duration": 7,
    "start_time": "2023-02-18T17:31:48.598Z"
   },
   {
    "duration": 5,
    "start_time": "2023-02-18T17:31:48.606Z"
   },
   {
    "duration": 44,
    "start_time": "2023-02-18T17:31:48.613Z"
   },
   {
    "duration": 4,
    "start_time": "2023-02-18T17:31:48.661Z"
   },
   {
    "duration": 9,
    "start_time": "2023-02-18T17:31:48.666Z"
   },
   {
    "duration": 9,
    "start_time": "2023-02-18T17:31:48.677Z"
   },
   {
    "duration": 6,
    "start_time": "2023-02-18T17:31:48.687Z"
   },
   {
    "duration": 55,
    "start_time": "2023-02-18T17:31:48.695Z"
   },
   {
    "duration": 6,
    "start_time": "2023-02-18T17:31:48.752Z"
   },
   {
    "duration": 13,
    "start_time": "2023-02-18T17:31:48.760Z"
   },
   {
    "duration": 9,
    "start_time": "2023-02-18T17:31:48.774Z"
   },
   {
    "duration": 225,
    "start_time": "2023-02-18T17:31:48.784Z"
   },
   {
    "duration": 210,
    "start_time": "2023-02-18T17:31:49.010Z"
   },
   {
    "duration": 529,
    "start_time": "2023-02-18T17:31:49.221Z"
   },
   {
    "duration": 348,
    "start_time": "2023-02-18T17:31:49.751Z"
   },
   {
    "duration": 251,
    "start_time": "2023-02-18T17:31:50.101Z"
   },
   {
    "duration": 275,
    "start_time": "2023-02-18T17:31:50.353Z"
   },
   {
    "duration": 471,
    "start_time": "2023-02-18T17:31:50.629Z"
   },
   {
    "duration": 525,
    "start_time": "2023-02-18T17:31:51.102Z"
   },
   {
    "duration": 1272,
    "start_time": "2023-02-18T17:31:51.628Z"
   },
   {
    "duration": 343,
    "start_time": "2023-02-18T17:31:52.902Z"
   },
   {
    "duration": 20,
    "start_time": "2023-02-18T17:31:53.249Z"
   },
   {
    "duration": 21,
    "start_time": "2023-02-18T17:31:53.270Z"
   },
   {
    "duration": 4,
    "start_time": "2023-02-18T17:31:53.293Z"
   },
   {
    "duration": 9,
    "start_time": "2023-02-18T17:31:53.298Z"
   },
   {
    "duration": 9,
    "start_time": "2023-02-18T17:31:53.309Z"
   },
   {
    "duration": 36,
    "start_time": "2023-02-18T17:31:53.320Z"
   },
   {
    "duration": 8,
    "start_time": "2023-02-18T17:31:53.357Z"
   },
   {
    "duration": 7,
    "start_time": "2023-02-18T17:31:53.366Z"
   },
   {
    "duration": 10,
    "start_time": "2023-02-18T17:31:53.374Z"
   },
   {
    "duration": 558,
    "start_time": "2023-02-18T17:41:52.981Z"
   },
   {
    "duration": 568,
    "start_time": "2023-02-18T17:42:57.100Z"
   },
   {
    "duration": 325,
    "start_time": "2023-02-18T17:43:39.393Z"
   },
   {
    "duration": 254,
    "start_time": "2023-02-18T17:44:30.607Z"
   },
   {
    "duration": 325,
    "start_time": "2023-02-18T17:44:37.118Z"
   },
   {
    "duration": 273,
    "start_time": "2023-02-18T17:44:43.662Z"
   },
   {
    "duration": 223,
    "start_time": "2023-02-18T17:44:55.728Z"
   },
   {
    "duration": 246,
    "start_time": "2023-02-18T17:45:01.895Z"
   },
   {
    "duration": 555,
    "start_time": "2023-02-18T17:45:20.211Z"
   },
   {
    "duration": 1147,
    "start_time": "2023-02-18T17:46:42.863Z"
   },
   {
    "duration": 3,
    "start_time": "2023-02-18T17:46:44.012Z"
   },
   {
    "duration": 1151,
    "start_time": "2023-02-18T17:46:44.016Z"
   },
   {
    "duration": 14,
    "start_time": "2023-02-18T17:46:45.170Z"
   },
   {
    "duration": 17,
    "start_time": "2023-02-18T17:46:45.185Z"
   },
   {
    "duration": 7,
    "start_time": "2023-02-18T17:46:45.203Z"
   },
   {
    "duration": 8,
    "start_time": "2023-02-18T17:46:45.211Z"
   },
   {
    "duration": 9,
    "start_time": "2023-02-18T17:46:45.221Z"
   },
   {
    "duration": 23,
    "start_time": "2023-02-18T17:46:45.232Z"
   },
   {
    "duration": 6,
    "start_time": "2023-02-18T17:46:45.258Z"
   },
   {
    "duration": 8,
    "start_time": "2023-02-18T17:46:45.266Z"
   },
   {
    "duration": 27,
    "start_time": "2023-02-18T17:46:45.276Z"
   },
   {
    "duration": 10,
    "start_time": "2023-02-18T17:46:45.305Z"
   },
   {
    "duration": 35,
    "start_time": "2023-02-18T17:46:45.317Z"
   },
   {
    "duration": 7,
    "start_time": "2023-02-18T17:46:45.353Z"
   },
   {
    "duration": 8,
    "start_time": "2023-02-18T17:46:45.362Z"
   },
   {
    "duration": 10,
    "start_time": "2023-02-18T17:46:45.372Z"
   },
   {
    "duration": 572,
    "start_time": "2023-02-18T17:46:45.384Z"
   },
   {
    "duration": 231,
    "start_time": "2023-02-18T17:46:45.957Z"
   },
   {
    "duration": 14,
    "start_time": "2023-02-18T17:46:46.189Z"
   },
   {
    "duration": 11,
    "start_time": "2023-02-18T17:46:46.204Z"
   },
   {
    "duration": 32,
    "start_time": "2023-02-18T17:46:46.217Z"
   },
   {
    "duration": 7,
    "start_time": "2023-02-18T17:46:46.251Z"
   },
   {
    "duration": 8,
    "start_time": "2023-02-18T17:46:46.260Z"
   },
   {
    "duration": 13,
    "start_time": "2023-02-18T17:46:46.269Z"
   },
   {
    "duration": 7,
    "start_time": "2023-02-18T17:46:46.283Z"
   },
   {
    "duration": 13,
    "start_time": "2023-02-18T17:46:46.292Z"
   },
   {
    "duration": 4,
    "start_time": "2023-02-18T17:46:46.309Z"
   },
   {
    "duration": 35,
    "start_time": "2023-02-18T17:46:46.315Z"
   },
   {
    "duration": 6,
    "start_time": "2023-02-18T17:46:46.351Z"
   },
   {
    "duration": 10,
    "start_time": "2023-02-18T17:46:46.359Z"
   },
   {
    "duration": 38,
    "start_time": "2023-02-18T17:46:46.370Z"
   },
   {
    "duration": 5,
    "start_time": "2023-02-18T17:46:46.410Z"
   },
   {
    "duration": 35,
    "start_time": "2023-02-18T17:46:46.417Z"
   },
   {
    "duration": 8,
    "start_time": "2023-02-18T17:46:46.453Z"
   },
   {
    "duration": 217,
    "start_time": "2023-02-18T17:46:46.464Z"
   },
   {
    "duration": 185,
    "start_time": "2023-02-18T17:46:46.683Z"
   },
   {
    "duration": 559,
    "start_time": "2023-02-18T17:46:46.870Z"
   },
   {
    "duration": 358,
    "start_time": "2023-02-18T17:46:47.431Z"
   },
   {
    "duration": 293,
    "start_time": "2023-02-18T17:46:47.790Z"
   },
   {
    "duration": 584,
    "start_time": "2023-02-18T17:46:48.084Z"
   },
   {
    "duration": 1017,
    "start_time": "2023-02-18T17:46:48.669Z"
   },
   {
    "duration": 607,
    "start_time": "2023-02-18T17:46:49.688Z"
   },
   {
    "duration": 1276,
    "start_time": "2023-02-18T17:46:50.297Z"
   },
   {
    "duration": 318,
    "start_time": "2023-02-18T17:46:51.574Z"
   },
   {
    "duration": 19,
    "start_time": "2023-02-18T17:46:51.894Z"
   },
   {
    "duration": 34,
    "start_time": "2023-02-18T17:46:51.915Z"
   },
   {
    "duration": 4,
    "start_time": "2023-02-18T17:46:51.951Z"
   },
   {
    "duration": 7,
    "start_time": "2023-02-18T17:46:51.957Z"
   },
   {
    "duration": 6,
    "start_time": "2023-02-18T17:46:51.965Z"
   },
   {
    "duration": 11,
    "start_time": "2023-02-18T17:46:51.973Z"
   },
   {
    "duration": 8,
    "start_time": "2023-02-18T17:46:51.986Z"
   },
   {
    "duration": 6,
    "start_time": "2023-02-18T17:46:51.996Z"
   },
   {
    "duration": 10,
    "start_time": "2023-02-18T17:46:52.004Z"
   },
   {
    "duration": 1111,
    "start_time": "2023-02-18T17:56:59.397Z"
   },
   {
    "duration": 5,
    "start_time": "2023-02-18T17:57:00.510Z"
   },
   {
    "duration": 934,
    "start_time": "2023-02-18T17:57:00.516Z"
   },
   {
    "duration": 15,
    "start_time": "2023-02-18T17:57:01.452Z"
   },
   {
    "duration": 44,
    "start_time": "2023-02-18T17:57:01.468Z"
   },
   {
    "duration": 21,
    "start_time": "2023-02-18T17:57:01.513Z"
   },
   {
    "duration": 45,
    "start_time": "2023-02-18T17:57:01.536Z"
   },
   {
    "duration": 18,
    "start_time": "2023-02-18T17:57:01.583Z"
   },
   {
    "duration": 125,
    "start_time": "2023-02-18T17:57:01.603Z"
   },
   {
    "duration": 20,
    "start_time": "2023-02-18T17:57:01.730Z"
   },
   {
    "duration": 14,
    "start_time": "2023-02-18T17:57:01.752Z"
   },
   {
    "duration": 46,
    "start_time": "2023-02-18T17:57:01.768Z"
   },
   {
    "duration": 12,
    "start_time": "2023-02-18T17:57:01.816Z"
   },
   {
    "duration": 25,
    "start_time": "2023-02-18T17:57:01.830Z"
   },
   {
    "duration": 22,
    "start_time": "2023-02-18T17:57:01.857Z"
   },
   {
    "duration": 12,
    "start_time": "2023-02-18T17:57:01.881Z"
   },
   {
    "duration": 19,
    "start_time": "2023-02-18T17:57:01.895Z"
   },
   {
    "duration": 535,
    "start_time": "2023-02-18T17:57:01.915Z"
   },
   {
    "duration": 230,
    "start_time": "2023-02-18T17:57:02.452Z"
   },
   {
    "duration": 11,
    "start_time": "2023-02-18T17:57:02.684Z"
   },
   {
    "duration": 11,
    "start_time": "2023-02-18T17:57:02.696Z"
   },
   {
    "duration": 10,
    "start_time": "2023-02-18T17:57:02.708Z"
   },
   {
    "duration": 30,
    "start_time": "2023-02-18T17:57:02.719Z"
   },
   {
    "duration": 9,
    "start_time": "2023-02-18T17:57:02.750Z"
   },
   {
    "duration": 7,
    "start_time": "2023-02-18T17:57:02.760Z"
   },
   {
    "duration": 15,
    "start_time": "2023-02-18T17:57:02.769Z"
   },
   {
    "duration": 15,
    "start_time": "2023-02-18T17:57:02.786Z"
   },
   {
    "duration": 4,
    "start_time": "2023-02-18T17:57:02.805Z"
   },
   {
    "duration": 5,
    "start_time": "2023-02-18T17:57:02.811Z"
   },
   {
    "duration": 8,
    "start_time": "2023-02-18T17:57:02.818Z"
   },
   {
    "duration": 5,
    "start_time": "2023-02-18T17:57:02.849Z"
   },
   {
    "duration": 42,
    "start_time": "2023-02-18T17:57:02.856Z"
   },
   {
    "duration": 6,
    "start_time": "2023-02-18T17:57:02.900Z"
   },
   {
    "duration": 15,
    "start_time": "2023-02-18T17:57:02.907Z"
   },
   {
    "duration": 30,
    "start_time": "2023-02-18T17:57:02.923Z"
   },
   {
    "duration": 209,
    "start_time": "2023-02-18T17:57:02.955Z"
   },
   {
    "duration": 189,
    "start_time": "2023-02-18T17:57:03.166Z"
   },
   {
    "duration": 819,
    "start_time": "2023-02-18T17:57:03.357Z"
   },
   {
    "duration": 701,
    "start_time": "2023-02-18T17:57:04.178Z"
   },
   {
    "duration": 503,
    "start_time": "2023-02-18T17:57:04.881Z"
   },
   {
    "duration": 340,
    "start_time": "2023-02-18T17:57:05.386Z"
   },
   {
    "duration": 612,
    "start_time": "2023-02-18T17:57:05.728Z"
   },
   {
    "duration": 573,
    "start_time": "2023-02-18T17:57:06.342Z"
   },
   {
    "duration": 1236,
    "start_time": "2023-02-18T17:57:06.917Z"
   },
   {
    "duration": 362,
    "start_time": "2023-02-18T17:57:08.154Z"
   },
   {
    "duration": 20,
    "start_time": "2023-02-18T17:57:08.518Z"
   },
   {
    "duration": 25,
    "start_time": "2023-02-18T17:57:08.539Z"
   },
   {
    "duration": 4,
    "start_time": "2023-02-18T17:57:08.566Z"
   },
   {
    "duration": 7,
    "start_time": "2023-02-18T17:57:08.571Z"
   },
   {
    "duration": 5,
    "start_time": "2023-02-18T17:57:08.580Z"
   },
   {
    "duration": 12,
    "start_time": "2023-02-18T17:57:08.587Z"
   },
   {
    "duration": 8,
    "start_time": "2023-02-18T17:57:08.601Z"
   },
   {
    "duration": 45,
    "start_time": "2023-02-18T17:57:08.610Z"
   },
   {
    "duration": 9,
    "start_time": "2023-02-18T17:57:08.656Z"
   },
   {
    "duration": 4,
    "start_time": "2023-02-18T18:19:27.037Z"
   },
   {
    "duration": 3,
    "start_time": "2023-02-18T18:28:08.563Z"
   },
   {
    "duration": 5,
    "start_time": "2023-02-18T18:28:54.913Z"
   },
   {
    "duration": 8,
    "start_time": "2023-02-18T18:28:57.198Z"
   },
   {
    "duration": 5,
    "start_time": "2023-02-18T18:32:52.941Z"
   },
   {
    "duration": 8,
    "start_time": "2023-02-18T18:32:54.893Z"
   },
   {
    "duration": 22,
    "start_time": "2023-02-18T18:34:44.630Z"
   },
   {
    "duration": 5,
    "start_time": "2023-02-18T18:35:27.752Z"
   },
   {
    "duration": 8,
    "start_time": "2023-02-18T18:35:29.448Z"
   },
   {
    "duration": 33,
    "start_time": "2023-02-18T18:35:32.699Z"
   },
   {
    "duration": 4,
    "start_time": "2023-02-18T18:35:47.216Z"
   },
   {
    "duration": 8,
    "start_time": "2023-02-18T18:35:48.775Z"
   },
   {
    "duration": 20,
    "start_time": "2023-02-18T18:35:52.699Z"
   },
   {
    "duration": 4,
    "start_time": "2023-02-18T18:51:14.753Z"
   },
   {
    "duration": 321,
    "start_time": "2023-02-18T18:51:44.908Z"
   },
   {
    "duration": 4,
    "start_time": "2023-02-18T18:52:15.620Z"
   },
   {
    "duration": 9,
    "start_time": "2023-02-18T18:52:16.995Z"
   },
   {
    "duration": 26,
    "start_time": "2023-02-18T18:54:03.975Z"
   },
   {
    "duration": 20,
    "start_time": "2023-02-18T18:54:18.408Z"
   },
   {
    "duration": 1161,
    "start_time": "2023-02-18T19:04:56.295Z"
   },
   {
    "duration": 3,
    "start_time": "2023-02-18T19:04:57.458Z"
   },
   {
    "duration": 1205,
    "start_time": "2023-02-18T19:04:57.463Z"
   },
   {
    "duration": 17,
    "start_time": "2023-02-18T19:04:58.670Z"
   },
   {
    "duration": 12,
    "start_time": "2023-02-18T19:04:58.688Z"
   },
   {
    "duration": 3,
    "start_time": "2023-02-18T19:04:58.702Z"
   },
   {
    "duration": 11,
    "start_time": "2023-02-18T19:04:58.706Z"
   },
   {
    "duration": 12,
    "start_time": "2023-02-18T19:04:58.719Z"
   },
   {
    "duration": 32,
    "start_time": "2023-02-18T19:04:58.733Z"
   },
   {
    "duration": 7,
    "start_time": "2023-02-18T19:04:58.768Z"
   },
   {
    "duration": 10,
    "start_time": "2023-02-18T19:04:58.776Z"
   },
   {
    "duration": 29,
    "start_time": "2023-02-18T19:04:58.788Z"
   },
   {
    "duration": 44,
    "start_time": "2023-02-18T19:04:58.819Z"
   },
   {
    "duration": 12,
    "start_time": "2023-02-18T19:04:58.865Z"
   },
   {
    "duration": 9,
    "start_time": "2023-02-18T19:04:58.879Z"
   },
   {
    "duration": 11,
    "start_time": "2023-02-18T19:04:58.889Z"
   },
   {
    "duration": 11,
    "start_time": "2023-02-18T19:04:58.901Z"
   },
   {
    "duration": 598,
    "start_time": "2023-02-18T19:04:58.913Z"
   },
   {
    "duration": 231,
    "start_time": "2023-02-18T19:04:59.513Z"
   },
   {
    "duration": 10,
    "start_time": "2023-02-18T19:04:59.746Z"
   },
   {
    "duration": 10,
    "start_time": "2023-02-18T19:04:59.758Z"
   },
   {
    "duration": 23,
    "start_time": "2023-02-18T19:04:59.770Z"
   },
   {
    "duration": 16,
    "start_time": "2023-02-18T19:04:59.795Z"
   },
   {
    "duration": 8,
    "start_time": "2023-02-18T19:04:59.813Z"
   },
   {
    "duration": 13,
    "start_time": "2023-02-18T19:04:59.823Z"
   },
   {
    "duration": 5,
    "start_time": "2023-02-18T19:04:59.849Z"
   },
   {
    "duration": 16,
    "start_time": "2023-02-18T19:04:59.855Z"
   },
   {
    "duration": 6,
    "start_time": "2023-02-18T19:04:59.876Z"
   },
   {
    "duration": 40,
    "start_time": "2023-02-18T19:04:59.884Z"
   },
   {
    "duration": 10,
    "start_time": "2023-02-18T19:04:59.926Z"
   },
   {
    "duration": 34,
    "start_time": "2023-02-18T19:04:59.937Z"
   },
   {
    "duration": 61,
    "start_time": "2023-02-18T19:04:59.973Z"
   },
   {
    "duration": 8,
    "start_time": "2023-02-18T19:05:00.036Z"
   },
   {
    "duration": 25,
    "start_time": "2023-02-18T19:05:00.045Z"
   },
   {
    "duration": 14,
    "start_time": "2023-02-18T19:05:00.072Z"
   },
   {
    "duration": 234,
    "start_time": "2023-02-18T19:05:00.088Z"
   },
   {
    "duration": 203,
    "start_time": "2023-02-18T19:05:00.324Z"
   },
   {
    "duration": 547,
    "start_time": "2023-02-18T19:05:00.529Z"
   },
   {
    "duration": 342,
    "start_time": "2023-02-18T19:05:01.078Z"
   },
   {
    "duration": 251,
    "start_time": "2023-02-18T19:05:01.422Z"
   },
   {
    "duration": 275,
    "start_time": "2023-02-18T19:05:01.674Z"
   },
   {
    "duration": 492,
    "start_time": "2023-02-18T19:05:01.950Z"
   },
   {
    "duration": 556,
    "start_time": "2023-02-18T19:05:02.444Z"
   },
   {
    "duration": 1247,
    "start_time": "2023-02-18T19:05:03.002Z"
   },
   {
    "duration": 385,
    "start_time": "2023-02-18T19:05:04.250Z"
   },
   {
    "duration": 25,
    "start_time": "2023-02-18T19:05:04.637Z"
   },
   {
    "duration": 21,
    "start_time": "2023-02-18T19:05:04.664Z"
   },
   {
    "duration": 5,
    "start_time": "2023-02-18T19:05:04.687Z"
   },
   {
    "duration": 17,
    "start_time": "2023-02-18T19:05:04.694Z"
   },
   {
    "duration": 44,
    "start_time": "2023-02-18T19:05:04.713Z"
   },
   {
    "duration": 4,
    "start_time": "2023-02-18T19:05:04.759Z"
   },
   {
    "duration": 13,
    "start_time": "2023-02-18T19:05:04.764Z"
   },
   {
    "duration": 20,
    "start_time": "2023-02-18T19:05:04.779Z"
   },
   {
    "duration": 4,
    "start_time": "2023-02-18T19:05:04.801Z"
   },
   {
    "duration": 17,
    "start_time": "2023-02-18T19:05:04.807Z"
   },
   {
    "duration": 7,
    "start_time": "2023-02-18T19:05:04.848Z"
   },
   {
    "duration": 15,
    "start_time": "2023-02-18T19:05:04.856Z"
   },
   {
    "duration": 8,
    "start_time": "2023-02-18T19:05:04.872Z"
   },
   {
    "duration": 10,
    "start_time": "2023-02-18T19:05:04.882Z"
   },
   {
    "duration": 8,
    "start_time": "2023-02-18T19:05:04.893Z"
   },
   {
    "duration": 7,
    "start_time": "2023-02-18T19:17:57.354Z"
   },
   {
    "duration": 7,
    "start_time": "2023-02-18T19:24:48.065Z"
   },
   {
    "duration": 5,
    "start_time": "2023-02-18T19:25:11.190Z"
   },
   {
    "duration": 5,
    "start_time": "2023-02-18T19:25:23.976Z"
   },
   {
    "duration": 9,
    "start_time": "2023-02-18T19:25:29.663Z"
   },
   {
    "duration": 12,
    "start_time": "2023-02-18T19:27:04.912Z"
   },
   {
    "duration": 1178,
    "start_time": "2023-02-18T19:55:24.347Z"
   },
   {
    "duration": 3,
    "start_time": "2023-02-18T19:55:25.528Z"
   },
   {
    "duration": 1099,
    "start_time": "2023-02-18T19:55:25.549Z"
   },
   {
    "duration": 17,
    "start_time": "2023-02-18T19:55:26.649Z"
   },
   {
    "duration": 15,
    "start_time": "2023-02-18T19:55:26.668Z"
   },
   {
    "duration": 3,
    "start_time": "2023-02-18T19:55:26.684Z"
   },
   {
    "duration": 6,
    "start_time": "2023-02-18T19:55:26.689Z"
   },
   {
    "duration": 10,
    "start_time": "2023-02-18T19:55:26.697Z"
   },
   {
    "duration": 40,
    "start_time": "2023-02-18T19:55:26.710Z"
   },
   {
    "duration": 13,
    "start_time": "2023-02-18T19:55:26.752Z"
   },
   {
    "duration": 11,
    "start_time": "2023-02-18T19:55:26.767Z"
   },
   {
    "duration": 30,
    "start_time": "2023-02-18T19:55:26.780Z"
   },
   {
    "duration": 51,
    "start_time": "2023-02-18T19:55:26.813Z"
   },
   {
    "duration": 15,
    "start_time": "2023-02-18T19:55:26.867Z"
   },
   {
    "duration": 11,
    "start_time": "2023-02-18T19:55:26.884Z"
   },
   {
    "duration": 15,
    "start_time": "2023-02-18T19:55:26.897Z"
   },
   {
    "duration": 42,
    "start_time": "2023-02-18T19:55:26.915Z"
   },
   {
    "duration": 591,
    "start_time": "2023-02-18T19:55:26.959Z"
   },
   {
    "duration": 253,
    "start_time": "2023-02-18T19:55:27.552Z"
   },
   {
    "duration": 11,
    "start_time": "2023-02-18T19:55:27.807Z"
   },
   {
    "duration": 10,
    "start_time": "2023-02-18T19:55:27.820Z"
   },
   {
    "duration": 25,
    "start_time": "2023-02-18T19:55:27.832Z"
   },
   {
    "duration": 6,
    "start_time": "2023-02-18T19:55:27.859Z"
   },
   {
    "duration": 13,
    "start_time": "2023-02-18T19:55:27.867Z"
   },
   {
    "duration": 8,
    "start_time": "2023-02-18T19:55:27.882Z"
   },
   {
    "duration": 6,
    "start_time": "2023-02-18T19:55:27.892Z"
   },
   {
    "duration": 11,
    "start_time": "2023-02-18T19:55:27.902Z"
   },
   {
    "duration": 39,
    "start_time": "2023-02-18T19:55:27.914Z"
   },
   {
    "duration": 7,
    "start_time": "2023-02-18T19:55:27.956Z"
   },
   {
    "duration": 7,
    "start_time": "2023-02-18T19:55:27.965Z"
   },
   {
    "duration": 7,
    "start_time": "2023-02-18T19:55:27.974Z"
   },
   {
    "duration": 70,
    "start_time": "2023-02-18T19:55:27.983Z"
   },
   {
    "duration": 6,
    "start_time": "2023-02-18T19:55:28.055Z"
   },
   {
    "duration": 15,
    "start_time": "2023-02-18T19:55:28.063Z"
   },
   {
    "duration": 11,
    "start_time": "2023-02-18T19:55:28.080Z"
   },
   {
    "duration": 238,
    "start_time": "2023-02-18T19:55:28.093Z"
   },
   {
    "duration": 216,
    "start_time": "2023-02-18T19:55:28.332Z"
   },
   {
    "duration": 538,
    "start_time": "2023-02-18T19:55:28.550Z"
   },
   {
    "duration": 358,
    "start_time": "2023-02-18T19:55:29.090Z"
   },
   {
    "duration": 250,
    "start_time": "2023-02-18T19:55:29.451Z"
   },
   {
    "duration": 278,
    "start_time": "2023-02-18T19:55:29.703Z"
   },
   {
    "duration": 498,
    "start_time": "2023-02-18T19:55:29.983Z"
   },
   {
    "duration": 560,
    "start_time": "2023-02-18T19:55:30.483Z"
   },
   {
    "duration": 1232,
    "start_time": "2023-02-18T19:55:31.045Z"
   },
   {
    "duration": 348,
    "start_time": "2023-02-18T19:55:32.279Z"
   },
   {
    "duration": 31,
    "start_time": "2023-02-18T19:55:32.629Z"
   },
   {
    "duration": 25,
    "start_time": "2023-02-18T19:55:32.662Z"
   },
   {
    "duration": 5,
    "start_time": "2023-02-18T19:55:32.688Z"
   },
   {
    "duration": 12,
    "start_time": "2023-02-18T19:55:32.695Z"
   },
   {
    "duration": 54,
    "start_time": "2023-02-18T19:55:32.708Z"
   },
   {
    "duration": 5,
    "start_time": "2023-02-18T19:55:32.765Z"
   },
   {
    "duration": 14,
    "start_time": "2023-02-18T19:55:32.772Z"
   },
   {
    "duration": 29,
    "start_time": "2023-02-18T19:55:32.789Z"
   },
   {
    "duration": 29,
    "start_time": "2023-02-18T19:55:32.820Z"
   },
   {
    "duration": 11,
    "start_time": "2023-02-18T19:55:32.851Z"
   },
   {
    "duration": 20,
    "start_time": "2023-02-18T19:55:32.864Z"
   },
   {
    "duration": 11,
    "start_time": "2023-02-18T19:55:32.886Z"
   },
   {
    "duration": 5,
    "start_time": "2023-02-18T19:55:32.899Z"
   },
   {
    "duration": 84,
    "start_time": "2023-02-18T19:55:32.906Z"
   },
   {
    "duration": 18,
    "start_time": "2023-02-18T19:55:32.991Z"
   },
   {
    "duration": 10,
    "start_time": "2023-02-18T19:55:33.011Z"
   },
   {
    "duration": 10,
    "start_time": "2023-02-18T19:55:33.022Z"
   },
   {
    "duration": 10,
    "start_time": "2023-02-18T19:55:33.034Z"
   },
   {
    "duration": 1416,
    "start_time": "2023-02-20T12:04:46.402Z"
   },
   {
    "duration": 3,
    "start_time": "2023-02-20T12:04:47.821Z"
   },
   {
    "duration": 1026,
    "start_time": "2023-02-20T12:04:47.826Z"
   },
   {
    "duration": 24,
    "start_time": "2023-02-20T12:04:48.854Z"
   },
   {
    "duration": 17,
    "start_time": "2023-02-20T12:04:48.879Z"
   },
   {
    "duration": 8,
    "start_time": "2023-02-20T12:04:48.898Z"
   },
   {
    "duration": 7,
    "start_time": "2023-02-20T12:04:48.908Z"
   },
   {
    "duration": 23,
    "start_time": "2023-02-20T12:04:48.917Z"
   },
   {
    "duration": 22,
    "start_time": "2023-02-20T12:04:48.942Z"
   },
   {
    "duration": 20,
    "start_time": "2023-02-20T12:04:48.966Z"
   },
   {
    "duration": 12,
    "start_time": "2023-02-20T12:04:48.987Z"
   },
   {
    "duration": 30,
    "start_time": "2023-02-20T12:04:49.001Z"
   },
   {
    "duration": 21,
    "start_time": "2023-02-20T12:04:49.033Z"
   },
   {
    "duration": 10,
    "start_time": "2023-02-20T12:05:38.745Z"
   },
   {
    "duration": 124,
    "start_time": "2023-02-20T12:06:00.917Z"
   },
   {
    "duration": 10,
    "start_time": "2023-02-20T12:06:18.294Z"
   },
   {
    "duration": 13,
    "start_time": "2023-02-20T12:07:00.479Z"
   },
   {
    "duration": 1307,
    "start_time": "2023-02-20T12:08:26.941Z"
   },
   {
    "duration": 12,
    "start_time": "2023-02-20T12:08:28.250Z"
   },
   {
    "duration": 1451,
    "start_time": "2023-02-20T12:08:28.263Z"
   },
   {
    "duration": 19,
    "start_time": "2023-02-20T12:08:29.716Z"
   },
   {
    "duration": 14,
    "start_time": "2023-02-20T12:08:29.736Z"
   },
   {
    "duration": 7,
    "start_time": "2023-02-20T12:08:29.752Z"
   },
   {
    "duration": 29,
    "start_time": "2023-02-20T12:08:29.762Z"
   },
   {
    "duration": 12,
    "start_time": "2023-02-20T12:08:29.793Z"
   },
   {
    "duration": 18,
    "start_time": "2023-02-20T12:08:29.807Z"
   },
   {
    "duration": 19,
    "start_time": "2023-02-20T12:08:29.828Z"
   },
   {
    "duration": 42,
    "start_time": "2023-02-20T12:08:29.848Z"
   },
   {
    "duration": 28,
    "start_time": "2023-02-20T12:08:29.892Z"
   },
   {
    "duration": 10,
    "start_time": "2023-02-20T12:08:29.921Z"
   },
   {
    "duration": 19,
    "start_time": "2023-02-20T12:08:29.933Z"
   },
   {
    "duration": 23,
    "start_time": "2023-02-20T12:08:29.953Z"
   },
   {
    "duration": 15,
    "start_time": "2023-02-20T12:08:29.978Z"
   },
   {
    "duration": 35,
    "start_time": "2023-02-20T12:08:29.994Z"
   },
   {
    "duration": 76,
    "start_time": "2023-02-20T12:08:30.031Z"
   },
   {
    "duration": 596,
    "start_time": "2023-02-20T12:08:30.108Z"
   },
   {
    "duration": 278,
    "start_time": "2023-02-20T12:08:30.706Z"
   },
   {
    "duration": 10,
    "start_time": "2023-02-20T12:08:30.986Z"
   },
   {
    "duration": 13,
    "start_time": "2023-02-20T12:08:30.998Z"
   },
   {
    "duration": 28,
    "start_time": "2023-02-20T12:08:31.013Z"
   },
   {
    "duration": 26,
    "start_time": "2023-02-20T12:08:31.043Z"
   },
   {
    "duration": 13,
    "start_time": "2023-02-20T12:08:31.070Z"
   },
   {
    "duration": 25,
    "start_time": "2023-02-20T12:08:31.085Z"
   },
   {
    "duration": 27,
    "start_time": "2023-02-20T12:08:31.112Z"
   },
   {
    "duration": 39,
    "start_time": "2023-02-20T12:08:31.143Z"
   },
   {
    "duration": 34,
    "start_time": "2023-02-20T12:08:31.183Z"
   },
   {
    "duration": 18,
    "start_time": "2023-02-20T12:08:31.219Z"
   },
   {
    "duration": 20,
    "start_time": "2023-02-20T12:08:31.239Z"
   },
   {
    "duration": 35,
    "start_time": "2023-02-20T12:08:31.263Z"
   },
   {
    "duration": 65,
    "start_time": "2023-02-20T12:08:31.299Z"
   },
   {
    "duration": 7,
    "start_time": "2023-02-20T12:08:31.366Z"
   },
   {
    "duration": 18,
    "start_time": "2023-02-20T12:08:31.374Z"
   },
   {
    "duration": 32,
    "start_time": "2023-02-20T12:08:31.394Z"
   },
   {
    "duration": 258,
    "start_time": "2023-02-20T12:08:31.428Z"
   },
   {
    "duration": 218,
    "start_time": "2023-02-20T12:08:31.688Z"
   },
   {
    "duration": 575,
    "start_time": "2023-02-20T12:08:31.908Z"
   },
   {
    "duration": 358,
    "start_time": "2023-02-20T12:08:32.485Z"
   },
   {
    "duration": 275,
    "start_time": "2023-02-20T12:08:32.844Z"
   },
   {
    "duration": 282,
    "start_time": "2023-02-20T12:08:33.121Z"
   },
   {
    "duration": 541,
    "start_time": "2023-02-20T12:08:33.404Z"
   },
   {
    "duration": 567,
    "start_time": "2023-02-20T12:08:33.947Z"
   },
   {
    "duration": 1245,
    "start_time": "2023-02-20T12:08:34.515Z"
   },
   {
    "duration": 357,
    "start_time": "2023-02-20T12:08:35.762Z"
   },
   {
    "duration": 32,
    "start_time": "2023-02-20T12:08:36.122Z"
   },
   {
    "duration": 22,
    "start_time": "2023-02-20T12:08:36.162Z"
   },
   {
    "duration": 9,
    "start_time": "2023-02-20T12:08:36.186Z"
   },
   {
    "duration": 16,
    "start_time": "2023-02-20T12:08:36.196Z"
   },
   {
    "duration": 33,
    "start_time": "2023-02-20T12:08:36.214Z"
   },
   {
    "duration": 12,
    "start_time": "2023-02-20T12:08:36.256Z"
   },
   {
    "duration": 13,
    "start_time": "2023-02-20T12:08:36.271Z"
   },
   {
    "duration": 41,
    "start_time": "2023-02-20T12:08:36.286Z"
   },
   {
    "duration": 18,
    "start_time": "2023-02-20T12:08:36.328Z"
   },
   {
    "duration": 4,
    "start_time": "2023-02-20T12:08:36.348Z"
   },
   {
    "duration": 16,
    "start_time": "2023-02-20T12:08:36.356Z"
   },
   {
    "duration": 11,
    "start_time": "2023-02-20T12:08:36.373Z"
   },
   {
    "duration": 19,
    "start_time": "2023-02-20T12:08:36.386Z"
   },
   {
    "duration": 6,
    "start_time": "2023-02-20T12:08:36.407Z"
   },
   {
    "duration": 18,
    "start_time": "2023-02-20T12:08:36.415Z"
   },
   {
    "duration": 15,
    "start_time": "2023-02-20T12:08:36.435Z"
   },
   {
    "duration": 18,
    "start_time": "2023-02-20T12:08:36.452Z"
   },
   {
    "duration": 17,
    "start_time": "2023-02-20T12:08:36.471Z"
   },
   {
    "duration": 18,
    "start_time": "2023-02-20T12:08:36.490Z"
   },
   {
    "duration": 21,
    "start_time": "2023-02-20T12:18:01.125Z"
   },
   {
    "duration": 19,
    "start_time": "2023-02-20T12:18:22.893Z"
   },
   {
    "duration": 89,
    "start_time": "2023-02-20T12:19:01.721Z"
   },
   {
    "duration": 52,
    "start_time": "2023-02-20T17:41:29.464Z"
   },
   {
    "duration": 1327,
    "start_time": "2023-02-20T17:41:35.161Z"
   },
   {
    "duration": 4,
    "start_time": "2023-02-20T17:41:36.491Z"
   },
   {
    "duration": 1017,
    "start_time": "2023-02-20T17:41:36.496Z"
   },
   {
    "duration": 57,
    "start_time": "2023-02-20T17:41:37.516Z"
   },
   {
    "duration": 16,
    "start_time": "2023-02-20T17:41:37.575Z"
   },
   {
    "duration": 4,
    "start_time": "2023-02-20T17:41:37.592Z"
   },
   {
    "duration": 6,
    "start_time": "2023-02-20T17:41:37.597Z"
   },
   {
    "duration": 60,
    "start_time": "2023-02-20T17:41:37.605Z"
   },
   {
    "duration": 33,
    "start_time": "2023-02-20T17:41:37.666Z"
   },
   {
    "duration": 60,
    "start_time": "2023-02-20T17:41:37.702Z"
   },
   {
    "duration": 13,
    "start_time": "2023-02-20T17:41:37.764Z"
   },
   {
    "duration": 95,
    "start_time": "2023-02-20T17:41:37.779Z"
   },
   {
    "duration": 11,
    "start_time": "2023-02-20T17:41:37.876Z"
   },
   {
    "duration": 10,
    "start_time": "2023-02-20T17:41:37.889Z"
   },
   {
    "duration": 64,
    "start_time": "2023-02-20T17:41:37.901Z"
   },
   {
    "duration": 9,
    "start_time": "2023-02-20T17:41:37.967Z"
   },
   {
    "duration": 12,
    "start_time": "2023-02-20T17:41:37.978Z"
   },
   {
    "duration": 10,
    "start_time": "2023-02-20T17:41:37.992Z"
   },
   {
    "duration": 1097,
    "start_time": "2023-02-20T17:41:38.003Z"
   },
   {
    "duration": 239,
    "start_time": "2023-02-20T17:41:39.102Z"
   },
   {
    "duration": 24,
    "start_time": "2023-02-20T17:41:39.343Z"
   },
   {
    "duration": 11,
    "start_time": "2023-02-20T17:41:39.368Z"
   },
   {
    "duration": 12,
    "start_time": "2023-02-20T17:41:39.381Z"
   },
   {
    "duration": 7,
    "start_time": "2023-02-20T17:41:39.395Z"
   },
   {
    "duration": 11,
    "start_time": "2023-02-20T17:41:39.404Z"
   },
   {
    "duration": 16,
    "start_time": "2023-02-20T17:41:39.416Z"
   },
   {
    "duration": 28,
    "start_time": "2023-02-20T17:41:39.434Z"
   },
   {
    "duration": 11,
    "start_time": "2023-02-20T17:41:39.467Z"
   },
   {
    "duration": 11,
    "start_time": "2023-02-20T17:41:39.480Z"
   },
   {
    "duration": 9,
    "start_time": "2023-02-20T17:41:39.493Z"
   },
   {
    "duration": 8,
    "start_time": "2023-02-20T17:41:39.504Z"
   },
   {
    "duration": 8,
    "start_time": "2023-02-20T17:41:39.513Z"
   },
   {
    "duration": 48,
    "start_time": "2023-02-20T17:41:39.523Z"
   },
   {
    "duration": 6,
    "start_time": "2023-02-20T17:41:39.573Z"
   },
   {
    "duration": 17,
    "start_time": "2023-02-20T17:41:39.580Z"
   },
   {
    "duration": 8,
    "start_time": "2023-02-20T17:41:39.599Z"
   },
   {
    "duration": 253,
    "start_time": "2023-02-20T17:41:39.608Z"
   },
   {
    "duration": 178,
    "start_time": "2023-02-20T17:41:39.863Z"
   },
   {
    "duration": 482,
    "start_time": "2023-02-20T17:41:40.043Z"
   },
   {
    "duration": 324,
    "start_time": "2023-02-20T17:41:40.526Z"
   },
   {
    "duration": 231,
    "start_time": "2023-02-20T17:41:40.852Z"
   },
   {
    "duration": 252,
    "start_time": "2023-02-20T17:41:41.084Z"
   },
   {
    "duration": 461,
    "start_time": "2023-02-20T17:41:41.337Z"
   },
   {
    "duration": 493,
    "start_time": "2023-02-20T17:41:41.799Z"
   },
   {
    "duration": 1136,
    "start_time": "2023-02-20T17:41:42.294Z"
   },
   {
    "duration": 348,
    "start_time": "2023-02-20T17:41:43.432Z"
   },
   {
    "duration": 18,
    "start_time": "2023-02-20T17:41:43.782Z"
   },
   {
    "duration": 18,
    "start_time": "2023-02-20T17:41:43.801Z"
   },
   {
    "duration": 5,
    "start_time": "2023-02-20T17:41:43.820Z"
   },
   {
    "duration": 10,
    "start_time": "2023-02-20T17:41:43.826Z"
   },
   {
    "duration": 21,
    "start_time": "2023-02-20T17:41:43.861Z"
   },
   {
    "duration": 4,
    "start_time": "2023-02-20T17:41:43.884Z"
   },
   {
    "duration": 20,
    "start_time": "2023-02-20T17:41:43.890Z"
   },
   {
    "duration": 25,
    "start_time": "2023-02-20T17:41:43.911Z"
   },
   {
    "duration": 65,
    "start_time": "2023-02-20T17:41:43.938Z"
   },
   {
    "duration": 4,
    "start_time": "2023-02-20T17:41:44.005Z"
   },
   {
    "duration": 7,
    "start_time": "2023-02-20T17:41:44.011Z"
   },
   {
    "duration": 6,
    "start_time": "2023-02-20T17:41:44.019Z"
   },
   {
    "duration": 13,
    "start_time": "2023-02-20T17:41:44.027Z"
   },
   {
    "duration": 24,
    "start_time": "2023-02-20T17:41:44.041Z"
   },
   {
    "duration": 8,
    "start_time": "2023-02-20T17:41:44.066Z"
   },
   {
    "duration": 13,
    "start_time": "2023-02-20T17:41:44.075Z"
   },
   {
    "duration": 17,
    "start_time": "2023-02-20T17:41:44.089Z"
   },
   {
    "duration": 13,
    "start_time": "2023-02-20T17:41:44.108Z"
   },
   {
    "duration": 13,
    "start_time": "2023-02-20T17:41:44.123Z"
   },
   {
    "duration": 255,
    "start_time": "2023-02-20T17:42:58.959Z"
   },
   {
    "duration": 1144,
    "start_time": "2023-02-20T17:43:07.828Z"
   },
   {
    "duration": 3,
    "start_time": "2023-02-20T17:43:08.974Z"
   },
   {
    "duration": 815,
    "start_time": "2023-02-20T17:43:08.978Z"
   },
   {
    "duration": 15,
    "start_time": "2023-02-20T17:43:09.795Z"
   },
   {
    "duration": 12,
    "start_time": "2023-02-20T17:43:09.811Z"
   },
   {
    "duration": 5,
    "start_time": "2023-02-20T17:43:09.825Z"
   },
   {
    "duration": 5,
    "start_time": "2023-02-20T17:43:09.832Z"
   },
   {
    "duration": 13,
    "start_time": "2023-02-20T17:43:09.839Z"
   },
   {
    "duration": 15,
    "start_time": "2023-02-20T17:43:09.854Z"
   },
   {
    "duration": 6,
    "start_time": "2023-02-20T17:43:09.872Z"
   },
   {
    "duration": 14,
    "start_time": "2023-02-20T17:43:09.880Z"
   },
   {
    "duration": 26,
    "start_time": "2023-02-20T17:43:09.896Z"
   },
   {
    "duration": 11,
    "start_time": "2023-02-20T17:43:09.923Z"
   },
   {
    "duration": 10,
    "start_time": "2023-02-20T17:43:09.961Z"
   },
   {
    "duration": 12,
    "start_time": "2023-02-20T17:43:09.972Z"
   },
   {
    "duration": 6,
    "start_time": "2023-02-20T17:43:09.985Z"
   },
   {
    "duration": 8,
    "start_time": "2023-02-20T17:43:09.992Z"
   },
   {
    "duration": 11,
    "start_time": "2023-02-20T17:43:10.001Z"
   },
   {
    "duration": 552,
    "start_time": "2023-02-20T17:43:10.013Z"
   },
   {
    "duration": 231,
    "start_time": "2023-02-20T17:43:10.567Z"
   },
   {
    "duration": 14,
    "start_time": "2023-02-20T17:43:10.800Z"
   },
   {
    "duration": 14,
    "start_time": "2023-02-20T17:43:10.816Z"
   },
   {
    "duration": 31,
    "start_time": "2023-02-20T17:43:10.832Z"
   },
   {
    "duration": 8,
    "start_time": "2023-02-20T17:43:10.865Z"
   },
   {
    "duration": 16,
    "start_time": "2023-02-20T17:43:10.875Z"
   },
   {
    "duration": 27,
    "start_time": "2023-02-20T17:43:10.892Z"
   },
   {
    "duration": 7,
    "start_time": "2023-02-20T17:43:10.921Z"
   },
   {
    "duration": 14,
    "start_time": "2023-02-20T17:43:10.933Z"
   },
   {
    "duration": 15,
    "start_time": "2023-02-20T17:43:10.949Z"
   },
   {
    "duration": 11,
    "start_time": "2023-02-20T17:43:10.966Z"
   },
   {
    "duration": 9,
    "start_time": "2023-02-20T17:43:10.979Z"
   },
   {
    "duration": 22,
    "start_time": "2023-02-20T17:43:10.990Z"
   },
   {
    "duration": 67,
    "start_time": "2023-02-20T17:43:11.014Z"
   },
   {
    "duration": 8,
    "start_time": "2023-02-20T17:43:11.083Z"
   },
   {
    "duration": 19,
    "start_time": "2023-02-20T17:43:11.093Z"
   },
   {
    "duration": 11,
    "start_time": "2023-02-20T17:43:11.114Z"
   },
   {
    "duration": 255,
    "start_time": "2023-02-20T17:43:11.127Z"
   },
   {
    "duration": 257,
    "start_time": "2023-02-20T17:43:11.383Z"
   },
   {
    "duration": 537,
    "start_time": "2023-02-20T17:43:11.642Z"
   },
   {
    "duration": 354,
    "start_time": "2023-02-20T17:43:12.181Z"
   },
   {
    "duration": 329,
    "start_time": "2023-02-20T17:43:12.537Z"
   },
   {
    "duration": 289,
    "start_time": "2023-02-20T17:43:12.868Z"
   },
   {
    "duration": 518,
    "start_time": "2023-02-20T17:43:13.161Z"
   },
   {
    "duration": 590,
    "start_time": "2023-02-20T17:43:13.681Z"
   },
   {
    "duration": 1201,
    "start_time": "2023-02-20T17:43:14.273Z"
   },
   {
    "duration": 349,
    "start_time": "2023-02-20T17:43:15.476Z"
   },
   {
    "duration": 20,
    "start_time": "2023-02-20T17:43:15.827Z"
   },
   {
    "duration": 29,
    "start_time": "2023-02-20T17:43:15.848Z"
   },
   {
    "duration": 4,
    "start_time": "2023-02-20T17:43:15.878Z"
   },
   {
    "duration": 11,
    "start_time": "2023-02-20T17:43:15.884Z"
   },
   {
    "duration": 31,
    "start_time": "2023-02-20T17:43:15.897Z"
   },
   {
    "duration": 4,
    "start_time": "2023-02-20T17:43:15.930Z"
   },
   {
    "duration": 31,
    "start_time": "2023-02-20T17:43:15.935Z"
   },
   {
    "duration": 26,
    "start_time": "2023-02-20T17:43:15.968Z"
   },
   {
    "duration": 72,
    "start_time": "2023-02-20T17:43:15.995Z"
   },
   {
    "duration": 5,
    "start_time": "2023-02-20T17:43:16.068Z"
   },
   {
    "duration": 8,
    "start_time": "2023-02-20T17:43:16.074Z"
   },
   {
    "duration": 16,
    "start_time": "2023-02-20T17:43:16.084Z"
   },
   {
    "duration": 10,
    "start_time": "2023-02-20T17:43:16.101Z"
   },
   {
    "duration": 5,
    "start_time": "2023-02-20T17:43:16.112Z"
   },
   {
    "duration": 5,
    "start_time": "2023-02-20T17:43:16.119Z"
   },
   {
    "duration": 47,
    "start_time": "2023-02-20T17:43:16.126Z"
   },
   {
    "duration": 10,
    "start_time": "2023-02-20T17:43:16.175Z"
   },
   {
    "duration": 8,
    "start_time": "2023-02-20T17:43:16.187Z"
   },
   {
    "duration": 9,
    "start_time": "2023-02-20T17:43:16.197Z"
   },
   {
    "duration": 376,
    "start_time": "2023-02-20T17:45:14.581Z"
   },
   {
    "duration": 1109,
    "start_time": "2023-02-20T17:45:23.921Z"
   },
   {
    "duration": 2,
    "start_time": "2023-02-20T17:45:25.032Z"
   },
   {
    "duration": 815,
    "start_time": "2023-02-20T17:45:25.036Z"
   },
   {
    "duration": 15,
    "start_time": "2023-02-20T17:45:25.853Z"
   },
   {
    "duration": 12,
    "start_time": "2023-02-20T17:45:25.869Z"
   },
   {
    "duration": 3,
    "start_time": "2023-02-20T17:45:25.882Z"
   },
   {
    "duration": 8,
    "start_time": "2023-02-20T17:45:25.887Z"
   },
   {
    "duration": 8,
    "start_time": "2023-02-20T17:45:25.896Z"
   },
   {
    "duration": 29,
    "start_time": "2023-02-20T17:45:25.906Z"
   },
   {
    "duration": 24,
    "start_time": "2023-02-20T17:45:25.938Z"
   },
   {
    "duration": 10,
    "start_time": "2023-02-20T17:45:25.964Z"
   },
   {
    "duration": 30,
    "start_time": "2023-02-20T17:45:25.975Z"
   },
   {
    "duration": 10,
    "start_time": "2023-02-20T17:45:26.007Z"
   },
   {
    "duration": 9,
    "start_time": "2023-02-20T17:45:26.019Z"
   },
   {
    "duration": 39,
    "start_time": "2023-02-20T17:45:26.029Z"
   },
   {
    "duration": 6,
    "start_time": "2023-02-20T17:45:26.069Z"
   },
   {
    "duration": 10,
    "start_time": "2023-02-20T17:45:26.076Z"
   },
   {
    "duration": 8,
    "start_time": "2023-02-20T17:45:26.088Z"
   },
   {
    "duration": 544,
    "start_time": "2023-02-20T17:45:26.097Z"
   },
   {
    "duration": 220,
    "start_time": "2023-02-20T17:45:26.642Z"
   },
   {
    "duration": 9,
    "start_time": "2023-02-20T17:45:26.863Z"
   },
   {
    "duration": 8,
    "start_time": "2023-02-20T17:45:26.874Z"
   },
   {
    "duration": 12,
    "start_time": "2023-02-20T17:45:26.883Z"
   },
   {
    "duration": 7,
    "start_time": "2023-02-20T17:45:26.897Z"
   },
   {
    "duration": 14,
    "start_time": "2023-02-20T17:45:26.906Z"
   },
   {
    "duration": 7,
    "start_time": "2023-02-20T17:45:26.921Z"
   },
   {
    "duration": 34,
    "start_time": "2023-02-20T17:45:26.929Z"
   },
   {
    "duration": 11,
    "start_time": "2023-02-20T17:45:26.968Z"
   },
   {
    "duration": 6,
    "start_time": "2023-02-20T17:45:26.980Z"
   },
   {
    "duration": 9,
    "start_time": "2023-02-20T17:45:26.987Z"
   },
   {
    "duration": 7,
    "start_time": "2023-02-20T17:45:26.997Z"
   },
   {
    "duration": 7,
    "start_time": "2023-02-20T17:45:27.005Z"
   },
   {
    "duration": 67,
    "start_time": "2023-02-20T17:45:27.014Z"
   },
   {
    "duration": 7,
    "start_time": "2023-02-20T17:45:27.082Z"
   },
   {
    "duration": 35,
    "start_time": "2023-02-20T17:45:27.091Z"
   },
   {
    "duration": 11,
    "start_time": "2023-02-20T17:45:27.128Z"
   },
   {
    "duration": 248,
    "start_time": "2023-02-20T17:45:27.141Z"
   },
   {
    "duration": 212,
    "start_time": "2023-02-20T17:45:27.391Z"
   },
   {
    "duration": 478,
    "start_time": "2023-02-20T17:45:27.605Z"
   },
   {
    "duration": 314,
    "start_time": "2023-02-20T17:45:28.085Z"
   },
   {
    "duration": 276,
    "start_time": "2023-02-20T17:45:28.401Z"
   },
   {
    "duration": 245,
    "start_time": "2023-02-20T17:45:28.678Z"
   },
   {
    "duration": 447,
    "start_time": "2023-02-20T17:45:28.925Z"
   },
   {
    "duration": 478,
    "start_time": "2023-02-20T17:45:29.373Z"
   },
   {
    "duration": 1121,
    "start_time": "2023-02-20T17:45:29.853Z"
   },
   {
    "duration": 342,
    "start_time": "2023-02-20T17:45:30.976Z"
   },
   {
    "duration": 20,
    "start_time": "2023-02-20T17:45:31.320Z"
   },
   {
    "duration": 35,
    "start_time": "2023-02-20T17:45:31.341Z"
   },
   {
    "duration": 5,
    "start_time": "2023-02-20T17:45:31.377Z"
   },
   {
    "duration": 19,
    "start_time": "2023-02-20T17:45:31.384Z"
   },
   {
    "duration": 28,
    "start_time": "2023-02-20T17:45:31.405Z"
   },
   {
    "duration": 6,
    "start_time": "2023-02-20T17:45:31.435Z"
   },
   {
    "duration": 29,
    "start_time": "2023-02-20T17:45:31.443Z"
   },
   {
    "duration": 36,
    "start_time": "2023-02-20T17:45:31.474Z"
   },
   {
    "duration": 64,
    "start_time": "2023-02-20T17:45:31.512Z"
   },
   {
    "duration": 5,
    "start_time": "2023-02-20T17:45:31.578Z"
   },
   {
    "duration": 19,
    "start_time": "2023-02-20T17:45:31.585Z"
   },
   {
    "duration": 17,
    "start_time": "2023-02-20T17:45:31.606Z"
   },
   {
    "duration": 24,
    "start_time": "2023-02-20T17:45:31.625Z"
   },
   {
    "duration": 22,
    "start_time": "2023-02-20T17:45:31.651Z"
   },
   {
    "duration": 19,
    "start_time": "2023-02-20T17:45:31.675Z"
   },
   {
    "duration": 19,
    "start_time": "2023-02-20T17:45:31.696Z"
   },
   {
    "duration": 13,
    "start_time": "2023-02-20T17:45:31.717Z"
   },
   {
    "duration": 23,
    "start_time": "2023-02-20T17:45:31.732Z"
   },
   {
    "duration": 29,
    "start_time": "2023-02-20T17:45:31.757Z"
   },
   {
    "duration": 515,
    "start_time": "2023-02-20T17:49:13.379Z"
   },
   {
    "duration": 1208,
    "start_time": "2023-02-20T17:49:24.464Z"
   },
   {
    "duration": 4,
    "start_time": "2023-02-20T17:49:25.674Z"
   },
   {
    "duration": 882,
    "start_time": "2023-02-20T17:49:25.679Z"
   },
   {
    "duration": 14,
    "start_time": "2023-02-20T17:49:26.563Z"
   },
   {
    "duration": 16,
    "start_time": "2023-02-20T17:49:26.579Z"
   },
   {
    "duration": 11,
    "start_time": "2023-02-20T17:49:26.596Z"
   },
   {
    "duration": 29,
    "start_time": "2023-02-20T17:49:26.608Z"
   },
   {
    "duration": 9,
    "start_time": "2023-02-20T17:49:26.639Z"
   },
   {
    "duration": 18,
    "start_time": "2023-02-20T17:49:26.649Z"
   },
   {
    "duration": 13,
    "start_time": "2023-02-20T17:49:26.670Z"
   },
   {
    "duration": 20,
    "start_time": "2023-02-20T17:49:26.684Z"
   },
   {
    "duration": 30,
    "start_time": "2023-02-20T17:49:26.705Z"
   },
   {
    "duration": 27,
    "start_time": "2023-02-20T17:49:26.736Z"
   },
   {
    "duration": 9,
    "start_time": "2023-02-20T17:49:26.764Z"
   },
   {
    "duration": 8,
    "start_time": "2023-02-20T17:49:26.775Z"
   },
   {
    "duration": 6,
    "start_time": "2023-02-20T17:49:26.784Z"
   },
   {
    "duration": 10,
    "start_time": "2023-02-20T17:49:26.791Z"
   },
   {
    "duration": 9,
    "start_time": "2023-02-20T17:49:26.802Z"
   },
   {
    "duration": 532,
    "start_time": "2023-02-20T17:49:26.813Z"
   },
   {
    "duration": 224,
    "start_time": "2023-02-20T17:49:27.346Z"
   },
   {
    "duration": 9,
    "start_time": "2023-02-20T17:49:27.572Z"
   },
   {
    "duration": 18,
    "start_time": "2023-02-20T17:49:27.582Z"
   },
   {
    "duration": 10,
    "start_time": "2023-02-20T17:49:27.602Z"
   },
   {
    "duration": 6,
    "start_time": "2023-02-20T17:49:27.613Z"
   },
   {
    "duration": 9,
    "start_time": "2023-02-20T17:49:27.620Z"
   },
   {
    "duration": 8,
    "start_time": "2023-02-20T17:49:27.631Z"
   },
   {
    "duration": 23,
    "start_time": "2023-02-20T17:49:27.641Z"
   },
   {
    "duration": 17,
    "start_time": "2023-02-20T17:49:27.668Z"
   },
   {
    "duration": 6,
    "start_time": "2023-02-20T17:49:27.687Z"
   },
   {
    "duration": 6,
    "start_time": "2023-02-20T17:49:27.694Z"
   },
   {
    "duration": 5,
    "start_time": "2023-02-20T17:49:27.702Z"
   },
   {
    "duration": 7,
    "start_time": "2023-02-20T17:49:27.709Z"
   },
   {
    "duration": 49,
    "start_time": "2023-02-20T17:49:27.717Z"
   },
   {
    "duration": 6,
    "start_time": "2023-02-20T17:49:27.767Z"
   },
   {
    "duration": 12,
    "start_time": "2023-02-20T17:49:27.774Z"
   },
   {
    "duration": 11,
    "start_time": "2023-02-20T17:49:27.788Z"
   },
   {
    "duration": 235,
    "start_time": "2023-02-20T17:49:27.801Z"
   },
   {
    "duration": 225,
    "start_time": "2023-02-20T17:49:28.038Z"
   },
   {
    "duration": 481,
    "start_time": "2023-02-20T17:49:28.265Z"
   },
   {
    "duration": 344,
    "start_time": "2023-02-20T17:49:28.748Z"
   },
   {
    "duration": 261,
    "start_time": "2023-02-20T17:49:29.095Z"
   },
   {
    "duration": 475,
    "start_time": "2023-02-20T17:49:29.360Z"
   },
   {
    "duration": 493,
    "start_time": "2023-02-20T17:49:29.837Z"
   },
   {
    "duration": 1047,
    "start_time": "2023-02-20T17:49:30.331Z"
   },
   {
    "duration": 317,
    "start_time": "2023-02-20T17:49:31.380Z"
   },
   {
    "duration": 19,
    "start_time": "2023-02-20T17:49:31.698Z"
   },
   {
    "duration": 132,
    "start_time": "2023-02-20T17:49:31.719Z"
   },
   {
    "duration": 10,
    "start_time": "2023-02-20T17:49:31.853Z"
   },
   {
    "duration": 16,
    "start_time": "2023-02-20T17:49:31.865Z"
   },
   {
    "duration": 35,
    "start_time": "2023-02-20T17:49:31.882Z"
   },
   {
    "duration": 12,
    "start_time": "2023-02-20T17:49:31.918Z"
   },
   {
    "duration": 28,
    "start_time": "2023-02-20T17:49:31.932Z"
   },
   {
    "duration": 42,
    "start_time": "2023-02-20T17:49:31.962Z"
   },
   {
    "duration": 78,
    "start_time": "2023-02-20T17:49:32.005Z"
   },
   {
    "duration": 5,
    "start_time": "2023-02-20T17:49:32.085Z"
   },
   {
    "duration": 16,
    "start_time": "2023-02-20T17:49:32.091Z"
   },
   {
    "duration": 22,
    "start_time": "2023-02-20T17:49:32.109Z"
   },
   {
    "duration": 39,
    "start_time": "2023-02-20T17:49:32.133Z"
   },
   {
    "duration": 4,
    "start_time": "2023-02-20T17:49:32.174Z"
   },
   {
    "duration": 25,
    "start_time": "2023-02-20T17:49:32.179Z"
   },
   {
    "duration": 20,
    "start_time": "2023-02-20T17:49:32.206Z"
   },
   {
    "duration": 11,
    "start_time": "2023-02-20T17:49:32.227Z"
   },
   {
    "duration": 27,
    "start_time": "2023-02-20T17:49:32.239Z"
   },
   {
    "duration": 25,
    "start_time": "2023-02-20T17:49:32.268Z"
   },
   {
    "duration": 1148,
    "start_time": "2023-02-20T18:08:56.942Z"
   },
   {
    "duration": 4,
    "start_time": "2023-02-20T18:08:58.091Z"
   },
   {
    "duration": 1053,
    "start_time": "2023-02-20T18:08:58.096Z"
   },
   {
    "duration": 16,
    "start_time": "2023-02-20T18:08:59.151Z"
   },
   {
    "duration": 26,
    "start_time": "2023-02-20T18:08:59.168Z"
   },
   {
    "duration": 3,
    "start_time": "2023-02-20T18:08:59.196Z"
   },
   {
    "duration": 25,
    "start_time": "2023-02-20T18:08:59.201Z"
   },
   {
    "duration": 8,
    "start_time": "2023-02-20T18:08:59.228Z"
   },
   {
    "duration": 12,
    "start_time": "2023-02-20T18:08:59.238Z"
   },
   {
    "duration": 27,
    "start_time": "2023-02-20T18:08:59.254Z"
   },
   {
    "duration": 13,
    "start_time": "2023-02-20T18:08:59.283Z"
   },
   {
    "duration": 29,
    "start_time": "2023-02-20T18:08:59.298Z"
   },
   {
    "duration": 12,
    "start_time": "2023-02-20T18:08:59.329Z"
   },
   {
    "duration": 27,
    "start_time": "2023-02-20T18:08:59.342Z"
   },
   {
    "duration": 9,
    "start_time": "2023-02-20T18:08:59.373Z"
   },
   {
    "duration": 8,
    "start_time": "2023-02-20T18:08:59.383Z"
   },
   {
    "duration": 10,
    "start_time": "2023-02-20T18:08:59.392Z"
   },
   {
    "duration": 10,
    "start_time": "2023-02-20T18:08:59.404Z"
   },
   {
    "duration": 564,
    "start_time": "2023-02-20T18:08:59.415Z"
   },
   {
    "duration": 236,
    "start_time": "2023-02-20T18:08:59.981Z"
   },
   {
    "duration": 13,
    "start_time": "2023-02-20T18:09:00.219Z"
   },
   {
    "duration": 11,
    "start_time": "2023-02-20T18:09:00.234Z"
   },
   {
    "duration": 35,
    "start_time": "2023-02-20T18:09:00.247Z"
   },
   {
    "duration": 14,
    "start_time": "2023-02-20T18:09:00.284Z"
   },
   {
    "duration": 17,
    "start_time": "2023-02-20T18:09:00.300Z"
   },
   {
    "duration": 28,
    "start_time": "2023-02-20T18:09:00.319Z"
   },
   {
    "duration": 19,
    "start_time": "2023-02-20T18:09:00.348Z"
   },
   {
    "duration": 26,
    "start_time": "2023-02-20T18:09:00.372Z"
   },
   {
    "duration": 23,
    "start_time": "2023-02-20T18:09:00.399Z"
   },
   {
    "duration": 31,
    "start_time": "2023-02-20T18:09:00.424Z"
   },
   {
    "duration": 68,
    "start_time": "2023-02-20T18:09:00.457Z"
   },
   {
    "duration": 26,
    "start_time": "2023-02-20T18:09:00.527Z"
   },
   {
    "duration": 74,
    "start_time": "2023-02-20T18:09:00.555Z"
   },
   {
    "duration": 10,
    "start_time": "2023-02-20T18:09:00.631Z"
   },
   {
    "duration": 59,
    "start_time": "2023-02-20T18:09:00.643Z"
   },
   {
    "duration": 39,
    "start_time": "2023-02-20T18:09:00.704Z"
   },
   {
    "duration": 274,
    "start_time": "2023-02-20T18:09:00.745Z"
   },
   {
    "duration": 233,
    "start_time": "2023-02-20T18:09:01.020Z"
   },
   {
    "duration": 551,
    "start_time": "2023-02-20T18:09:01.255Z"
   },
   {
    "duration": 385,
    "start_time": "2023-02-20T18:09:01.808Z"
   },
   {
    "duration": 292,
    "start_time": "2023-02-20T18:09:02.195Z"
   },
   {
    "duration": 567,
    "start_time": "2023-02-20T18:09:02.488Z"
   },
   {
    "duration": 588,
    "start_time": "2023-02-20T18:09:03.060Z"
   },
   {
    "duration": 1130,
    "start_time": "2023-02-20T18:09:03.650Z"
   },
   {
    "duration": 388,
    "start_time": "2023-02-20T18:09:04.783Z"
   },
   {
    "duration": 19,
    "start_time": "2023-02-20T18:09:05.174Z"
   },
   {
    "duration": 125,
    "start_time": "2023-02-20T18:09:05.194Z"
   },
   {
    "duration": 4,
    "start_time": "2023-02-20T18:09:05.320Z"
   },
   {
    "duration": 13,
    "start_time": "2023-02-20T18:09:05.325Z"
   },
   {
    "duration": 55,
    "start_time": "2023-02-20T18:09:05.339Z"
   },
   {
    "duration": 19,
    "start_time": "2023-02-20T18:09:05.396Z"
   },
   {
    "duration": 31,
    "start_time": "2023-02-20T18:09:05.416Z"
   },
   {
    "duration": 31,
    "start_time": "2023-02-20T18:09:05.449Z"
   },
   {
    "duration": 63,
    "start_time": "2023-02-20T18:09:05.482Z"
   },
   {
    "duration": 32,
    "start_time": "2023-02-20T18:09:05.547Z"
   },
   {
    "duration": 28,
    "start_time": "2023-02-20T18:09:05.581Z"
   },
   {
    "duration": 12,
    "start_time": "2023-02-20T18:09:05.611Z"
   },
   {
    "duration": 17,
    "start_time": "2023-02-20T18:09:05.624Z"
   },
   {
    "duration": 7,
    "start_time": "2023-02-20T18:09:05.643Z"
   },
   {
    "duration": 19,
    "start_time": "2023-02-20T18:09:05.652Z"
   },
   {
    "duration": 22,
    "start_time": "2023-02-20T18:09:05.672Z"
   },
   {
    "duration": 13,
    "start_time": "2023-02-20T18:09:05.696Z"
   },
   {
    "duration": 11,
    "start_time": "2023-02-20T18:09:05.711Z"
   },
   {
    "duration": 49,
    "start_time": "2023-02-20T18:09:05.724Z"
   },
   {
    "duration": 1303,
    "start_time": "2023-02-20T19:54:00.046Z"
   },
   {
    "duration": 3,
    "start_time": "2023-02-20T19:54:01.351Z"
   },
   {
    "duration": 884,
    "start_time": "2023-02-20T19:54:01.365Z"
   },
   {
    "duration": 19,
    "start_time": "2023-02-20T19:54:02.251Z"
   },
   {
    "duration": 35,
    "start_time": "2023-02-20T19:54:02.272Z"
   },
   {
    "duration": 4,
    "start_time": "2023-02-20T19:54:02.309Z"
   },
   {
    "duration": 19,
    "start_time": "2023-02-20T19:54:02.314Z"
   },
   {
    "duration": 21,
    "start_time": "2023-02-20T19:54:02.335Z"
   },
   {
    "duration": 49,
    "start_time": "2023-02-20T19:54:02.358Z"
   },
   {
    "duration": 11,
    "start_time": "2023-02-20T19:54:02.409Z"
   },
   {
    "duration": 20,
    "start_time": "2023-02-20T19:54:02.422Z"
   },
   {
    "duration": 36,
    "start_time": "2023-02-20T19:54:02.444Z"
   },
   {
    "duration": 37,
    "start_time": "2023-02-20T19:54:02.482Z"
   },
   {
    "duration": 10,
    "start_time": "2023-02-20T19:54:02.521Z"
   },
   {
    "duration": 11,
    "start_time": "2023-02-20T19:54:02.533Z"
   },
   {
    "duration": 9,
    "start_time": "2023-02-20T19:54:02.546Z"
   },
   {
    "duration": 37,
    "start_time": "2023-02-20T19:54:02.557Z"
   },
   {
    "duration": 32,
    "start_time": "2023-02-20T19:54:02.596Z"
   },
   {
    "duration": 604,
    "start_time": "2023-02-20T19:54:02.630Z"
   },
   {
    "duration": 290,
    "start_time": "2023-02-20T19:54:03.237Z"
   },
   {
    "duration": 10,
    "start_time": "2023-02-20T19:54:03.529Z"
   },
   {
    "duration": 20,
    "start_time": "2023-02-20T19:54:03.541Z"
   },
   {
    "duration": 43,
    "start_time": "2023-02-20T19:54:03.563Z"
   },
   {
    "duration": 20,
    "start_time": "2023-02-20T19:54:03.608Z"
   },
   {
    "duration": 28,
    "start_time": "2023-02-20T19:54:03.630Z"
   },
   {
    "duration": 32,
    "start_time": "2023-02-20T19:54:03.660Z"
   },
   {
    "duration": 12,
    "start_time": "2023-02-20T19:54:03.696Z"
   },
   {
    "duration": 11,
    "start_time": "2023-02-20T19:54:03.713Z"
   },
   {
    "duration": 75,
    "start_time": "2023-02-20T19:54:03.726Z"
   },
   {
    "duration": 34,
    "start_time": "2023-02-20T19:54:03.803Z"
   },
   {
    "duration": 18,
    "start_time": "2023-02-20T19:54:03.839Z"
   },
   {
    "duration": 48,
    "start_time": "2023-02-20T19:54:03.858Z"
   },
   {
    "duration": 37,
    "start_time": "2023-02-20T19:54:03.908Z"
   },
   {
    "duration": 6,
    "start_time": "2023-02-20T19:54:03.946Z"
   },
   {
    "duration": 43,
    "start_time": "2023-02-20T19:54:03.953Z"
   },
   {
    "duration": 17,
    "start_time": "2023-02-20T19:54:03.997Z"
   },
   {
    "duration": 270,
    "start_time": "2023-02-20T19:54:04.016Z"
   },
   {
    "duration": 305,
    "start_time": "2023-02-20T19:54:04.289Z"
   },
   {
    "duration": 639,
    "start_time": "2023-02-20T19:54:04.596Z"
   },
   {
    "duration": 374,
    "start_time": "2023-02-20T19:54:05.236Z"
   },
   {
    "duration": 287,
    "start_time": "2023-02-20T19:54:05.612Z"
   },
   {
    "duration": 587,
    "start_time": "2023-02-20T19:54:05.901Z"
   },
   {
    "duration": 568,
    "start_time": "2023-02-20T19:54:06.491Z"
   },
   {
    "duration": 1127,
    "start_time": "2023-02-20T19:54:07.071Z"
   },
   {
    "duration": 370,
    "start_time": "2023-02-20T19:54:08.201Z"
   },
   {
    "duration": 35,
    "start_time": "2023-02-20T19:54:08.575Z"
   },
   {
    "duration": 136,
    "start_time": "2023-02-20T19:54:08.614Z"
   },
   {
    "duration": 4,
    "start_time": "2023-02-20T19:54:08.751Z"
   },
   {
    "duration": 13,
    "start_time": "2023-02-20T19:54:08.761Z"
   },
   {
    "duration": 46,
    "start_time": "2023-02-20T19:54:08.775Z"
   },
   {
    "duration": 4,
    "start_time": "2023-02-20T19:54:08.823Z"
   },
   {
    "duration": 13,
    "start_time": "2023-02-20T19:54:08.828Z"
   },
   {
    "duration": 44,
    "start_time": "2023-02-20T19:54:08.842Z"
   },
   {
    "duration": 65,
    "start_time": "2023-02-20T19:54:08.892Z"
   },
   {
    "duration": 9,
    "start_time": "2023-02-20T19:54:08.958Z"
   },
   {
    "duration": 33,
    "start_time": "2023-02-20T19:54:08.968Z"
   },
   {
    "duration": 12,
    "start_time": "2023-02-20T19:54:09.003Z"
   },
   {
    "duration": 10,
    "start_time": "2023-02-20T19:54:09.016Z"
   },
   {
    "duration": 4,
    "start_time": "2023-02-20T19:54:09.028Z"
   },
   {
    "duration": 11,
    "start_time": "2023-02-20T19:54:09.033Z"
   },
   {
    "duration": 10,
    "start_time": "2023-02-20T19:54:09.046Z"
   },
   {
    "duration": 45,
    "start_time": "2023-02-20T19:54:09.058Z"
   },
   {
    "duration": 8,
    "start_time": "2023-02-20T19:54:09.105Z"
   },
   {
    "duration": 9,
    "start_time": "2023-02-20T19:54:09.115Z"
   },
   {
    "duration": 54,
    "start_time": "2023-02-21T12:32:49.528Z"
   },
   {
    "duration": 1793,
    "start_time": "2023-02-21T12:32:55.470Z"
   },
   {
    "duration": 4,
    "start_time": "2023-02-21T12:32:57.266Z"
   },
   {
    "duration": 886,
    "start_time": "2023-02-21T12:32:57.271Z"
   },
   {
    "duration": 17,
    "start_time": "2023-02-21T12:32:58.160Z"
   },
   {
    "duration": 13,
    "start_time": "2023-02-21T12:32:58.179Z"
   },
   {
    "duration": 3,
    "start_time": "2023-02-21T12:32:58.194Z"
   },
   {
    "duration": 6,
    "start_time": "2023-02-21T12:32:58.199Z"
   },
   {
    "duration": 42,
    "start_time": "2023-02-21T12:32:58.207Z"
   },
   {
    "duration": 13,
    "start_time": "2023-02-21T12:32:58.250Z"
   },
   {
    "duration": 49,
    "start_time": "2023-02-21T12:32:58.266Z"
   },
   {
    "duration": 31,
    "start_time": "2023-02-21T12:32:58.318Z"
   },
   {
    "duration": 48,
    "start_time": "2023-02-21T12:32:58.351Z"
   },
   {
    "duration": 16,
    "start_time": "2023-02-21T12:32:58.402Z"
   },
   {
    "duration": 29,
    "start_time": "2023-02-21T12:32:58.421Z"
   },
   {
    "duration": 14,
    "start_time": "2023-02-21T12:32:58.452Z"
   },
   {
    "duration": 11,
    "start_time": "2023-02-21T12:32:58.468Z"
   },
   {
    "duration": 25,
    "start_time": "2023-02-21T12:32:58.481Z"
   },
   {
    "duration": 30,
    "start_time": "2023-02-21T12:32:58.509Z"
   },
   {
    "duration": 572,
    "start_time": "2023-02-21T12:32:58.541Z"
   },
   {
    "duration": 247,
    "start_time": "2023-02-21T12:32:59.115Z"
   },
   {
    "duration": 10,
    "start_time": "2023-02-21T12:32:59.364Z"
   },
   {
    "duration": 15,
    "start_time": "2023-02-21T12:32:59.378Z"
   },
   {
    "duration": 12,
    "start_time": "2023-02-21T12:32:59.395Z"
   },
   {
    "duration": 12,
    "start_time": "2023-02-21T12:32:59.409Z"
   },
   {
    "duration": 8,
    "start_time": "2023-02-21T12:32:59.448Z"
   },
   {
    "duration": 8,
    "start_time": "2023-02-21T12:32:59.458Z"
   },
   {
    "duration": 6,
    "start_time": "2023-02-21T12:32:59.467Z"
   },
   {
    "duration": 12,
    "start_time": "2023-02-21T12:32:59.479Z"
   },
   {
    "duration": 8,
    "start_time": "2023-02-21T12:32:59.492Z"
   },
   {
    "duration": 8,
    "start_time": "2023-02-21T12:32:59.502Z"
   },
   {
    "duration": 6,
    "start_time": "2023-02-21T12:32:59.549Z"
   },
   {
    "duration": 10,
    "start_time": "2023-02-21T12:32:59.556Z"
   },
   {
    "duration": 38,
    "start_time": "2023-02-21T12:32:59.567Z"
   },
   {
    "duration": 7,
    "start_time": "2023-02-21T12:32:59.607Z"
   },
   {
    "duration": 46,
    "start_time": "2023-02-21T12:32:59.615Z"
   },
   {
    "duration": 9,
    "start_time": "2023-02-21T12:32:59.663Z"
   },
   {
    "duration": 257,
    "start_time": "2023-02-21T12:32:59.674Z"
   },
   {
    "duration": 272,
    "start_time": "2023-02-21T12:32:59.933Z"
   },
   {
    "duration": 567,
    "start_time": "2023-02-21T12:33:00.208Z"
   },
   {
    "duration": 408,
    "start_time": "2023-02-21T12:33:00.777Z"
   },
   {
    "duration": 307,
    "start_time": "2023-02-21T12:33:01.187Z"
   },
   {
    "duration": 635,
    "start_time": "2023-02-21T12:33:01.496Z"
   },
   {
    "duration": 678,
    "start_time": "2023-02-21T12:33:02.134Z"
   },
   {
    "duration": 1252,
    "start_time": "2023-02-21T12:33:02.814Z"
   },
   {
    "duration": 335,
    "start_time": "2023-02-21T12:33:04.068Z"
   },
   {
    "duration": 22,
    "start_time": "2023-02-21T12:33:04.404Z"
   },
   {
    "duration": 148,
    "start_time": "2023-02-21T12:33:04.428Z"
   },
   {
    "duration": 5,
    "start_time": "2023-02-21T12:33:04.579Z"
   },
   {
    "duration": 11,
    "start_time": "2023-02-21T12:33:04.585Z"
   },
   {
    "duration": 24,
    "start_time": "2023-02-21T12:33:04.598Z"
   },
   {
    "duration": 5,
    "start_time": "2023-02-21T12:33:04.623Z"
   },
   {
    "duration": 14,
    "start_time": "2023-02-21T12:33:04.648Z"
   },
   {
    "duration": 38,
    "start_time": "2023-02-21T12:33:04.664Z"
   },
   {
    "duration": 72,
    "start_time": "2023-02-21T12:33:04.705Z"
   },
   {
    "duration": 5,
    "start_time": "2023-02-21T12:33:04.779Z"
   },
   {
    "duration": 7,
    "start_time": "2023-02-21T12:33:04.786Z"
   },
   {
    "duration": 7,
    "start_time": "2023-02-21T12:33:04.795Z"
   },
   {
    "duration": 14,
    "start_time": "2023-02-21T12:33:04.803Z"
   },
   {
    "duration": 32,
    "start_time": "2023-02-21T12:33:04.818Z"
   },
   {
    "duration": 6,
    "start_time": "2023-02-21T12:33:04.852Z"
   },
   {
    "duration": 17,
    "start_time": "2023-02-21T12:33:04.860Z"
   },
   {
    "duration": 13,
    "start_time": "2023-02-21T12:33:04.880Z"
   },
   {
    "duration": 12,
    "start_time": "2023-02-21T12:33:04.895Z"
   },
   {
    "duration": 44,
    "start_time": "2023-02-21T12:33:04.909Z"
   },
   {
    "duration": 112,
    "start_time": "2023-02-21T15:51:34.724Z"
   },
   {
    "duration": 12,
    "start_time": "2023-02-21T15:51:47.243Z"
   },
   {
    "duration": 16,
    "start_time": "2023-02-21T15:54:43.414Z"
   },
   {
    "duration": 15,
    "start_time": "2023-02-21T15:58:11.931Z"
   },
   {
    "duration": 57,
    "start_time": "2023-02-21T15:58:51.816Z"
   }
  ],
  "kernelspec": {
   "display_name": "Python 3 (ipykernel)",
   "language": "python",
   "name": "python3"
  },
  "language_info": {
   "codemirror_mode": {
    "name": "ipython",
    "version": 3
   },
   "file_extension": ".py",
   "mimetype": "text/x-python",
   "name": "python",
   "nbconvert_exporter": "python",
   "pygments_lexer": "ipython3",
   "version": "3.10.9"
  },
  "toc": {
   "base_numbering": 1,
   "nav_menu": {},
   "number_sections": true,
   "sideBar": true,
   "skip_h1_title": true,
   "title_cell": "Table of Contents",
   "title_sidebar": "Contents",
   "toc_cell": false,
   "toc_position": {
    "height": "calc(100% - 180px)",
    "left": "10px",
    "top": "150px",
    "width": "236.6px"
   },
   "toc_section_display": true,
   "toc_window_display": true
  }
 },
 "nbformat": 4,
 "nbformat_minor": 2
}
